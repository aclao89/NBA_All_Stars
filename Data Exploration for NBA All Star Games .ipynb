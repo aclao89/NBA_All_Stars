{
 "cells": [
  {
   "cell_type": "code",
   "execution_count": 2,
   "metadata": {},
   "outputs": [],
   "source": [
    "#Load libraries for analysis \n",
    "import pandas as pd \n",
    "import numpy as np\n",
    "import matplotlib.pyplot as plt \n",
    "import seaborn as sns \n",
    "import plotly\n",
    "import plotly.express as px\n",
    "import plotly.graph_objs as go\n",
    "from plotly.offline import iplot, init_notebook_mode\n",
    "import plotly.figure_factory as ff\n",
    "from plotly import subplots\n",
    "from plotly.subplots import make_subplots"
   ]
  },
  {
   "cell_type": "code",
   "execution_count": 143,
   "metadata": {},
   "outputs": [
    {
     "data": {
      "text/html": [
       "<div>\n",
       "<style scoped>\n",
       "    .dataframe tbody tr th:only-of-type {\n",
       "        vertical-align: middle;\n",
       "    }\n",
       "\n",
       "    .dataframe tbody tr th {\n",
       "        vertical-align: top;\n",
       "    }\n",
       "\n",
       "    .dataframe thead th {\n",
       "        text-align: right;\n",
       "    }\n",
       "</style>\n",
       "<table border=\"1\" class=\"dataframe\">\n",
       "  <thead>\n",
       "    <tr style=\"text-align: right;\">\n",
       "      <th></th>\n",
       "      <th>Year</th>\n",
       "      <th>Player</th>\n",
       "      <th>Pos</th>\n",
       "      <th>HT</th>\n",
       "      <th>HT.1</th>\n",
       "      <th>WT</th>\n",
       "      <th>Team</th>\n",
       "      <th>Selection Type</th>\n",
       "      <th>NBA Draft Status</th>\n",
       "      <th>Nationality</th>\n",
       "    </tr>\n",
       "  </thead>\n",
       "  <tbody>\n",
       "    <tr>\n",
       "      <th>0</th>\n",
       "      <td>2016</td>\n",
       "      <td>Stephen Curry</td>\n",
       "      <td>G</td>\n",
       "      <td>6'3</td>\n",
       "      <td>2017-06-03 00:00:00</td>\n",
       "      <td>190</td>\n",
       "      <td>Golden State Warriors</td>\n",
       "      <td>Western All-Star Fan Vote Selection</td>\n",
       "      <td>2009 Rnd 1 Pick 7</td>\n",
       "      <td>United States</td>\n",
       "    </tr>\n",
       "    <tr>\n",
       "      <th>1</th>\n",
       "      <td>2016</td>\n",
       "      <td>James Harden</td>\n",
       "      <td>SG</td>\n",
       "      <td>6'5</td>\n",
       "      <td>2017-06-05 00:00:00</td>\n",
       "      <td>220</td>\n",
       "      <td>Houston Rockets</td>\n",
       "      <td>Western All-Star Fan Vote Selection</td>\n",
       "      <td>2009 Rnd 1 Pick 3</td>\n",
       "      <td>United States</td>\n",
       "    </tr>\n",
       "    <tr>\n",
       "      <th>2</th>\n",
       "      <td>2016</td>\n",
       "      <td>Kevin Durant</td>\n",
       "      <td>SF</td>\n",
       "      <td>6'9</td>\n",
       "      <td>2017-06-09 00:00:00</td>\n",
       "      <td>240</td>\n",
       "      <td>Golden State Warriors</td>\n",
       "      <td>Western All-Star Fan Vote Selection</td>\n",
       "      <td>2007 Rnd 1 Pick 2</td>\n",
       "      <td>United States</td>\n",
       "    </tr>\n",
       "    <tr>\n",
       "      <th>3</th>\n",
       "      <td>2016</td>\n",
       "      <td>Kawhi Leonard</td>\n",
       "      <td>F</td>\n",
       "      <td>6'7</td>\n",
       "      <td>2017-06-07 00:00:00</td>\n",
       "      <td>230</td>\n",
       "      <td>San Antonio Spurs</td>\n",
       "      <td>Western All-Star Fan Vote Selection</td>\n",
       "      <td>2011 Rnd 1 Pick 15</td>\n",
       "      <td>United States</td>\n",
       "    </tr>\n",
       "    <tr>\n",
       "      <th>4</th>\n",
       "      <td>2016</td>\n",
       "      <td>Anthony Davis</td>\n",
       "      <td>PF</td>\n",
       "      <td>6'11</td>\n",
       "      <td>2017-06-11 00:00:00</td>\n",
       "      <td>253</td>\n",
       "      <td>New Orleans Pelicans</td>\n",
       "      <td>Western All-Star Fan Vote Selection</td>\n",
       "      <td>2012 Rnd 1 Pick 1</td>\n",
       "      <td>United States</td>\n",
       "    </tr>\n",
       "  </tbody>\n",
       "</table>\n",
       "</div>"
      ],
      "text/plain": [
       "   Year         Player Pos    HT                 HT.1   WT  \\\n",
       "0  2016  Stephen Curry   G   6'3  2017-06-03 00:00:00  190   \n",
       "1  2016   James Harden  SG   6'5  2017-06-05 00:00:00  220   \n",
       "2  2016   Kevin Durant  SF   6'9  2017-06-09 00:00:00  240   \n",
       "3  2016  Kawhi Leonard   F   6'7  2017-06-07 00:00:00  230   \n",
       "4  2016  Anthony Davis  PF  6'11  2017-06-11 00:00:00  253   \n",
       "\n",
       "                    Team                       Selection Type  \\\n",
       "0  Golden State Warriors  Western All-Star Fan Vote Selection   \n",
       "1        Houston Rockets  Western All-Star Fan Vote Selection   \n",
       "2  Golden State Warriors  Western All-Star Fan Vote Selection   \n",
       "3      San Antonio Spurs  Western All-Star Fan Vote Selection   \n",
       "4   New Orleans Pelicans  Western All-Star Fan Vote Selection   \n",
       "\n",
       "     NBA Draft Status    Nationality  \n",
       "0   2009 Rnd 1 Pick 7  United States  \n",
       "1   2009 Rnd 1 Pick 3  United States  \n",
       "2   2007 Rnd 1 Pick 2  United States  \n",
       "3  2011 Rnd 1 Pick 15  United States  \n",
       "4   2012 Rnd 1 Pick 1  United States  "
      ]
     },
     "execution_count": 143,
     "metadata": {},
     "output_type": "execute_result"
    }
   ],
   "source": [
    "#Load the dataset\n",
    "\n",
    "nba_df = pd.read_excel(\"./Resource/NBA All Star Games (1).xlsx\")\n",
    "nba_df.head()"
   ]
  },
  {
   "cell_type": "code",
   "execution_count": 144,
   "metadata": {},
   "outputs": [
    {
     "data": {
      "text/html": [
       "<div>\n",
       "<style scoped>\n",
       "    .dataframe tbody tr th:only-of-type {\n",
       "        vertical-align: middle;\n",
       "    }\n",
       "\n",
       "    .dataframe tbody tr th {\n",
       "        vertical-align: top;\n",
       "    }\n",
       "\n",
       "    .dataframe thead th {\n",
       "        text-align: right;\n",
       "    }\n",
       "</style>\n",
       "<table border=\"1\" class=\"dataframe\">\n",
       "  <thead>\n",
       "    <tr style=\"text-align: right;\">\n",
       "      <th></th>\n",
       "      <th>Year</th>\n",
       "      <th>Player</th>\n",
       "      <th>Pos</th>\n",
       "      <th>HT</th>\n",
       "      <th>WT</th>\n",
       "      <th>Team</th>\n",
       "      <th>Selection Type</th>\n",
       "      <th>NBA Draft Status</th>\n",
       "      <th>Nationality</th>\n",
       "    </tr>\n",
       "  </thead>\n",
       "  <tbody>\n",
       "    <tr>\n",
       "      <th>0</th>\n",
       "      <td>2016</td>\n",
       "      <td>Stephen Curry</td>\n",
       "      <td>G</td>\n",
       "      <td>6'3</td>\n",
       "      <td>190</td>\n",
       "      <td>Golden State Warriors</td>\n",
       "      <td>Western All-Star Fan Vote Selection</td>\n",
       "      <td>2009 Rnd 1 Pick 7</td>\n",
       "      <td>United States</td>\n",
       "    </tr>\n",
       "    <tr>\n",
       "      <th>1</th>\n",
       "      <td>2016</td>\n",
       "      <td>James Harden</td>\n",
       "      <td>SG</td>\n",
       "      <td>6'5</td>\n",
       "      <td>220</td>\n",
       "      <td>Houston Rockets</td>\n",
       "      <td>Western All-Star Fan Vote Selection</td>\n",
       "      <td>2009 Rnd 1 Pick 3</td>\n",
       "      <td>United States</td>\n",
       "    </tr>\n",
       "    <tr>\n",
       "      <th>2</th>\n",
       "      <td>2016</td>\n",
       "      <td>Kevin Durant</td>\n",
       "      <td>SF</td>\n",
       "      <td>6'9</td>\n",
       "      <td>240</td>\n",
       "      <td>Golden State Warriors</td>\n",
       "      <td>Western All-Star Fan Vote Selection</td>\n",
       "      <td>2007 Rnd 1 Pick 2</td>\n",
       "      <td>United States</td>\n",
       "    </tr>\n",
       "    <tr>\n",
       "      <th>3</th>\n",
       "      <td>2016</td>\n",
       "      <td>Kawhi Leonard</td>\n",
       "      <td>F</td>\n",
       "      <td>6'7</td>\n",
       "      <td>230</td>\n",
       "      <td>San Antonio Spurs</td>\n",
       "      <td>Western All-Star Fan Vote Selection</td>\n",
       "      <td>2011 Rnd 1 Pick 15</td>\n",
       "      <td>United States</td>\n",
       "    </tr>\n",
       "    <tr>\n",
       "      <th>4</th>\n",
       "      <td>2016</td>\n",
       "      <td>Anthony Davis</td>\n",
       "      <td>PF</td>\n",
       "      <td>6'11</td>\n",
       "      <td>253</td>\n",
       "      <td>New Orleans Pelicans</td>\n",
       "      <td>Western All-Star Fan Vote Selection</td>\n",
       "      <td>2012 Rnd 1 Pick 1</td>\n",
       "      <td>United States</td>\n",
       "    </tr>\n",
       "  </tbody>\n",
       "</table>\n",
       "</div>"
      ],
      "text/plain": [
       "   Year         Player Pos    HT   WT                   Team  \\\n",
       "0  2016  Stephen Curry   G   6'3  190  Golden State Warriors   \n",
       "1  2016   James Harden  SG   6'5  220        Houston Rockets   \n",
       "2  2016   Kevin Durant  SF   6'9  240  Golden State Warriors   \n",
       "3  2016  Kawhi Leonard   F   6'7  230      San Antonio Spurs   \n",
       "4  2016  Anthony Davis  PF  6'11  253   New Orleans Pelicans   \n",
       "\n",
       "                        Selection Type    NBA Draft Status    Nationality  \n",
       "0  Western All-Star Fan Vote Selection   2009 Rnd 1 Pick 7  United States  \n",
       "1  Western All-Star Fan Vote Selection   2009 Rnd 1 Pick 3  United States  \n",
       "2  Western All-Star Fan Vote Selection   2007 Rnd 1 Pick 2  United States  \n",
       "3  Western All-Star Fan Vote Selection  2011 Rnd 1 Pick 15  United States  \n",
       "4  Western All-Star Fan Vote Selection   2012 Rnd 1 Pick 1  United States  "
      ]
     },
     "execution_count": 144,
     "metadata": {},
     "output_type": "execute_result"
    }
   ],
   "source": [
    "#Drop HT.1 Column since it renders as date and not height\n",
    "\n",
    "nba_clean = nba_df.drop(['HT.1'], axis= 1)\n",
    "nba_clean.head()"
   ]
  },
  {
   "cell_type": "code",
   "execution_count": 145,
   "metadata": {},
   "outputs": [
    {
     "data": {
      "text/plain": [
       "439"
      ]
     },
     "execution_count": 145,
     "metadata": {},
     "output_type": "execute_result"
    }
   ],
   "source": [
    "#Check number of records \n",
    "\n",
    "len(nba_clean)\n"
   ]
  },
  {
   "cell_type": "code",
   "execution_count": 146,
   "metadata": {},
   "outputs": [
    {
     "name": "stdout",
     "output_type": "stream",
     "text": [
      "<class 'pandas.core.frame.DataFrame'>\n",
      "RangeIndex: 439 entries, 0 to 438\n",
      "Data columns (total 9 columns):\n",
      "Year                439 non-null int64\n",
      "Player              439 non-null object\n",
      "Pos                 439 non-null object\n",
      "HT                  439 non-null object\n",
      "WT                  439 non-null int64\n",
      "Team                439 non-null object\n",
      "Selection Type      439 non-null object\n",
      "NBA Draft Status    439 non-null object\n",
      "Nationality         439 non-null object\n",
      "dtypes: int64(2), object(7)\n",
      "memory usage: 30.9+ KB\n"
     ]
    }
   ],
   "source": [
    "#Examine data types of each column\n",
    "nba_clean.dtypes\n",
    "\n",
    "nba_clean.info()"
   ]
  },
  {
   "cell_type": "code",
   "execution_count": 7,
   "metadata": {},
   "outputs": [
    {
     "data": {
      "text/plain": [
       "Year                0\n",
       "Player              0\n",
       "Pos                 0\n",
       "HT                  0\n",
       "WT                  0\n",
       "Team                0\n",
       "Selection Type      0\n",
       "NBA Draft Status    0\n",
       "Nationality         0\n",
       "dtype: int64"
      ]
     },
     "execution_count": 7,
     "metadata": {},
     "output_type": "execute_result"
    }
   ],
   "source": [
    "#Check for null values \n",
    "nba_clean.isnull().sum()\n"
   ]
  },
  {
   "cell_type": "markdown",
   "metadata": {},
   "source": [
    "# Data Cleaning \n",
    "\n",
    "1. The NBA Draft Status can be separated into three different columns for better analysis: Draft Year, Round, Pick Number\n",
    "2. The Position column is inconsistent as well. There are different iterations for the same position and entry types (F-C vs. FC, both stand for forward-center)\n",
    "3. Some players were undrafted so will have to modify 'Round' column to have right values \n",
    "\n"
   ]
  },
  {
   "cell_type": "code",
   "execution_count": 147,
   "metadata": {},
   "outputs": [
    {
     "data": {
      "text/html": [
       "<div>\n",
       "<style scoped>\n",
       "    .dataframe tbody tr th:only-of-type {\n",
       "        vertical-align: middle;\n",
       "    }\n",
       "\n",
       "    .dataframe tbody tr th {\n",
       "        vertical-align: top;\n",
       "    }\n",
       "\n",
       "    .dataframe thead th {\n",
       "        text-align: right;\n",
       "    }\n",
       "</style>\n",
       "<table border=\"1\" class=\"dataframe\">\n",
       "  <thead>\n",
       "    <tr style=\"text-align: right;\">\n",
       "      <th></th>\n",
       "      <th>Year</th>\n",
       "      <th>Player</th>\n",
       "      <th>Pos</th>\n",
       "      <th>HT</th>\n",
       "      <th>WT</th>\n",
       "      <th>Team</th>\n",
       "      <th>Selection Type</th>\n",
       "      <th>NBA Draft Status</th>\n",
       "      <th>Nationality</th>\n",
       "      <th>Draft Year</th>\n",
       "      <th>Round</th>\n",
       "      <th>Pick</th>\n",
       "    </tr>\n",
       "  </thead>\n",
       "  <tbody>\n",
       "    <tr>\n",
       "      <th>0</th>\n",
       "      <td>2016</td>\n",
       "      <td>Stephen Curry</td>\n",
       "      <td>G</td>\n",
       "      <td>6'3</td>\n",
       "      <td>190</td>\n",
       "      <td>Golden State Warriors</td>\n",
       "      <td>Western All-Star Fan Vote Selection</td>\n",
       "      <td>2009 Rnd 1 Pick 7</td>\n",
       "      <td>United States</td>\n",
       "      <td>2009</td>\n",
       "      <td>1</td>\n",
       "      <td>7</td>\n",
       "    </tr>\n",
       "    <tr>\n",
       "      <th>1</th>\n",
       "      <td>2016</td>\n",
       "      <td>James Harden</td>\n",
       "      <td>SG</td>\n",
       "      <td>6'5</td>\n",
       "      <td>220</td>\n",
       "      <td>Houston Rockets</td>\n",
       "      <td>Western All-Star Fan Vote Selection</td>\n",
       "      <td>2009 Rnd 1 Pick 3</td>\n",
       "      <td>United States</td>\n",
       "      <td>2009</td>\n",
       "      <td>1</td>\n",
       "      <td>3</td>\n",
       "    </tr>\n",
       "    <tr>\n",
       "      <th>2</th>\n",
       "      <td>2016</td>\n",
       "      <td>Kevin Durant</td>\n",
       "      <td>SF</td>\n",
       "      <td>6'9</td>\n",
       "      <td>240</td>\n",
       "      <td>Golden State Warriors</td>\n",
       "      <td>Western All-Star Fan Vote Selection</td>\n",
       "      <td>2007 Rnd 1 Pick 2</td>\n",
       "      <td>United States</td>\n",
       "      <td>2007</td>\n",
       "      <td>1</td>\n",
       "      <td>2</td>\n",
       "    </tr>\n",
       "    <tr>\n",
       "      <th>3</th>\n",
       "      <td>2016</td>\n",
       "      <td>Kawhi Leonard</td>\n",
       "      <td>F</td>\n",
       "      <td>6'7</td>\n",
       "      <td>230</td>\n",
       "      <td>San Antonio Spurs</td>\n",
       "      <td>Western All-Star Fan Vote Selection</td>\n",
       "      <td>2011 Rnd 1 Pick 15</td>\n",
       "      <td>United States</td>\n",
       "      <td>2011</td>\n",
       "      <td>1</td>\n",
       "      <td>15</td>\n",
       "    </tr>\n",
       "    <tr>\n",
       "      <th>4</th>\n",
       "      <td>2016</td>\n",
       "      <td>Anthony Davis</td>\n",
       "      <td>PF</td>\n",
       "      <td>6'11</td>\n",
       "      <td>253</td>\n",
       "      <td>New Orleans Pelicans</td>\n",
       "      <td>Western All-Star Fan Vote Selection</td>\n",
       "      <td>2012 Rnd 1 Pick 1</td>\n",
       "      <td>United States</td>\n",
       "      <td>2012</td>\n",
       "      <td>1</td>\n",
       "      <td>1</td>\n",
       "    </tr>\n",
       "  </tbody>\n",
       "</table>\n",
       "</div>"
      ],
      "text/plain": [
       "   Year         Player Pos    HT   WT                   Team  \\\n",
       "0  2016  Stephen Curry   G   6'3  190  Golden State Warriors   \n",
       "1  2016   James Harden  SG   6'5  220        Houston Rockets   \n",
       "2  2016   Kevin Durant  SF   6'9  240  Golden State Warriors   \n",
       "3  2016  Kawhi Leonard   F   6'7  230      San Antonio Spurs   \n",
       "4  2016  Anthony Davis  PF  6'11  253   New Orleans Pelicans   \n",
       "\n",
       "                        Selection Type    NBA Draft Status    Nationality  \\\n",
       "0  Western All-Star Fan Vote Selection   2009 Rnd 1 Pick 7  United States   \n",
       "1  Western All-Star Fan Vote Selection   2009 Rnd 1 Pick 3  United States   \n",
       "2  Western All-Star Fan Vote Selection   2007 Rnd 1 Pick 2  United States   \n",
       "3  Western All-Star Fan Vote Selection  2011 Rnd 1 Pick 15  United States   \n",
       "4  Western All-Star Fan Vote Selection   2012 Rnd 1 Pick 1  United States   \n",
       "\n",
       "  Draft Year Round Pick  \n",
       "0       2009     1    7  \n",
       "1       2009     1    3  \n",
       "2       2007     1    2  \n",
       "3       2011     1   15  \n",
       "4       2012     1    1  "
      ]
     },
     "execution_count": 147,
     "metadata": {},
     "output_type": "execute_result"
    }
   ],
   "source": [
    "#Split the NBA Draft Status Column into three separate columns for better analysis \n",
    "nba_clean['Draft Year'] = nba_clean[\"NBA Draft Status\"].str.split(\" \").apply(lambda x:x[0])\n",
    "nba_clean['Round'] = nba_clean[\"NBA Draft Status\"].str.split(\" \").apply(lambda x:x[2])\n",
    "nba_clean['Pick'] = nba_clean[\"NBA Draft Status\"].str.split(\" \").apply(lambda x:x[-1])\n",
    "nba_clean['Round'] = np.where(nba_clean['Round'] == 'Draft,', 'Undrafted', nba_clean['Round'])\n",
    "\n",
    "\n",
    "nba_clean.head()"
   ]
  },
  {
   "cell_type": "code",
   "execution_count": 149,
   "metadata": {},
   "outputs": [
    {
     "data": {
      "text/html": [
       "<div>\n",
       "<style scoped>\n",
       "    .dataframe tbody tr th:only-of-type {\n",
       "        vertical-align: middle;\n",
       "    }\n",
       "\n",
       "    .dataframe tbody tr th {\n",
       "        vertical-align: top;\n",
       "    }\n",
       "\n",
       "    .dataframe thead th {\n",
       "        text-align: right;\n",
       "    }\n",
       "</style>\n",
       "<table border=\"1\" class=\"dataframe\">\n",
       "  <thead>\n",
       "    <tr style=\"text-align: right;\">\n",
       "      <th></th>\n",
       "      <th>Year</th>\n",
       "      <th>Player</th>\n",
       "      <th>Pos</th>\n",
       "      <th>HT</th>\n",
       "      <th>WT</th>\n",
       "      <th>Team</th>\n",
       "      <th>Selection Type</th>\n",
       "      <th>NBA Draft Status</th>\n",
       "      <th>Nationality</th>\n",
       "      <th>Draft Year</th>\n",
       "      <th>Round</th>\n",
       "      <th>Pick</th>\n",
       "    </tr>\n",
       "  </thead>\n",
       "  <tbody>\n",
       "    <tr>\n",
       "      <th>0</th>\n",
       "      <td>2016</td>\n",
       "      <td>Stephen Curry</td>\n",
       "      <td>G</td>\n",
       "      <td>6'3</td>\n",
       "      <td>190</td>\n",
       "      <td>Golden State Warriors</td>\n",
       "      <td>Western All-Star Fan Vote Selection</td>\n",
       "      <td>2009 Rnd 1 Pick 7</td>\n",
       "      <td>United States</td>\n",
       "      <td>2009</td>\n",
       "      <td>1</td>\n",
       "      <td>7</td>\n",
       "    </tr>\n",
       "    <tr>\n",
       "      <th>1</th>\n",
       "      <td>2016</td>\n",
       "      <td>James Harden</td>\n",
       "      <td>SG</td>\n",
       "      <td>6'5</td>\n",
       "      <td>220</td>\n",
       "      <td>Houston Rockets</td>\n",
       "      <td>Western All-Star Fan Vote Selection</td>\n",
       "      <td>2009 Rnd 1 Pick 3</td>\n",
       "      <td>United States</td>\n",
       "      <td>2009</td>\n",
       "      <td>1</td>\n",
       "      <td>3</td>\n",
       "    </tr>\n",
       "    <tr>\n",
       "      <th>2</th>\n",
       "      <td>2016</td>\n",
       "      <td>Kevin Durant</td>\n",
       "      <td>SF</td>\n",
       "      <td>6'9</td>\n",
       "      <td>240</td>\n",
       "      <td>Golden State Warriors</td>\n",
       "      <td>Western All-Star Fan Vote Selection</td>\n",
       "      <td>2007 Rnd 1 Pick 2</td>\n",
       "      <td>United States</td>\n",
       "      <td>2007</td>\n",
       "      <td>1</td>\n",
       "      <td>2</td>\n",
       "    </tr>\n",
       "    <tr>\n",
       "      <th>3</th>\n",
       "      <td>2016</td>\n",
       "      <td>Kawhi Leonard</td>\n",
       "      <td>F</td>\n",
       "      <td>6'7</td>\n",
       "      <td>230</td>\n",
       "      <td>San Antonio Spurs</td>\n",
       "      <td>Western All-Star Fan Vote Selection</td>\n",
       "      <td>2011 Rnd 1 Pick 15</td>\n",
       "      <td>United States</td>\n",
       "      <td>2011</td>\n",
       "      <td>1</td>\n",
       "      <td>15</td>\n",
       "    </tr>\n",
       "    <tr>\n",
       "      <th>4</th>\n",
       "      <td>2016</td>\n",
       "      <td>Anthony Davis</td>\n",
       "      <td>PF</td>\n",
       "      <td>6'11</td>\n",
       "      <td>253</td>\n",
       "      <td>New Orleans Pelicans</td>\n",
       "      <td>Western All-Star Fan Vote Selection</td>\n",
       "      <td>2012 Rnd 1 Pick 1</td>\n",
       "      <td>United States</td>\n",
       "      <td>2012</td>\n",
       "      <td>1</td>\n",
       "      <td>1</td>\n",
       "    </tr>\n",
       "  </tbody>\n",
       "</table>\n",
       "</div>"
      ],
      "text/plain": [
       "   Year         Player Pos    HT   WT                   Team  \\\n",
       "0  2016  Stephen Curry   G   6'3  190  Golden State Warriors   \n",
       "1  2016   James Harden  SG   6'5  220        Houston Rockets   \n",
       "2  2016   Kevin Durant  SF   6'9  240  Golden State Warriors   \n",
       "3  2016  Kawhi Leonard   F   6'7  230      San Antonio Spurs   \n",
       "4  2016  Anthony Davis  PF  6'11  253   New Orleans Pelicans   \n",
       "\n",
       "                        Selection Type    NBA Draft Status    Nationality  \\\n",
       "0  Western All-Star Fan Vote Selection   2009 Rnd 1 Pick 7  United States   \n",
       "1  Western All-Star Fan Vote Selection   2009 Rnd 1 Pick 3  United States   \n",
       "2  Western All-Star Fan Vote Selection   2007 Rnd 1 Pick 2  United States   \n",
       "3  Western All-Star Fan Vote Selection  2011 Rnd 1 Pick 15  United States   \n",
       "4  Western All-Star Fan Vote Selection   2012 Rnd 1 Pick 1  United States   \n",
       "\n",
       "  Draft Year Round Pick  \n",
       "0       2009     1    7  \n",
       "1       2009     1    3  \n",
       "2       2007     1    2  \n",
       "3       2011     1   15  \n",
       "4       2012     1    1  "
      ]
     },
     "execution_count": 149,
     "metadata": {},
     "output_type": "execute_result"
    }
   ],
   "source": [
    "#4 NBA teams have gone through new changes: New Jersey Nets, New Orlean Hornets, Charlotte Bobcats, and Seattle Supersonics.\n",
    "#Create a function to address current, consistant values \n",
    "\n",
    "def change_team(df):\n",
    "    df['Team'] = np.where(df['Team'] == 'New Jersey Nets', 'Brooklyn Nets', df['Team'])\n",
    "    df['Team'] = np.where(df['Team'] == 'New Orleans Hornets', 'New Orleans Pelicans', df['Team'])\n",
    "    df['Team'] = np.where(df['Team'] == 'Charlotte Bobcats', 'Charlotte Hornets', df['Team'])\n",
    "    df['Team'] = np.where(df['Team'] == 'Seattle SuperSonics', 'Oklahoma City Thunder', df['Team'])\n",
    "    \n",
    "    return df \n",
    "\n",
    "change_team(nba_clean)\n",
    "\n",
    "nba_clean.head()"
   ]
  },
  {
   "cell_type": "code",
   "execution_count": 150,
   "metadata": {},
   "outputs": [
    {
     "data": {
      "text/html": [
       "<div>\n",
       "<style scoped>\n",
       "    .dataframe tbody tr th:only-of-type {\n",
       "        vertical-align: middle;\n",
       "    }\n",
       "\n",
       "    .dataframe tbody tr th {\n",
       "        vertical-align: top;\n",
       "    }\n",
       "\n",
       "    .dataframe thead th {\n",
       "        text-align: right;\n",
       "    }\n",
       "</style>\n",
       "<table border=\"1\" class=\"dataframe\">\n",
       "  <thead>\n",
       "    <tr style=\"text-align: right;\">\n",
       "      <th></th>\n",
       "      <th>Year</th>\n",
       "      <th>Player</th>\n",
       "      <th>Pos</th>\n",
       "      <th>HT</th>\n",
       "      <th>WT</th>\n",
       "      <th>Team</th>\n",
       "      <th>Selection Type</th>\n",
       "      <th>NBA Draft Status</th>\n",
       "      <th>Nationality</th>\n",
       "      <th>Draft Year</th>\n",
       "      <th>Round</th>\n",
       "      <th>Pick</th>\n",
       "    </tr>\n",
       "  </thead>\n",
       "  <tbody>\n",
       "    <tr>\n",
       "      <th>0</th>\n",
       "      <td>2016</td>\n",
       "      <td>Stephen Curry</td>\n",
       "      <td>G</td>\n",
       "      <td>6'3</td>\n",
       "      <td>190</td>\n",
       "      <td>Golden State Warriors</td>\n",
       "      <td>Western All-Star Fan Vote Selection</td>\n",
       "      <td>2009 Rnd 1 Pick 7</td>\n",
       "      <td>United States</td>\n",
       "      <td>2009</td>\n",
       "      <td>1</td>\n",
       "      <td>7</td>\n",
       "    </tr>\n",
       "    <tr>\n",
       "      <th>1</th>\n",
       "      <td>2016</td>\n",
       "      <td>James Harden</td>\n",
       "      <td>SG</td>\n",
       "      <td>6'5</td>\n",
       "      <td>220</td>\n",
       "      <td>Houston Rockets</td>\n",
       "      <td>Western All-Star Fan Vote Selection</td>\n",
       "      <td>2009 Rnd 1 Pick 3</td>\n",
       "      <td>United States</td>\n",
       "      <td>2009</td>\n",
       "      <td>1</td>\n",
       "      <td>3</td>\n",
       "    </tr>\n",
       "    <tr>\n",
       "      <th>2</th>\n",
       "      <td>2016</td>\n",
       "      <td>Kevin Durant</td>\n",
       "      <td>SF</td>\n",
       "      <td>6'9</td>\n",
       "      <td>240</td>\n",
       "      <td>Golden State Warriors</td>\n",
       "      <td>Western All-Star Fan Vote Selection</td>\n",
       "      <td>2007 Rnd 1 Pick 2</td>\n",
       "      <td>United States</td>\n",
       "      <td>2007</td>\n",
       "      <td>1</td>\n",
       "      <td>2</td>\n",
       "    </tr>\n",
       "    <tr>\n",
       "      <th>3</th>\n",
       "      <td>2016</td>\n",
       "      <td>Kawhi Leonard</td>\n",
       "      <td>F</td>\n",
       "      <td>6'7</td>\n",
       "      <td>230</td>\n",
       "      <td>San Antonio Spurs</td>\n",
       "      <td>Western All-Star Fan Vote Selection</td>\n",
       "      <td>2011 Rnd 1 Pick 15</td>\n",
       "      <td>United States</td>\n",
       "      <td>2011</td>\n",
       "      <td>1</td>\n",
       "      <td>15</td>\n",
       "    </tr>\n",
       "    <tr>\n",
       "      <th>4</th>\n",
       "      <td>2016</td>\n",
       "      <td>Anthony Davis</td>\n",
       "      <td>PF</td>\n",
       "      <td>6'11</td>\n",
       "      <td>253</td>\n",
       "      <td>New Orleans Pelicans</td>\n",
       "      <td>Western All-Star Fan Vote Selection</td>\n",
       "      <td>2012 Rnd 1 Pick 1</td>\n",
       "      <td>United States</td>\n",
       "      <td>2012</td>\n",
       "      <td>1</td>\n",
       "      <td>1</td>\n",
       "    </tr>\n",
       "  </tbody>\n",
       "</table>\n",
       "</div>"
      ],
      "text/plain": [
       "   Year         Player Pos    HT   WT                   Team  \\\n",
       "0  2016  Stephen Curry   G   6'3  190  Golden State Warriors   \n",
       "1  2016   James Harden  SG   6'5  220        Houston Rockets   \n",
       "2  2016   Kevin Durant  SF   6'9  240  Golden State Warriors   \n",
       "3  2016  Kawhi Leonard   F   6'7  230      San Antonio Spurs   \n",
       "4  2016  Anthony Davis  PF  6'11  253   New Orleans Pelicans   \n",
       "\n",
       "                        Selection Type    NBA Draft Status    Nationality  \\\n",
       "0  Western All-Star Fan Vote Selection   2009 Rnd 1 Pick 7  United States   \n",
       "1  Western All-Star Fan Vote Selection   2009 Rnd 1 Pick 3  United States   \n",
       "2  Western All-Star Fan Vote Selection   2007 Rnd 1 Pick 2  United States   \n",
       "3  Western All-Star Fan Vote Selection  2011 Rnd 1 Pick 15  United States   \n",
       "4  Western All-Star Fan Vote Selection   2012 Rnd 1 Pick 1  United States   \n",
       "\n",
       "  Draft Year Round Pick  \n",
       "0       2009     1    7  \n",
       "1       2009     1    3  \n",
       "2       2007     1    2  \n",
       "3       2011     1   15  \n",
       "4       2012     1    1  "
      ]
     },
     "execution_count": 150,
     "metadata": {},
     "output_type": "execute_result"
    }
   ],
   "source": [
    "#Change Nationality for better analysis comparsion: US vs World? \n",
    "\n",
    "def change_nationality(df):\n",
    "    df['Nationality'] = np.where(df['Nationality'] != 'United States', 'World', df['Nationality'])\n",
    "    \n",
    "    return df \n",
    "\n",
    "change_nationality(nba_clean)\n",
    "\n",
    "nba_clean.head()"
   ]
  },
  {
   "cell_type": "code",
   "execution_count": 151,
   "metadata": {},
   "outputs": [
    {
     "data": {
      "text/html": [
       "<div>\n",
       "<style scoped>\n",
       "    .dataframe tbody tr th:only-of-type {\n",
       "        vertical-align: middle;\n",
       "    }\n",
       "\n",
       "    .dataframe tbody tr th {\n",
       "        vertical-align: top;\n",
       "    }\n",
       "\n",
       "    .dataframe thead th {\n",
       "        text-align: right;\n",
       "    }\n",
       "</style>\n",
       "<table border=\"1\" class=\"dataframe\">\n",
       "  <thead>\n",
       "    <tr style=\"text-align: right;\">\n",
       "      <th></th>\n",
       "      <th>Year</th>\n",
       "      <th>Player</th>\n",
       "      <th>Pos</th>\n",
       "      <th>HT</th>\n",
       "      <th>WT</th>\n",
       "      <th>Team</th>\n",
       "      <th>Selection Type</th>\n",
       "      <th>NBA Draft Status</th>\n",
       "      <th>Nationality</th>\n",
       "      <th>Draft Year</th>\n",
       "      <th>Round</th>\n",
       "      <th>Pick</th>\n",
       "    </tr>\n",
       "  </thead>\n",
       "  <tbody>\n",
       "    <tr>\n",
       "      <th>0</th>\n",
       "      <td>2016</td>\n",
       "      <td>Stephen Curry</td>\n",
       "      <td>G</td>\n",
       "      <td>6'3</td>\n",
       "      <td>190</td>\n",
       "      <td>Golden State Warriors</td>\n",
       "      <td>Western All-Star Fan Vote Selection</td>\n",
       "      <td>2009 Rnd 1 Pick 7</td>\n",
       "      <td>United States</td>\n",
       "      <td>2009</td>\n",
       "      <td>1</td>\n",
       "      <td>7</td>\n",
       "    </tr>\n",
       "    <tr>\n",
       "      <th>1</th>\n",
       "      <td>2016</td>\n",
       "      <td>James Harden</td>\n",
       "      <td>G</td>\n",
       "      <td>6'5</td>\n",
       "      <td>220</td>\n",
       "      <td>Houston Rockets</td>\n",
       "      <td>Western All-Star Fan Vote Selection</td>\n",
       "      <td>2009 Rnd 1 Pick 3</td>\n",
       "      <td>United States</td>\n",
       "      <td>2009</td>\n",
       "      <td>1</td>\n",
       "      <td>3</td>\n",
       "    </tr>\n",
       "    <tr>\n",
       "      <th>2</th>\n",
       "      <td>2016</td>\n",
       "      <td>Kevin Durant</td>\n",
       "      <td>F</td>\n",
       "      <td>6'9</td>\n",
       "      <td>240</td>\n",
       "      <td>Golden State Warriors</td>\n",
       "      <td>Western All-Star Fan Vote Selection</td>\n",
       "      <td>2007 Rnd 1 Pick 2</td>\n",
       "      <td>United States</td>\n",
       "      <td>2007</td>\n",
       "      <td>1</td>\n",
       "      <td>2</td>\n",
       "    </tr>\n",
       "    <tr>\n",
       "      <th>3</th>\n",
       "      <td>2016</td>\n",
       "      <td>Kawhi Leonard</td>\n",
       "      <td>F</td>\n",
       "      <td>6'7</td>\n",
       "      <td>230</td>\n",
       "      <td>San Antonio Spurs</td>\n",
       "      <td>Western All-Star Fan Vote Selection</td>\n",
       "      <td>2011 Rnd 1 Pick 15</td>\n",
       "      <td>United States</td>\n",
       "      <td>2011</td>\n",
       "      <td>1</td>\n",
       "      <td>15</td>\n",
       "    </tr>\n",
       "    <tr>\n",
       "      <th>4</th>\n",
       "      <td>2016</td>\n",
       "      <td>Anthony Davis</td>\n",
       "      <td>F</td>\n",
       "      <td>6'11</td>\n",
       "      <td>253</td>\n",
       "      <td>New Orleans Pelicans</td>\n",
       "      <td>Western All-Star Fan Vote Selection</td>\n",
       "      <td>2012 Rnd 1 Pick 1</td>\n",
       "      <td>United States</td>\n",
       "      <td>2012</td>\n",
       "      <td>1</td>\n",
       "      <td>1</td>\n",
       "    </tr>\n",
       "    <tr>\n",
       "      <th>5</th>\n",
       "      <td>2016</td>\n",
       "      <td>Russell Westbrook</td>\n",
       "      <td>G</td>\n",
       "      <td>6'3</td>\n",
       "      <td>200</td>\n",
       "      <td>Oklahoma City Thunder</td>\n",
       "      <td>Western All-Star Coaches Selection</td>\n",
       "      <td>2008 Rnd 1 Pick 4</td>\n",
       "      <td>United States</td>\n",
       "      <td>2008</td>\n",
       "      <td>1</td>\n",
       "      <td>4</td>\n",
       "    </tr>\n",
       "    <tr>\n",
       "      <th>6</th>\n",
       "      <td>2016</td>\n",
       "      <td>DeMarcus Cousins</td>\n",
       "      <td>C</td>\n",
       "      <td>6'11</td>\n",
       "      <td>270</td>\n",
       "      <td>Sacramento Kings</td>\n",
       "      <td>Western All-Star Coaches Selection</td>\n",
       "      <td>2010 Rnd 1 Pick 5</td>\n",
       "      <td>United States</td>\n",
       "      <td>2010</td>\n",
       "      <td>1</td>\n",
       "      <td>5</td>\n",
       "    </tr>\n",
       "    <tr>\n",
       "      <th>7</th>\n",
       "      <td>2016</td>\n",
       "      <td>Klay Thompson</td>\n",
       "      <td>G</td>\n",
       "      <td>6'7</td>\n",
       "      <td>215</td>\n",
       "      <td>Golden State Warriors</td>\n",
       "      <td>Western All-Star Coaches Selection</td>\n",
       "      <td>2011 Rnd 1 Pick 11</td>\n",
       "      <td>United States</td>\n",
       "      <td>2011</td>\n",
       "      <td>1</td>\n",
       "      <td>11</td>\n",
       "    </tr>\n",
       "    <tr>\n",
       "      <th>8</th>\n",
       "      <td>2016</td>\n",
       "      <td>Draymond Green</td>\n",
       "      <td>F</td>\n",
       "      <td>6'7</td>\n",
       "      <td>230</td>\n",
       "      <td>Golden State Warriors</td>\n",
       "      <td>Western All-Star Coaches Selection</td>\n",
       "      <td>2012 Rnd 2 Pick 5</td>\n",
       "      <td>United States</td>\n",
       "      <td>2012</td>\n",
       "      <td>2</td>\n",
       "      <td>5</td>\n",
       "    </tr>\n",
       "    <tr>\n",
       "      <th>9</th>\n",
       "      <td>2016</td>\n",
       "      <td>Marc Gasol</td>\n",
       "      <td>C</td>\n",
       "      <td>7'1</td>\n",
       "      <td>255</td>\n",
       "      <td>Memphis Grizzlies</td>\n",
       "      <td>Western All-Star Coaches Selection</td>\n",
       "      <td>2007 Rnd 2 Pick 18</td>\n",
       "      <td>World</td>\n",
       "      <td>2007</td>\n",
       "      <td>2</td>\n",
       "      <td>18</td>\n",
       "    </tr>\n",
       "  </tbody>\n",
       "</table>\n",
       "</div>"
      ],
      "text/plain": [
       "   Year             Player Pos    HT   WT                   Team  \\\n",
       "0  2016      Stephen Curry   G   6'3  190  Golden State Warriors   \n",
       "1  2016       James Harden   G   6'5  220        Houston Rockets   \n",
       "2  2016       Kevin Durant   F   6'9  240  Golden State Warriors   \n",
       "3  2016      Kawhi Leonard   F   6'7  230      San Antonio Spurs   \n",
       "4  2016      Anthony Davis   F  6'11  253   New Orleans Pelicans   \n",
       "5  2016  Russell Westbrook   G   6'3  200  Oklahoma City Thunder   \n",
       "6  2016   DeMarcus Cousins   C  6'11  270       Sacramento Kings   \n",
       "7  2016      Klay Thompson   G   6'7  215  Golden State Warriors   \n",
       "8  2016     Draymond Green   F   6'7  230  Golden State Warriors   \n",
       "9  2016         Marc Gasol   C   7'1  255      Memphis Grizzlies   \n",
       "\n",
       "                        Selection Type    NBA Draft Status    Nationality  \\\n",
       "0  Western All-Star Fan Vote Selection   2009 Rnd 1 Pick 7  United States   \n",
       "1  Western All-Star Fan Vote Selection   2009 Rnd 1 Pick 3  United States   \n",
       "2  Western All-Star Fan Vote Selection   2007 Rnd 1 Pick 2  United States   \n",
       "3  Western All-Star Fan Vote Selection  2011 Rnd 1 Pick 15  United States   \n",
       "4  Western All-Star Fan Vote Selection   2012 Rnd 1 Pick 1  United States   \n",
       "5   Western All-Star Coaches Selection   2008 Rnd 1 Pick 4  United States   \n",
       "6   Western All-Star Coaches Selection   2010 Rnd 1 Pick 5  United States   \n",
       "7   Western All-Star Coaches Selection  2011 Rnd 1 Pick 11  United States   \n",
       "8   Western All-Star Coaches Selection   2012 Rnd 2 Pick 5  United States   \n",
       "9   Western All-Star Coaches Selection  2007 Rnd 2 Pick 18          World   \n",
       "\n",
       "  Draft Year Round Pick  \n",
       "0       2009     1    7  \n",
       "1       2009     1    3  \n",
       "2       2007     1    2  \n",
       "3       2011     1   15  \n",
       "4       2012     1    1  \n",
       "5       2008     1    4  \n",
       "6       2010     1    5  \n",
       "7       2011     1   11  \n",
       "8       2012     2    5  \n",
       "9       2007     2   18  "
      ]
     },
     "execution_count": 151,
     "metadata": {},
     "output_type": "execute_result"
    }
   ],
   "source": [
    "#Change the positions to ensure consistency \n",
    "\n",
    "real_position = {'SF':'F','F-C':'F','PG':'G','SG':'G',\n",
    "                 'G-F':'G','G':'G','F':'F','C':'C','GF':'F',\n",
    "                 'FC':'F','PF':'F'}\n",
    "\n",
    "nba_clean['Pos'] = nba_clean['Pos'].map(real_position)\n",
    "nba_clean.head(10)"
   ]
  },
  {
   "cell_type": "code",
   "execution_count": 154,
   "metadata": {},
   "outputs": [
    {
     "data": {
      "text/html": [
       "<div>\n",
       "<style scoped>\n",
       "    .dataframe tbody tr th:only-of-type {\n",
       "        vertical-align: middle;\n",
       "    }\n",
       "\n",
       "    .dataframe tbody tr th {\n",
       "        vertical-align: top;\n",
       "    }\n",
       "\n",
       "    .dataframe thead th {\n",
       "        text-align: right;\n",
       "    }\n",
       "</style>\n",
       "<table border=\"1\" class=\"dataframe\">\n",
       "  <thead>\n",
       "    <tr style=\"text-align: right;\">\n",
       "      <th></th>\n",
       "      <th>Year</th>\n",
       "      <th>Player</th>\n",
       "      <th>Pos</th>\n",
       "      <th>HT</th>\n",
       "      <th>WT</th>\n",
       "      <th>Team</th>\n",
       "      <th>Selection Type</th>\n",
       "      <th>Nationality</th>\n",
       "      <th>Draft Year</th>\n",
       "      <th>Round</th>\n",
       "      <th>Pick</th>\n",
       "    </tr>\n",
       "  </thead>\n",
       "  <tbody>\n",
       "    <tr>\n",
       "      <th>0</th>\n",
       "      <td>2016</td>\n",
       "      <td>Stephen Curry</td>\n",
       "      <td>G</td>\n",
       "      <td>6'3</td>\n",
       "      <td>190</td>\n",
       "      <td>Golden State Warriors</td>\n",
       "      <td>Western All-Star Fan Vote Selection</td>\n",
       "      <td>United States</td>\n",
       "      <td>2009</td>\n",
       "      <td>1</td>\n",
       "      <td>7</td>\n",
       "    </tr>\n",
       "    <tr>\n",
       "      <th>1</th>\n",
       "      <td>2016</td>\n",
       "      <td>James Harden</td>\n",
       "      <td>G</td>\n",
       "      <td>6'5</td>\n",
       "      <td>220</td>\n",
       "      <td>Houston Rockets</td>\n",
       "      <td>Western All-Star Fan Vote Selection</td>\n",
       "      <td>United States</td>\n",
       "      <td>2009</td>\n",
       "      <td>1</td>\n",
       "      <td>3</td>\n",
       "    </tr>\n",
       "    <tr>\n",
       "      <th>2</th>\n",
       "      <td>2016</td>\n",
       "      <td>Kevin Durant</td>\n",
       "      <td>F</td>\n",
       "      <td>6'9</td>\n",
       "      <td>240</td>\n",
       "      <td>Golden State Warriors</td>\n",
       "      <td>Western All-Star Fan Vote Selection</td>\n",
       "      <td>United States</td>\n",
       "      <td>2007</td>\n",
       "      <td>1</td>\n",
       "      <td>2</td>\n",
       "    </tr>\n",
       "    <tr>\n",
       "      <th>3</th>\n",
       "      <td>2016</td>\n",
       "      <td>Kawhi Leonard</td>\n",
       "      <td>F</td>\n",
       "      <td>6'7</td>\n",
       "      <td>230</td>\n",
       "      <td>San Antonio Spurs</td>\n",
       "      <td>Western All-Star Fan Vote Selection</td>\n",
       "      <td>United States</td>\n",
       "      <td>2011</td>\n",
       "      <td>1</td>\n",
       "      <td>15</td>\n",
       "    </tr>\n",
       "    <tr>\n",
       "      <th>4</th>\n",
       "      <td>2016</td>\n",
       "      <td>Anthony Davis</td>\n",
       "      <td>F</td>\n",
       "      <td>6'11</td>\n",
       "      <td>253</td>\n",
       "      <td>New Orleans Pelicans</td>\n",
       "      <td>Western All-Star Fan Vote Selection</td>\n",
       "      <td>United States</td>\n",
       "      <td>2012</td>\n",
       "      <td>1</td>\n",
       "      <td>1</td>\n",
       "    </tr>\n",
       "  </tbody>\n",
       "</table>\n",
       "</div>"
      ],
      "text/plain": [
       "   Year         Player Pos    HT   WT                   Team  \\\n",
       "0  2016  Stephen Curry   G   6'3  190  Golden State Warriors   \n",
       "1  2016   James Harden   G   6'5  220        Houston Rockets   \n",
       "2  2016   Kevin Durant   F   6'9  240  Golden State Warriors   \n",
       "3  2016  Kawhi Leonard   F   6'7  230      San Antonio Spurs   \n",
       "4  2016  Anthony Davis   F  6'11  253   New Orleans Pelicans   \n",
       "\n",
       "                        Selection Type    Nationality Draft Year Round Pick  \n",
       "0  Western All-Star Fan Vote Selection  United States       2009     1    7  \n",
       "1  Western All-Star Fan Vote Selection  United States       2009     1    3  \n",
       "2  Western All-Star Fan Vote Selection  United States       2007     1    2  \n",
       "3  Western All-Star Fan Vote Selection  United States       2011     1   15  \n",
       "4  Western All-Star Fan Vote Selection  United States       2012     1    1  "
      ]
     },
     "execution_count": 154,
     "metadata": {},
     "output_type": "execute_result"
    }
   ],
   "source": [
    "#Drop redudant column \n",
    "# nba_clean = nba_clean.drop(['NBA Draft Status'], axis=1)\n",
    "\n",
    "nba_clean.head()"
   ]
  },
  {
   "cell_type": "code",
   "execution_count": 155,
   "metadata": {},
   "outputs": [
    {
     "data": {
      "text/html": [
       "<div>\n",
       "<style scoped>\n",
       "    .dataframe tbody tr th:only-of-type {\n",
       "        vertical-align: middle;\n",
       "    }\n",
       "\n",
       "    .dataframe tbody tr th {\n",
       "        vertical-align: top;\n",
       "    }\n",
       "\n",
       "    .dataframe thead th {\n",
       "        text-align: right;\n",
       "    }\n",
       "</style>\n",
       "<table border=\"1\" class=\"dataframe\">\n",
       "  <thead>\n",
       "    <tr style=\"text-align: right;\">\n",
       "      <th></th>\n",
       "      <th>Year</th>\n",
       "      <th>Player</th>\n",
       "      <th>Pos</th>\n",
       "      <th>HT</th>\n",
       "      <th>WT</th>\n",
       "      <th>Team</th>\n",
       "      <th>Selection Type</th>\n",
       "      <th>Nationality</th>\n",
       "      <th>Draft Year</th>\n",
       "      <th>Round</th>\n",
       "      <th>Pick</th>\n",
       "      <th>Conference</th>\n",
       "    </tr>\n",
       "  </thead>\n",
       "  <tbody>\n",
       "    <tr>\n",
       "      <th>0</th>\n",
       "      <td>2016</td>\n",
       "      <td>Stephen Curry</td>\n",
       "      <td>G</td>\n",
       "      <td>6'3</td>\n",
       "      <td>190</td>\n",
       "      <td>Golden State Warriors</td>\n",
       "      <td>Western All-Star Fan Vote Selection</td>\n",
       "      <td>United States</td>\n",
       "      <td>2009</td>\n",
       "      <td>1</td>\n",
       "      <td>7</td>\n",
       "      <td>West</td>\n",
       "    </tr>\n",
       "    <tr>\n",
       "      <th>1</th>\n",
       "      <td>2016</td>\n",
       "      <td>James Harden</td>\n",
       "      <td>G</td>\n",
       "      <td>6'5</td>\n",
       "      <td>220</td>\n",
       "      <td>Houston Rockets</td>\n",
       "      <td>Western All-Star Fan Vote Selection</td>\n",
       "      <td>United States</td>\n",
       "      <td>2009</td>\n",
       "      <td>1</td>\n",
       "      <td>3</td>\n",
       "      <td>West</td>\n",
       "    </tr>\n",
       "    <tr>\n",
       "      <th>2</th>\n",
       "      <td>2016</td>\n",
       "      <td>Kevin Durant</td>\n",
       "      <td>F</td>\n",
       "      <td>6'9</td>\n",
       "      <td>240</td>\n",
       "      <td>Golden State Warriors</td>\n",
       "      <td>Western All-Star Fan Vote Selection</td>\n",
       "      <td>United States</td>\n",
       "      <td>2007</td>\n",
       "      <td>1</td>\n",
       "      <td>2</td>\n",
       "      <td>West</td>\n",
       "    </tr>\n",
       "    <tr>\n",
       "      <th>3</th>\n",
       "      <td>2016</td>\n",
       "      <td>Kawhi Leonard</td>\n",
       "      <td>F</td>\n",
       "      <td>6'7</td>\n",
       "      <td>230</td>\n",
       "      <td>San Antonio Spurs</td>\n",
       "      <td>Western All-Star Fan Vote Selection</td>\n",
       "      <td>United States</td>\n",
       "      <td>2011</td>\n",
       "      <td>1</td>\n",
       "      <td>15</td>\n",
       "      <td>West</td>\n",
       "    </tr>\n",
       "    <tr>\n",
       "      <th>4</th>\n",
       "      <td>2016</td>\n",
       "      <td>Anthony Davis</td>\n",
       "      <td>F</td>\n",
       "      <td>6'11</td>\n",
       "      <td>253</td>\n",
       "      <td>New Orleans Pelicans</td>\n",
       "      <td>Western All-Star Fan Vote Selection</td>\n",
       "      <td>United States</td>\n",
       "      <td>2012</td>\n",
       "      <td>1</td>\n",
       "      <td>1</td>\n",
       "      <td>West</td>\n",
       "    </tr>\n",
       "    <tr>\n",
       "      <th>5</th>\n",
       "      <td>2016</td>\n",
       "      <td>Russell Westbrook</td>\n",
       "      <td>G</td>\n",
       "      <td>6'3</td>\n",
       "      <td>200</td>\n",
       "      <td>Oklahoma City Thunder</td>\n",
       "      <td>Western All-Star Coaches Selection</td>\n",
       "      <td>United States</td>\n",
       "      <td>2008</td>\n",
       "      <td>1</td>\n",
       "      <td>4</td>\n",
       "      <td>West</td>\n",
       "    </tr>\n",
       "    <tr>\n",
       "      <th>6</th>\n",
       "      <td>2016</td>\n",
       "      <td>DeMarcus Cousins</td>\n",
       "      <td>C</td>\n",
       "      <td>6'11</td>\n",
       "      <td>270</td>\n",
       "      <td>Sacramento Kings</td>\n",
       "      <td>Western All-Star Coaches Selection</td>\n",
       "      <td>United States</td>\n",
       "      <td>2010</td>\n",
       "      <td>1</td>\n",
       "      <td>5</td>\n",
       "      <td>West</td>\n",
       "    </tr>\n",
       "    <tr>\n",
       "      <th>7</th>\n",
       "      <td>2016</td>\n",
       "      <td>Klay Thompson</td>\n",
       "      <td>G</td>\n",
       "      <td>6'7</td>\n",
       "      <td>215</td>\n",
       "      <td>Golden State Warriors</td>\n",
       "      <td>Western All-Star Coaches Selection</td>\n",
       "      <td>United States</td>\n",
       "      <td>2011</td>\n",
       "      <td>1</td>\n",
       "      <td>11</td>\n",
       "      <td>West</td>\n",
       "    </tr>\n",
       "    <tr>\n",
       "      <th>8</th>\n",
       "      <td>2016</td>\n",
       "      <td>Draymond Green</td>\n",
       "      <td>F</td>\n",
       "      <td>6'7</td>\n",
       "      <td>230</td>\n",
       "      <td>Golden State Warriors</td>\n",
       "      <td>Western All-Star Coaches Selection</td>\n",
       "      <td>United States</td>\n",
       "      <td>2012</td>\n",
       "      <td>2</td>\n",
       "      <td>5</td>\n",
       "      <td>West</td>\n",
       "    </tr>\n",
       "    <tr>\n",
       "      <th>9</th>\n",
       "      <td>2016</td>\n",
       "      <td>Marc Gasol</td>\n",
       "      <td>C</td>\n",
       "      <td>7'1</td>\n",
       "      <td>255</td>\n",
       "      <td>Memphis Grizzlies</td>\n",
       "      <td>Western All-Star Coaches Selection</td>\n",
       "      <td>World</td>\n",
       "      <td>2007</td>\n",
       "      <td>2</td>\n",
       "      <td>18</td>\n",
       "      <td>West</td>\n",
       "    </tr>\n",
       "    <tr>\n",
       "      <th>10</th>\n",
       "      <td>2016</td>\n",
       "      <td>DeAndre Jordan</td>\n",
       "      <td>C</td>\n",
       "      <td>6'11</td>\n",
       "      <td>265</td>\n",
       "      <td>Los Angeles Clippers</td>\n",
       "      <td>Western All-Star Coaches Selection</td>\n",
       "      <td>United States</td>\n",
       "      <td>2008</td>\n",
       "      <td>2</td>\n",
       "      <td>5</td>\n",
       "      <td>West</td>\n",
       "    </tr>\n",
       "    <tr>\n",
       "      <th>11</th>\n",
       "      <td>2016</td>\n",
       "      <td>Gordon Hayward</td>\n",
       "      <td>F</td>\n",
       "      <td>6'8</td>\n",
       "      <td>226</td>\n",
       "      <td>Utah Jazz</td>\n",
       "      <td>Western All-Star Coaches Selection</td>\n",
       "      <td>United States</td>\n",
       "      <td>2010</td>\n",
       "      <td>1</td>\n",
       "      <td>9</td>\n",
       "      <td>West</td>\n",
       "    </tr>\n",
       "    <tr>\n",
       "      <th>12</th>\n",
       "      <td>2016</td>\n",
       "      <td>Kyrie Irving</td>\n",
       "      <td>G</td>\n",
       "      <td>6'3</td>\n",
       "      <td>193</td>\n",
       "      <td>Cleveland Cavaliers</td>\n",
       "      <td>Eastern All-Star Fan Vote Selection</td>\n",
       "      <td>World</td>\n",
       "      <td>2011</td>\n",
       "      <td>1</td>\n",
       "      <td>1</td>\n",
       "      <td>East</td>\n",
       "    </tr>\n",
       "    <tr>\n",
       "      <th>13</th>\n",
       "      <td>2016</td>\n",
       "      <td>DeMar DeRozan</td>\n",
       "      <td>F</td>\n",
       "      <td>6'7</td>\n",
       "      <td>220</td>\n",
       "      <td>Toronto Raptors</td>\n",
       "      <td>Eastern All-Star Fan Vote Selection</td>\n",
       "      <td>United States</td>\n",
       "      <td>2009</td>\n",
       "      <td>1</td>\n",
       "      <td>9</td>\n",
       "      <td>East</td>\n",
       "    </tr>\n",
       "    <tr>\n",
       "      <th>14</th>\n",
       "      <td>2016</td>\n",
       "      <td>LeBron James</td>\n",
       "      <td>F</td>\n",
       "      <td>6'8</td>\n",
       "      <td>250</td>\n",
       "      <td>Cleveland Cavaliers</td>\n",
       "      <td>Eastern All-Star Fan Vote Selection</td>\n",
       "      <td>United States</td>\n",
       "      <td>2003</td>\n",
       "      <td>1</td>\n",
       "      <td>1</td>\n",
       "      <td>East</td>\n",
       "    </tr>\n",
       "    <tr>\n",
       "      <th>15</th>\n",
       "      <td>2016</td>\n",
       "      <td>Giannis Antetokounmpo</td>\n",
       "      <td>F</td>\n",
       "      <td>6'11</td>\n",
       "      <td>222</td>\n",
       "      <td>Milwaukee Bucks</td>\n",
       "      <td>Eastern All-Star Fan Vote Selection</td>\n",
       "      <td>World</td>\n",
       "      <td>2013</td>\n",
       "      <td>1</td>\n",
       "      <td>15</td>\n",
       "      <td>East</td>\n",
       "    </tr>\n",
       "    <tr>\n",
       "      <th>16</th>\n",
       "      <td>2016</td>\n",
       "      <td>Jimmy Butler</td>\n",
       "      <td>F</td>\n",
       "      <td>6'7</td>\n",
       "      <td>231</td>\n",
       "      <td>Chicago Bulls</td>\n",
       "      <td>Eastern All-Star Fan Vote Selection</td>\n",
       "      <td>United States</td>\n",
       "      <td>2011</td>\n",
       "      <td>1</td>\n",
       "      <td>30</td>\n",
       "      <td>East</td>\n",
       "    </tr>\n",
       "    <tr>\n",
       "      <th>17</th>\n",
       "      <td>2016</td>\n",
       "      <td>Isaiah Thomas</td>\n",
       "      <td>G</td>\n",
       "      <td>5'9</td>\n",
       "      <td>185</td>\n",
       "      <td>Boston Celtics</td>\n",
       "      <td>Eastern All-Star Coaches Selection</td>\n",
       "      <td>United States</td>\n",
       "      <td>2011</td>\n",
       "      <td>2</td>\n",
       "      <td>30</td>\n",
       "      <td>East</td>\n",
       "    </tr>\n",
       "    <tr>\n",
       "      <th>18</th>\n",
       "      <td>2016</td>\n",
       "      <td>John Wall</td>\n",
       "      <td>G</td>\n",
       "      <td>6'4</td>\n",
       "      <td>210</td>\n",
       "      <td>Washington Wizards</td>\n",
       "      <td>Eastern All-Star Coaches Selection</td>\n",
       "      <td>United States</td>\n",
       "      <td>2010</td>\n",
       "      <td>1</td>\n",
       "      <td>1</td>\n",
       "      <td>East</td>\n",
       "    </tr>\n",
       "    <tr>\n",
       "      <th>19</th>\n",
       "      <td>2016</td>\n",
       "      <td>Kevin Love</td>\n",
       "      <td>F</td>\n",
       "      <td>6'10</td>\n",
       "      <td>251</td>\n",
       "      <td>Cleveland Cavaliers</td>\n",
       "      <td>Eastern All-Star Coaches Selection</td>\n",
       "      <td>United States</td>\n",
       "      <td>2008</td>\n",
       "      <td>1</td>\n",
       "      <td>5</td>\n",
       "      <td>East</td>\n",
       "    </tr>\n",
       "    <tr>\n",
       "      <th>20</th>\n",
       "      <td>2016</td>\n",
       "      <td>Kyle Lowry</td>\n",
       "      <td>G</td>\n",
       "      <td>6'1</td>\n",
       "      <td>205</td>\n",
       "      <td>Toronto Raptors</td>\n",
       "      <td>Eastern All-Star Coaches Selection</td>\n",
       "      <td>United States</td>\n",
       "      <td>2006</td>\n",
       "      <td>1</td>\n",
       "      <td>24</td>\n",
       "      <td>East</td>\n",
       "    </tr>\n",
       "    <tr>\n",
       "      <th>21</th>\n",
       "      <td>2016</td>\n",
       "      <td>Paul George</td>\n",
       "      <td>F</td>\n",
       "      <td>6'9</td>\n",
       "      <td>220</td>\n",
       "      <td>Indiana Pacers</td>\n",
       "      <td>Eastern All-Star Coaches Selection</td>\n",
       "      <td>United States</td>\n",
       "      <td>2010</td>\n",
       "      <td>1</td>\n",
       "      <td>10</td>\n",
       "      <td>East</td>\n",
       "    </tr>\n",
       "    <tr>\n",
       "      <th>22</th>\n",
       "      <td>2016</td>\n",
       "      <td>Kemba Walker</td>\n",
       "      <td>G</td>\n",
       "      <td>6'1</td>\n",
       "      <td>184</td>\n",
       "      <td>Charlotte Hornets</td>\n",
       "      <td>Eastern All-Star Coaches Selection</td>\n",
       "      <td>United States</td>\n",
       "      <td>2011</td>\n",
       "      <td>1</td>\n",
       "      <td>9</td>\n",
       "      <td>East</td>\n",
       "    </tr>\n",
       "    <tr>\n",
       "      <th>23</th>\n",
       "      <td>2016</td>\n",
       "      <td>Paul Millsap</td>\n",
       "      <td>F</td>\n",
       "      <td>6'8</td>\n",
       "      <td>246</td>\n",
       "      <td>Atlanta Hawks</td>\n",
       "      <td>Eastern All-Star Coaches Selection</td>\n",
       "      <td>United States</td>\n",
       "      <td>2006</td>\n",
       "      <td>2</td>\n",
       "      <td>17</td>\n",
       "      <td>East</td>\n",
       "    </tr>\n",
       "    <tr>\n",
       "      <th>24</th>\n",
       "      <td>2015</td>\n",
       "      <td>LeBron James</td>\n",
       "      <td>F</td>\n",
       "      <td>6'8</td>\n",
       "      <td>250</td>\n",
       "      <td>Cleveland Cavaliers</td>\n",
       "      <td>Eastern All-Star Fan Vote Selection</td>\n",
       "      <td>United States</td>\n",
       "      <td>2003</td>\n",
       "      <td>1</td>\n",
       "      <td>1</td>\n",
       "      <td>East</td>\n",
       "    </tr>\n",
       "    <tr>\n",
       "      <th>25</th>\n",
       "      <td>2015</td>\n",
       "      <td>Dwyane Wade</td>\n",
       "      <td>G</td>\n",
       "      <td>6'4</td>\n",
       "      <td>220</td>\n",
       "      <td>Miami Heat</td>\n",
       "      <td>Eastern All-Star Fan Vote Selection</td>\n",
       "      <td>United States</td>\n",
       "      <td>2003</td>\n",
       "      <td>1</td>\n",
       "      <td>5</td>\n",
       "      <td>East</td>\n",
       "    </tr>\n",
       "    <tr>\n",
       "      <th>26</th>\n",
       "      <td>2015</td>\n",
       "      <td>Paul George</td>\n",
       "      <td>F</td>\n",
       "      <td>6'9</td>\n",
       "      <td>220</td>\n",
       "      <td>Indiana Pacers</td>\n",
       "      <td>Eastern All-Star Fan Vote Selection</td>\n",
       "      <td>United States</td>\n",
       "      <td>2010</td>\n",
       "      <td>1</td>\n",
       "      <td>10</td>\n",
       "      <td>East</td>\n",
       "    </tr>\n",
       "    <tr>\n",
       "      <th>27</th>\n",
       "      <td>2015</td>\n",
       "      <td>Carmelo Anthony</td>\n",
       "      <td>F</td>\n",
       "      <td>6'8</td>\n",
       "      <td>240</td>\n",
       "      <td>New York Knicks</td>\n",
       "      <td>Eastern All-Star Fan Vote Selection</td>\n",
       "      <td>United States</td>\n",
       "      <td>2003</td>\n",
       "      <td>1</td>\n",
       "      <td>3</td>\n",
       "      <td>East</td>\n",
       "    </tr>\n",
       "    <tr>\n",
       "      <th>28</th>\n",
       "      <td>2015</td>\n",
       "      <td>Kyle Lowry</td>\n",
       "      <td>G</td>\n",
       "      <td>6'1</td>\n",
       "      <td>205</td>\n",
       "      <td>Toronto Raptors</td>\n",
       "      <td>Eastern All-Star Fan Vote Selection</td>\n",
       "      <td>United States</td>\n",
       "      <td>2006</td>\n",
       "      <td>1</td>\n",
       "      <td>24</td>\n",
       "      <td>East</td>\n",
       "    </tr>\n",
       "    <tr>\n",
       "      <th>29</th>\n",
       "      <td>2015</td>\n",
       "      <td>Jimmy Butler</td>\n",
       "      <td>F</td>\n",
       "      <td>6'7</td>\n",
       "      <td>231</td>\n",
       "      <td>Chicago Bulls</td>\n",
       "      <td>Eastern All-Star Coaches Selection</td>\n",
       "      <td>United States</td>\n",
       "      <td>2011</td>\n",
       "      <td>1</td>\n",
       "      <td>30</td>\n",
       "      <td>East</td>\n",
       "    </tr>\n",
       "    <tr>\n",
       "      <th>...</th>\n",
       "      <td>...</td>\n",
       "      <td>...</td>\n",
       "      <td>...</td>\n",
       "      <td>...</td>\n",
       "      <td>...</td>\n",
       "      <td>...</td>\n",
       "      <td>...</td>\n",
       "      <td>...</td>\n",
       "      <td>...</td>\n",
       "      <td>...</td>\n",
       "      <td>...</td>\n",
       "      <td>...</td>\n",
       "    </tr>\n",
       "    <tr>\n",
       "      <th>409</th>\n",
       "      <td>2001</td>\n",
       "      <td>Chris Webber</td>\n",
       "      <td>F</td>\n",
       "      <td>6'9</td>\n",
       "      <td>245</td>\n",
       "      <td>Sacramento Kings</td>\n",
       "      <td>Western All-Star Coaches Selection</td>\n",
       "      <td>United States</td>\n",
       "      <td>1993</td>\n",
       "      <td>1</td>\n",
       "      <td>1</td>\n",
       "      <td>West</td>\n",
       "    </tr>\n",
       "    <tr>\n",
       "      <th>410</th>\n",
       "      <td>2001</td>\n",
       "      <td>Elton Brand</td>\n",
       "      <td>F</td>\n",
       "      <td>6'9</td>\n",
       "      <td>254</td>\n",
       "      <td>Los Angeles Clippers</td>\n",
       "      <td>Western All-Star Replacement Selection</td>\n",
       "      <td>United States</td>\n",
       "      <td>1999</td>\n",
       "      <td>1</td>\n",
       "      <td>1</td>\n",
       "      <td>West</td>\n",
       "    </tr>\n",
       "    <tr>\n",
       "      <th>411</th>\n",
       "      <td>2000</td>\n",
       "      <td>Allen Iverson</td>\n",
       "      <td>G</td>\n",
       "      <td>6'1</td>\n",
       "      <td>165</td>\n",
       "      <td>Philadelphia Sixers</td>\n",
       "      <td>Eastern All-Star Fan Vote Selection</td>\n",
       "      <td>United States</td>\n",
       "      <td>1996</td>\n",
       "      <td>1</td>\n",
       "      <td>1</td>\n",
       "      <td>East</td>\n",
       "    </tr>\n",
       "    <tr>\n",
       "      <th>412</th>\n",
       "      <td>2000</td>\n",
       "      <td>Tracy McGrady</td>\n",
       "      <td>F</td>\n",
       "      <td>6'8</td>\n",
       "      <td>210</td>\n",
       "      <td>Orlando Magic</td>\n",
       "      <td>Eastern All-Star Fan Vote Selection</td>\n",
       "      <td>United States</td>\n",
       "      <td>1997</td>\n",
       "      <td>1</td>\n",
       "      <td>9</td>\n",
       "      <td>East</td>\n",
       "    </tr>\n",
       "    <tr>\n",
       "      <th>413</th>\n",
       "      <td>2000</td>\n",
       "      <td>Vince Carter</td>\n",
       "      <td>F</td>\n",
       "      <td>6'6</td>\n",
       "      <td>220</td>\n",
       "      <td>Toronto Raptors</td>\n",
       "      <td>Eastern All-Star Fan Vote Selection</td>\n",
       "      <td>United States</td>\n",
       "      <td>1998</td>\n",
       "      <td>1</td>\n",
       "      <td>5</td>\n",
       "      <td>East</td>\n",
       "    </tr>\n",
       "    <tr>\n",
       "      <th>414</th>\n",
       "      <td>2000</td>\n",
       "      <td>Alonzo Mourning</td>\n",
       "      <td>C</td>\n",
       "      <td>6'10</td>\n",
       "      <td>240</td>\n",
       "      <td>Miami Heat</td>\n",
       "      <td>Eastern All-Star Fan Vote Selection</td>\n",
       "      <td>United States</td>\n",
       "      <td>1992</td>\n",
       "      <td>1</td>\n",
       "      <td>2</td>\n",
       "      <td>East</td>\n",
       "    </tr>\n",
       "    <tr>\n",
       "      <th>415</th>\n",
       "      <td>2000</td>\n",
       "      <td>Grant Hill</td>\n",
       "      <td>F</td>\n",
       "      <td>6'8</td>\n",
       "      <td>225</td>\n",
       "      <td>Orlando Magic</td>\n",
       "      <td>Eastern All-Star Fan Vote Selection</td>\n",
       "      <td>United States</td>\n",
       "      <td>1994</td>\n",
       "      <td>1</td>\n",
       "      <td>3</td>\n",
       "      <td>East</td>\n",
       "    </tr>\n",
       "    <tr>\n",
       "      <th>416</th>\n",
       "      <td>2000</td>\n",
       "      <td>Ray Allen</td>\n",
       "      <td>G</td>\n",
       "      <td>6'5</td>\n",
       "      <td>205</td>\n",
       "      <td>Milwaukee Bucks</td>\n",
       "      <td>Eastern All-Star Coaches Selection</td>\n",
       "      <td>United States</td>\n",
       "      <td>1996</td>\n",
       "      <td>1</td>\n",
       "      <td>5</td>\n",
       "      <td>East</td>\n",
       "    </tr>\n",
       "    <tr>\n",
       "      <th>417</th>\n",
       "      <td>2000</td>\n",
       "      <td>Antonio Davis</td>\n",
       "      <td>F</td>\n",
       "      <td>6'9</td>\n",
       "      <td>245</td>\n",
       "      <td>Toronto Raptors</td>\n",
       "      <td>Eastern All-Star Replacement Selection</td>\n",
       "      <td>United States</td>\n",
       "      <td>1990</td>\n",
       "      <td>2</td>\n",
       "      <td>18</td>\n",
       "      <td>East</td>\n",
       "    </tr>\n",
       "    <tr>\n",
       "      <th>418</th>\n",
       "      <td>2000</td>\n",
       "      <td>Theo Ratliff</td>\n",
       "      <td>C</td>\n",
       "      <td>6'10</td>\n",
       "      <td>235</td>\n",
       "      <td>Philadelphia Sixers</td>\n",
       "      <td>Eastern All-Star Coaches Selection</td>\n",
       "      <td>United States</td>\n",
       "      <td>1995</td>\n",
       "      <td>1</td>\n",
       "      <td>18</td>\n",
       "      <td>East</td>\n",
       "    </tr>\n",
       "    <tr>\n",
       "      <th>419</th>\n",
       "      <td>2000</td>\n",
       "      <td>Glenn Robinson</td>\n",
       "      <td>F</td>\n",
       "      <td>6'7</td>\n",
       "      <td>225</td>\n",
       "      <td>Milwaukee Bucks</td>\n",
       "      <td>Eastern All-Star Coaches Selection</td>\n",
       "      <td>United States</td>\n",
       "      <td>1994</td>\n",
       "      <td>1</td>\n",
       "      <td>1</td>\n",
       "      <td>East</td>\n",
       "    </tr>\n",
       "    <tr>\n",
       "      <th>420</th>\n",
       "      <td>2000</td>\n",
       "      <td>Jerry Stackhouse</td>\n",
       "      <td>F</td>\n",
       "      <td>6'6</td>\n",
       "      <td>218</td>\n",
       "      <td>Detroit Pistons</td>\n",
       "      <td>Eastern All-Star Coaches Selection</td>\n",
       "      <td>United States</td>\n",
       "      <td>1995</td>\n",
       "      <td>1</td>\n",
       "      <td>3</td>\n",
       "      <td>East</td>\n",
       "    </tr>\n",
       "    <tr>\n",
       "      <th>421</th>\n",
       "      <td>2000</td>\n",
       "      <td>Stephon Marbury</td>\n",
       "      <td>G</td>\n",
       "      <td>6'2</td>\n",
       "      <td>180</td>\n",
       "      <td>Brooklyn Nets</td>\n",
       "      <td>Eastern All-Star Coaches Selection</td>\n",
       "      <td>United States</td>\n",
       "      <td>1996</td>\n",
       "      <td>1</td>\n",
       "      <td>4</td>\n",
       "      <td>East</td>\n",
       "    </tr>\n",
       "    <tr>\n",
       "      <th>422</th>\n",
       "      <td>2000</td>\n",
       "      <td>Anthony Mason</td>\n",
       "      <td>F</td>\n",
       "      <td>6'7</td>\n",
       "      <td>250</td>\n",
       "      <td>Miami Heat</td>\n",
       "      <td>Eastern All-Star Coaches Selection</td>\n",
       "      <td>United States</td>\n",
       "      <td>1988</td>\n",
       "      <td>3</td>\n",
       "      <td>3</td>\n",
       "      <td>East</td>\n",
       "    </tr>\n",
       "    <tr>\n",
       "      <th>423</th>\n",
       "      <td>2000</td>\n",
       "      <td>Dikembe Mutombo</td>\n",
       "      <td>C</td>\n",
       "      <td>7'2</td>\n",
       "      <td>260</td>\n",
       "      <td>Atlanta Hawks</td>\n",
       "      <td>Eastern All-Star Replacement Selection</td>\n",
       "      <td>World</td>\n",
       "      <td>1991</td>\n",
       "      <td>1</td>\n",
       "      <td>4</td>\n",
       "      <td>East</td>\n",
       "    </tr>\n",
       "    <tr>\n",
       "      <th>424</th>\n",
       "      <td>2000</td>\n",
       "      <td>Latrell Sprewell</td>\n",
       "      <td>G</td>\n",
       "      <td>6'5</td>\n",
       "      <td>190</td>\n",
       "      <td>New York Knicks</td>\n",
       "      <td>Eastern All-Star Replacement Selection</td>\n",
       "      <td>United States</td>\n",
       "      <td>1992</td>\n",
       "      <td>1</td>\n",
       "      <td>24</td>\n",
       "      <td>East</td>\n",
       "    </tr>\n",
       "    <tr>\n",
       "      <th>425</th>\n",
       "      <td>2000</td>\n",
       "      <td>Allan Houston</td>\n",
       "      <td>G</td>\n",
       "      <td>6'6</td>\n",
       "      <td>205</td>\n",
       "      <td>New York Knicks</td>\n",
       "      <td>Eastern All-Star Coaches Selection</td>\n",
       "      <td>United States</td>\n",
       "      <td>1993</td>\n",
       "      <td>1</td>\n",
       "      <td>11</td>\n",
       "      <td>East</td>\n",
       "    </tr>\n",
       "    <tr>\n",
       "      <th>426</th>\n",
       "      <td>2000</td>\n",
       "      <td>Jason Kidd</td>\n",
       "      <td>G</td>\n",
       "      <td>6'4</td>\n",
       "      <td>210</td>\n",
       "      <td>Phoenix Suns</td>\n",
       "      <td>Western All-Star Fan Vote Selection</td>\n",
       "      <td>United States</td>\n",
       "      <td>1994</td>\n",
       "      <td>1</td>\n",
       "      <td>2</td>\n",
       "      <td>West</td>\n",
       "    </tr>\n",
       "    <tr>\n",
       "      <th>427</th>\n",
       "      <td>2000</td>\n",
       "      <td>Kobe Bryant</td>\n",
       "      <td>G</td>\n",
       "      <td>6'6</td>\n",
       "      <td>212</td>\n",
       "      <td>Los Angeles Lakers</td>\n",
       "      <td>Western All-Star Fan Vote Selection</td>\n",
       "      <td>United States</td>\n",
       "      <td>1996</td>\n",
       "      <td>1</td>\n",
       "      <td>13</td>\n",
       "      <td>West</td>\n",
       "    </tr>\n",
       "    <tr>\n",
       "      <th>428</th>\n",
       "      <td>2000</td>\n",
       "      <td>Tim Duncan</td>\n",
       "      <td>F</td>\n",
       "      <td>6'11</td>\n",
       "      <td>250</td>\n",
       "      <td>San Antonio Spurs</td>\n",
       "      <td>Western All-Star Fan Vote Selection</td>\n",
       "      <td>United States</td>\n",
       "      <td>1997</td>\n",
       "      <td>1</td>\n",
       "      <td>1</td>\n",
       "      <td>West</td>\n",
       "    </tr>\n",
       "    <tr>\n",
       "      <th>429</th>\n",
       "      <td>2000</td>\n",
       "      <td>Shaquille O'Neal</td>\n",
       "      <td>C</td>\n",
       "      <td>7'1</td>\n",
       "      <td>325</td>\n",
       "      <td>Los Angeles Lakers</td>\n",
       "      <td>Western All-Star Fan Vote Selection</td>\n",
       "      <td>United States</td>\n",
       "      <td>1992</td>\n",
       "      <td>1</td>\n",
       "      <td>1</td>\n",
       "      <td>West</td>\n",
       "    </tr>\n",
       "    <tr>\n",
       "      <th>430</th>\n",
       "      <td>2000</td>\n",
       "      <td>Chris Webber</td>\n",
       "      <td>F</td>\n",
       "      <td>6'9</td>\n",
       "      <td>245</td>\n",
       "      <td>Sacramento Kings</td>\n",
       "      <td>Western All-Star Fan Vote Selection</td>\n",
       "      <td>United States</td>\n",
       "      <td>1993</td>\n",
       "      <td>1</td>\n",
       "      <td>1</td>\n",
       "      <td>West</td>\n",
       "    </tr>\n",
       "    <tr>\n",
       "      <th>431</th>\n",
       "      <td>2000</td>\n",
       "      <td>Michael Finley</td>\n",
       "      <td>G</td>\n",
       "      <td>6'7</td>\n",
       "      <td>225</td>\n",
       "      <td>Dallas Mavericks</td>\n",
       "      <td>Western All-Star Coaches Selection</td>\n",
       "      <td>United States</td>\n",
       "      <td>1995</td>\n",
       "      <td>1</td>\n",
       "      <td>21</td>\n",
       "      <td>West</td>\n",
       "    </tr>\n",
       "    <tr>\n",
       "      <th>432</th>\n",
       "      <td>2000</td>\n",
       "      <td>Kevin Garnett</td>\n",
       "      <td>F</td>\n",
       "      <td>6'11</td>\n",
       "      <td>240</td>\n",
       "      <td>Minnesota Timberwolves</td>\n",
       "      <td>Western All-Star Coaches Selection</td>\n",
       "      <td>United States</td>\n",
       "      <td>1995</td>\n",
       "      <td>1</td>\n",
       "      <td>5</td>\n",
       "      <td>West</td>\n",
       "    </tr>\n",
       "    <tr>\n",
       "      <th>433</th>\n",
       "      <td>2000</td>\n",
       "      <td>Karl Malone</td>\n",
       "      <td>F</td>\n",
       "      <td>6'9</td>\n",
       "      <td>265</td>\n",
       "      <td>Utah Jazz</td>\n",
       "      <td>Western All-Star Coaches Selection</td>\n",
       "      <td>United States</td>\n",
       "      <td>1985</td>\n",
       "      <td>1</td>\n",
       "      <td>13</td>\n",
       "      <td>West</td>\n",
       "    </tr>\n",
       "    <tr>\n",
       "      <th>434</th>\n",
       "      <td>2000</td>\n",
       "      <td>Antonio McDyess</td>\n",
       "      <td>F</td>\n",
       "      <td>6'9</td>\n",
       "      <td>245</td>\n",
       "      <td>Denver Nuggets</td>\n",
       "      <td>Western All-Star Coaches Selection</td>\n",
       "      <td>United States</td>\n",
       "      <td>1995</td>\n",
       "      <td>1</td>\n",
       "      <td>2</td>\n",
       "      <td>West</td>\n",
       "    </tr>\n",
       "    <tr>\n",
       "      <th>435</th>\n",
       "      <td>2000</td>\n",
       "      <td>Gary Payton</td>\n",
       "      <td>G</td>\n",
       "      <td>6'4</td>\n",
       "      <td>180</td>\n",
       "      <td>Oklahoma City Thunder</td>\n",
       "      <td>Western All-Star Coaches Selection</td>\n",
       "      <td>United States</td>\n",
       "      <td>1990</td>\n",
       "      <td>1</td>\n",
       "      <td>2</td>\n",
       "      <td>West</td>\n",
       "    </tr>\n",
       "    <tr>\n",
       "      <th>436</th>\n",
       "      <td>2000</td>\n",
       "      <td>Rasheed Wallace</td>\n",
       "      <td>F</td>\n",
       "      <td>6'11</td>\n",
       "      <td>230</td>\n",
       "      <td>Portland Trail Blazers</td>\n",
       "      <td>Western All-Star Coaches Selection</td>\n",
       "      <td>United States</td>\n",
       "      <td>1995</td>\n",
       "      <td>1</td>\n",
       "      <td>4</td>\n",
       "      <td>West</td>\n",
       "    </tr>\n",
       "    <tr>\n",
       "      <th>437</th>\n",
       "      <td>2000</td>\n",
       "      <td>David Robinson</td>\n",
       "      <td>C</td>\n",
       "      <td>7'1</td>\n",
       "      <td>250</td>\n",
       "      <td>San Antonio Spurs</td>\n",
       "      <td>Western All-Star Coaches Selection</td>\n",
       "      <td>United States</td>\n",
       "      <td>1987</td>\n",
       "      <td>1</td>\n",
       "      <td>1</td>\n",
       "      <td>West</td>\n",
       "    </tr>\n",
       "    <tr>\n",
       "      <th>438</th>\n",
       "      <td>2000</td>\n",
       "      <td>Vlade Divac</td>\n",
       "      <td>C</td>\n",
       "      <td>7'1</td>\n",
       "      <td>260</td>\n",
       "      <td>Sacramento Kings</td>\n",
       "      <td>Western All-Star Replacement Selection</td>\n",
       "      <td>World</td>\n",
       "      <td>1989</td>\n",
       "      <td>1</td>\n",
       "      <td>26</td>\n",
       "      <td>West</td>\n",
       "    </tr>\n",
       "  </tbody>\n",
       "</table>\n",
       "<p>439 rows × 12 columns</p>\n",
       "</div>"
      ],
      "text/plain": [
       "     Year                 Player Pos    HT   WT                    Team  \\\n",
       "0    2016          Stephen Curry   G   6'3  190   Golden State Warriors   \n",
       "1    2016           James Harden   G   6'5  220         Houston Rockets   \n",
       "2    2016           Kevin Durant   F   6'9  240   Golden State Warriors   \n",
       "3    2016          Kawhi Leonard   F   6'7  230       San Antonio Spurs   \n",
       "4    2016          Anthony Davis   F  6'11  253    New Orleans Pelicans   \n",
       "5    2016      Russell Westbrook   G   6'3  200   Oklahoma City Thunder   \n",
       "6    2016       DeMarcus Cousins   C  6'11  270        Sacramento Kings   \n",
       "7    2016          Klay Thompson   G   6'7  215   Golden State Warriors   \n",
       "8    2016         Draymond Green   F   6'7  230   Golden State Warriors   \n",
       "9    2016             Marc Gasol   C   7'1  255       Memphis Grizzlies   \n",
       "10   2016         DeAndre Jordan   C  6'11  265    Los Angeles Clippers   \n",
       "11   2016         Gordon Hayward   F   6'8  226               Utah Jazz   \n",
       "12   2016           Kyrie Irving   G   6'3  193     Cleveland Cavaliers   \n",
       "13   2016          DeMar DeRozan   F   6'7  220         Toronto Raptors   \n",
       "14   2016           LeBron James   F   6'8  250     Cleveland Cavaliers   \n",
       "15   2016  Giannis Antetokounmpo   F  6'11  222         Milwaukee Bucks   \n",
       "16   2016           Jimmy Butler   F   6'7  231           Chicago Bulls   \n",
       "17   2016          Isaiah Thomas   G   5'9  185          Boston Celtics   \n",
       "18   2016              John Wall   G   6'4  210      Washington Wizards   \n",
       "19   2016             Kevin Love   F  6'10  251     Cleveland Cavaliers   \n",
       "20   2016             Kyle Lowry   G   6'1  205         Toronto Raptors   \n",
       "21   2016            Paul George   F   6'9  220          Indiana Pacers   \n",
       "22   2016           Kemba Walker   G   6'1  184       Charlotte Hornets   \n",
       "23   2016           Paul Millsap   F   6'8  246           Atlanta Hawks   \n",
       "24   2015           LeBron James   F   6'8  250     Cleveland Cavaliers   \n",
       "25   2015            Dwyane Wade   G   6'4  220              Miami Heat   \n",
       "26   2015            Paul George   F   6'9  220          Indiana Pacers   \n",
       "27   2015        Carmelo Anthony   F   6'8  240         New York Knicks   \n",
       "28   2015             Kyle Lowry   G   6'1  205         Toronto Raptors   \n",
       "29   2015           Jimmy Butler   F   6'7  231           Chicago Bulls   \n",
       "..    ...                    ...  ..   ...  ...                     ...   \n",
       "409  2001           Chris Webber   F   6'9  245        Sacramento Kings   \n",
       "410  2001            Elton Brand   F   6'9  254    Los Angeles Clippers   \n",
       "411  2000          Allen Iverson   G   6'1  165     Philadelphia Sixers   \n",
       "412  2000          Tracy McGrady   F   6'8  210           Orlando Magic   \n",
       "413  2000           Vince Carter   F   6'6  220         Toronto Raptors   \n",
       "414  2000        Alonzo Mourning   C  6'10  240              Miami Heat   \n",
       "415  2000             Grant Hill   F   6'8  225           Orlando Magic   \n",
       "416  2000              Ray Allen   G   6'5  205         Milwaukee Bucks   \n",
       "417  2000          Antonio Davis   F   6'9  245         Toronto Raptors   \n",
       "418  2000           Theo Ratliff   C  6'10  235     Philadelphia Sixers   \n",
       "419  2000         Glenn Robinson   F   6'7  225         Milwaukee Bucks   \n",
       "420  2000       Jerry Stackhouse   F   6'6  218         Detroit Pistons   \n",
       "421  2000        Stephon Marbury   G   6'2  180           Brooklyn Nets   \n",
       "422  2000          Anthony Mason   F   6'7  250              Miami Heat   \n",
       "423  2000        Dikembe Mutombo   C   7'2  260           Atlanta Hawks   \n",
       "424  2000       Latrell Sprewell   G   6'5  190         New York Knicks   \n",
       "425  2000          Allan Houston   G   6'6  205         New York Knicks   \n",
       "426  2000             Jason Kidd   G   6'4  210            Phoenix Suns   \n",
       "427  2000            Kobe Bryant   G   6'6  212      Los Angeles Lakers   \n",
       "428  2000             Tim Duncan   F  6'11  250       San Antonio Spurs   \n",
       "429  2000       Shaquille O'Neal   C   7'1  325      Los Angeles Lakers   \n",
       "430  2000           Chris Webber   F   6'9  245        Sacramento Kings   \n",
       "431  2000         Michael Finley   G   6'7  225        Dallas Mavericks   \n",
       "432  2000          Kevin Garnett   F  6'11  240  Minnesota Timberwolves   \n",
       "433  2000            Karl Malone   F   6'9  265               Utah Jazz   \n",
       "434  2000        Antonio McDyess   F   6'9  245          Denver Nuggets   \n",
       "435  2000            Gary Payton   G   6'4  180   Oklahoma City Thunder   \n",
       "436  2000        Rasheed Wallace   F  6'11  230  Portland Trail Blazers   \n",
       "437  2000         David Robinson   C   7'1  250       San Antonio Spurs   \n",
       "438  2000            Vlade Divac   C   7'1  260        Sacramento Kings   \n",
       "\n",
       "                             Selection Type    Nationality Draft Year Round  \\\n",
       "0       Western All-Star Fan Vote Selection  United States       2009     1   \n",
       "1       Western All-Star Fan Vote Selection  United States       2009     1   \n",
       "2       Western All-Star Fan Vote Selection  United States       2007     1   \n",
       "3       Western All-Star Fan Vote Selection  United States       2011     1   \n",
       "4       Western All-Star Fan Vote Selection  United States       2012     1   \n",
       "5        Western All-Star Coaches Selection  United States       2008     1   \n",
       "6        Western All-Star Coaches Selection  United States       2010     1   \n",
       "7        Western All-Star Coaches Selection  United States       2011     1   \n",
       "8        Western All-Star Coaches Selection  United States       2012     2   \n",
       "9        Western All-Star Coaches Selection          World       2007     2   \n",
       "10       Western All-Star Coaches Selection  United States       2008     2   \n",
       "11       Western All-Star Coaches Selection  United States       2010     1   \n",
       "12      Eastern All-Star Fan Vote Selection          World       2011     1   \n",
       "13      Eastern All-Star Fan Vote Selection  United States       2009     1   \n",
       "14      Eastern All-Star Fan Vote Selection  United States       2003     1   \n",
       "15      Eastern All-Star Fan Vote Selection          World       2013     1   \n",
       "16      Eastern All-Star Fan Vote Selection  United States       2011     1   \n",
       "17       Eastern All-Star Coaches Selection  United States       2011     2   \n",
       "18       Eastern All-Star Coaches Selection  United States       2010     1   \n",
       "19       Eastern All-Star Coaches Selection  United States       2008     1   \n",
       "20       Eastern All-Star Coaches Selection  United States       2006     1   \n",
       "21       Eastern All-Star Coaches Selection  United States       2010     1   \n",
       "22       Eastern All-Star Coaches Selection  United States       2011     1   \n",
       "23       Eastern All-Star Coaches Selection  United States       2006     2   \n",
       "24      Eastern All-Star Fan Vote Selection  United States       2003     1   \n",
       "25      Eastern All-Star Fan Vote Selection  United States       2003     1   \n",
       "26      Eastern All-Star Fan Vote Selection  United States       2010     1   \n",
       "27      Eastern All-Star Fan Vote Selection  United States       2003     1   \n",
       "28      Eastern All-Star Fan Vote Selection  United States       2006     1   \n",
       "29       Eastern All-Star Coaches Selection  United States       2011     1   \n",
       "..                                      ...            ...        ...   ...   \n",
       "409      Western All-Star Coaches Selection  United States       1993     1   \n",
       "410  Western All-Star Replacement Selection  United States       1999     1   \n",
       "411     Eastern All-Star Fan Vote Selection  United States       1996     1   \n",
       "412     Eastern All-Star Fan Vote Selection  United States       1997     1   \n",
       "413     Eastern All-Star Fan Vote Selection  United States       1998     1   \n",
       "414     Eastern All-Star Fan Vote Selection  United States       1992     1   \n",
       "415     Eastern All-Star Fan Vote Selection  United States       1994     1   \n",
       "416      Eastern All-Star Coaches Selection  United States       1996     1   \n",
       "417  Eastern All-Star Replacement Selection  United States       1990     2   \n",
       "418      Eastern All-Star Coaches Selection  United States       1995     1   \n",
       "419      Eastern All-Star Coaches Selection  United States       1994     1   \n",
       "420      Eastern All-Star Coaches Selection  United States       1995     1   \n",
       "421      Eastern All-Star Coaches Selection  United States       1996     1   \n",
       "422      Eastern All-Star Coaches Selection  United States       1988     3   \n",
       "423  Eastern All-Star Replacement Selection          World       1991     1   \n",
       "424  Eastern All-Star Replacement Selection  United States       1992     1   \n",
       "425      Eastern All-Star Coaches Selection  United States       1993     1   \n",
       "426     Western All-Star Fan Vote Selection  United States       1994     1   \n",
       "427     Western All-Star Fan Vote Selection  United States       1996     1   \n",
       "428     Western All-Star Fan Vote Selection  United States       1997     1   \n",
       "429     Western All-Star Fan Vote Selection  United States       1992     1   \n",
       "430     Western All-Star Fan Vote Selection  United States       1993     1   \n",
       "431      Western All-Star Coaches Selection  United States       1995     1   \n",
       "432      Western All-Star Coaches Selection  United States       1995     1   \n",
       "433      Western All-Star Coaches Selection  United States       1985     1   \n",
       "434      Western All-Star Coaches Selection  United States       1995     1   \n",
       "435      Western All-Star Coaches Selection  United States       1990     1   \n",
       "436      Western All-Star Coaches Selection  United States       1995     1   \n",
       "437      Western All-Star Coaches Selection  United States       1987     1   \n",
       "438  Western All-Star Replacement Selection          World       1989     1   \n",
       "\n",
       "    Pick Conference  \n",
       "0      7       West  \n",
       "1      3       West  \n",
       "2      2       West  \n",
       "3     15       West  \n",
       "4      1       West  \n",
       "5      4       West  \n",
       "6      5       West  \n",
       "7     11       West  \n",
       "8      5       West  \n",
       "9     18       West  \n",
       "10     5       West  \n",
       "11     9       West  \n",
       "12     1       East  \n",
       "13     9       East  \n",
       "14     1       East  \n",
       "15    15       East  \n",
       "16    30       East  \n",
       "17    30       East  \n",
       "18     1       East  \n",
       "19     5       East  \n",
       "20    24       East  \n",
       "21    10       East  \n",
       "22     9       East  \n",
       "23    17       East  \n",
       "24     1       East  \n",
       "25     5       East  \n",
       "26    10       East  \n",
       "27     3       East  \n",
       "28    24       East  \n",
       "29    30       East  \n",
       "..   ...        ...  \n",
       "409    1       West  \n",
       "410    1       West  \n",
       "411    1       East  \n",
       "412    9       East  \n",
       "413    5       East  \n",
       "414    2       East  \n",
       "415    3       East  \n",
       "416    5       East  \n",
       "417   18       East  \n",
       "418   18       East  \n",
       "419    1       East  \n",
       "420    3       East  \n",
       "421    4       East  \n",
       "422    3       East  \n",
       "423    4       East  \n",
       "424   24       East  \n",
       "425   11       East  \n",
       "426    2       West  \n",
       "427   13       West  \n",
       "428    1       West  \n",
       "429    1       West  \n",
       "430    1       West  \n",
       "431   21       West  \n",
       "432    5       West  \n",
       "433   13       West  \n",
       "434    2       West  \n",
       "435    2       West  \n",
       "436    4       West  \n",
       "437    1       West  \n",
       "438   26       West  \n",
       "\n",
       "[439 rows x 12 columns]"
      ]
     },
     "execution_count": 155,
     "metadata": {},
     "output_type": "execute_result"
    }
   ],
   "source": [
    "#Create Column to distingush conference \n",
    "\n",
    "nba_clean['Conference'] = np.where(nba_clean['Selection Type'].str.startswith('Eastern'), 'East','West')\n",
    "\n",
    "nba_clean"
   ]
  },
  {
   "cell_type": "code",
   "execution_count": 156,
   "metadata": {},
   "outputs": [
    {
     "data": {
      "text/plain": [
       "Year              0\n",
       "Player            0\n",
       "Pos               0\n",
       "HT                0\n",
       "WT                0\n",
       "Team              0\n",
       "Selection Type    0\n",
       "Nationality       0\n",
       "Draft Year        0\n",
       "Round             0\n",
       "Pick              0\n",
       "Conference        0\n",
       "dtype: int64"
      ]
     },
     "execution_count": 156,
     "metadata": {},
     "output_type": "execute_result"
    }
   ],
   "source": [
    "#Check to enure no data was lost in cleaning \n",
    "nba_clean.isnull().sum()"
   ]
  },
  {
   "cell_type": "code",
   "execution_count": 157,
   "metadata": {},
   "outputs": [
    {
     "name": "stdout",
     "output_type": "stream",
     "text": [
      "<class 'pandas.core.frame.DataFrame'>\n",
      "RangeIndex: 439 entries, 0 to 438\n",
      "Data columns (total 12 columns):\n",
      "Year              439 non-null int64\n",
      "Player            439 non-null object\n",
      "Pos               439 non-null object\n",
      "HT                439 non-null object\n",
      "WT                439 non-null int64\n",
      "Team              439 non-null object\n",
      "Selection Type    439 non-null object\n",
      "Nationality       439 non-null object\n",
      "Draft Year        439 non-null object\n",
      "Round             439 non-null object\n",
      "Pick              439 non-null object\n",
      "Conference        439 non-null object\n",
      "dtypes: int64(2), object(10)\n",
      "memory usage: 41.2+ KB\n"
     ]
    }
   ],
   "source": [
    "nba_clean.info()"
   ]
  },
  {
   "cell_type": "code",
   "execution_count": 20,
   "metadata": {},
   "outputs": [
    {
     "data": {
      "text/plain": [
       "30"
      ]
     },
     "execution_count": 20,
     "metadata": {},
     "output_type": "execute_result"
    }
   ],
   "source": [
    "#Check if all 30 NBA teams have participated in the All Star Games from 2000-2016 \n",
    "nba_clean['Team'].nunique()"
   ]
  },
  {
   "cell_type": "code",
   "execution_count": 61,
   "metadata": {},
   "outputs": [
    {
     "data": {
      "text/plain": [
       "array([2016, 2015, 2014, 2013, 2012, 2011, 2010, 2009, 2008, 2007, 2006,\n",
       "       2005, 2004, 2003, 2002, 2001, 2000], dtype=int64)"
      ]
     },
     "execution_count": 61,
     "metadata": {},
     "output_type": "execute_result"
    }
   ],
   "source": [
    "#Check the number of years, 2000-2016 \n",
    "nba_clean['Year'].unique()"
   ]
  },
  {
   "cell_type": "code",
   "execution_count": 64,
   "metadata": {},
   "outputs": [
    {
     "data": {
      "text/plain": [
       "array(['G', 'F', 'C'], dtype=object)"
      ]
     },
     "execution_count": 64,
     "metadata": {},
     "output_type": "execute_result"
    }
   ],
   "source": [
    "nba_clean['Pos'].unique()"
   ]
  },
  {
   "cell_type": "markdown",
   "metadata": {},
   "source": [
    "# Team Analysis"
   ]
  },
  {
   "cell_type": "code",
   "execution_count": 158,
   "metadata": {},
   "outputs": [
    {
     "data": {
      "application/vnd.plotly.v1+json": {
       "config": {
        "plotlyServerURL": "https://plot.ly"
       },
       "data": [
        {
         "marker": {
          "color": [
           18,
           26,
           14,
           3,
           12,
           17,
           18,
           9,
           15,
           11,
           20,
           15,
           14,
           25,
           6,
           28,
           5,
           12,
           13,
           10,
           21,
           14,
           11,
           18,
           10,
           11,
           25,
           16,
           9,
           13
          ],
          "colorscale": [
           [
            0,
            "rgb(0, 147, 146)"
           ],
           [
            0.16666666666666666,
            "rgb(57, 177, 133)"
           ],
           [
            0.3333333333333333,
            "rgb(156, 203, 134)"
           ],
           [
            0.5,
            "rgb(233, 226, 156)"
           ],
           [
            0.6666666666666666,
            "rgb(238, 180, 121)"
           ],
           [
            0.8333333333333334,
            "rgb(232, 132, 113)"
           ],
           [
            1,
            "rgb(207, 89, 126)"
           ]
          ]
         },
         "text": [
          18,
          26,
          14,
          3,
          12,
          17,
          18,
          9,
          15,
          11,
          20,
          15,
          14,
          25,
          6,
          28,
          5,
          12,
          13,
          10,
          21,
          14,
          11,
          18,
          10,
          11,
          25,
          16,
          9,
          13
         ],
         "type": "bar",
         "x": [
          "Atlanta Hawks",
          "Boston Celtics",
          "Brooklyn Nets",
          "Charlotte Hornets",
          "Chicago Bulls",
          "Cleveland Cavaliers",
          "Dallas Mavericks",
          "Denver Nuggets",
          "Detroit Pistons",
          "Golden State Warriors",
          "Houston Rockets",
          "Indiana Pacers",
          "Los Angeles Clippers",
          "Los Angeles Lakers",
          "Memphis Grizzlies",
          "Miami Heat",
          "Milwaukee Bucks",
          "Minnesota Timberwolves",
          "New Orleans Pelicans",
          "New York Knicks",
          "Oklahoma City Thunder",
          "Orlando Magic",
          "Philadelphia Sixers",
          "Phoenix Suns",
          "Portland Trail Blazers",
          "Sacramento Kings",
          "San Antonio Spurs",
          "Toronto Raptors",
          "Utah Jazz",
          "Washington Wizards"
         ],
         "y": [
          18,
          26,
          14,
          3,
          12,
          17,
          18,
          9,
          15,
          11,
          20,
          15,
          14,
          25,
          6,
          28,
          5,
          12,
          13,
          10,
          21,
          14,
          11,
          18,
          10,
          11,
          25,
          16,
          9,
          13
         ]
        }
       ],
       "layout": {
        "template": {
         "data": {
          "bar": [
           {
            "error_x": {
             "color": "#2a3f5f"
            },
            "error_y": {
             "color": "#2a3f5f"
            },
            "marker": {
             "line": {
              "color": "#E5ECF6",
              "width": 0.5
             }
            },
            "type": "bar"
           }
          ],
          "barpolar": [
           {
            "marker": {
             "line": {
              "color": "#E5ECF6",
              "width": 0.5
             }
            },
            "type": "barpolar"
           }
          ],
          "carpet": [
           {
            "aaxis": {
             "endlinecolor": "#2a3f5f",
             "gridcolor": "white",
             "linecolor": "white",
             "minorgridcolor": "white",
             "startlinecolor": "#2a3f5f"
            },
            "baxis": {
             "endlinecolor": "#2a3f5f",
             "gridcolor": "white",
             "linecolor": "white",
             "minorgridcolor": "white",
             "startlinecolor": "#2a3f5f"
            },
            "type": "carpet"
           }
          ],
          "choropleth": [
           {
            "colorbar": {
             "outlinewidth": 0,
             "ticks": ""
            },
            "type": "choropleth"
           }
          ],
          "contour": [
           {
            "colorbar": {
             "outlinewidth": 0,
             "ticks": ""
            },
            "colorscale": [
             [
              0,
              "#0d0887"
             ],
             [
              0.1111111111111111,
              "#46039f"
             ],
             [
              0.2222222222222222,
              "#7201a8"
             ],
             [
              0.3333333333333333,
              "#9c179e"
             ],
             [
              0.4444444444444444,
              "#bd3786"
             ],
             [
              0.5555555555555556,
              "#d8576b"
             ],
             [
              0.6666666666666666,
              "#ed7953"
             ],
             [
              0.7777777777777778,
              "#fb9f3a"
             ],
             [
              0.8888888888888888,
              "#fdca26"
             ],
             [
              1,
              "#f0f921"
             ]
            ],
            "type": "contour"
           }
          ],
          "contourcarpet": [
           {
            "colorbar": {
             "outlinewidth": 0,
             "ticks": ""
            },
            "type": "contourcarpet"
           }
          ],
          "heatmap": [
           {
            "colorbar": {
             "outlinewidth": 0,
             "ticks": ""
            },
            "colorscale": [
             [
              0,
              "#0d0887"
             ],
             [
              0.1111111111111111,
              "#46039f"
             ],
             [
              0.2222222222222222,
              "#7201a8"
             ],
             [
              0.3333333333333333,
              "#9c179e"
             ],
             [
              0.4444444444444444,
              "#bd3786"
             ],
             [
              0.5555555555555556,
              "#d8576b"
             ],
             [
              0.6666666666666666,
              "#ed7953"
             ],
             [
              0.7777777777777778,
              "#fb9f3a"
             ],
             [
              0.8888888888888888,
              "#fdca26"
             ],
             [
              1,
              "#f0f921"
             ]
            ],
            "type": "heatmap"
           }
          ],
          "heatmapgl": [
           {
            "colorbar": {
             "outlinewidth": 0,
             "ticks": ""
            },
            "colorscale": [
             [
              0,
              "#0d0887"
             ],
             [
              0.1111111111111111,
              "#46039f"
             ],
             [
              0.2222222222222222,
              "#7201a8"
             ],
             [
              0.3333333333333333,
              "#9c179e"
             ],
             [
              0.4444444444444444,
              "#bd3786"
             ],
             [
              0.5555555555555556,
              "#d8576b"
             ],
             [
              0.6666666666666666,
              "#ed7953"
             ],
             [
              0.7777777777777778,
              "#fb9f3a"
             ],
             [
              0.8888888888888888,
              "#fdca26"
             ],
             [
              1,
              "#f0f921"
             ]
            ],
            "type": "heatmapgl"
           }
          ],
          "histogram": [
           {
            "marker": {
             "colorbar": {
              "outlinewidth": 0,
              "ticks": ""
             }
            },
            "type": "histogram"
           }
          ],
          "histogram2d": [
           {
            "colorbar": {
             "outlinewidth": 0,
             "ticks": ""
            },
            "colorscale": [
             [
              0,
              "#0d0887"
             ],
             [
              0.1111111111111111,
              "#46039f"
             ],
             [
              0.2222222222222222,
              "#7201a8"
             ],
             [
              0.3333333333333333,
              "#9c179e"
             ],
             [
              0.4444444444444444,
              "#bd3786"
             ],
             [
              0.5555555555555556,
              "#d8576b"
             ],
             [
              0.6666666666666666,
              "#ed7953"
             ],
             [
              0.7777777777777778,
              "#fb9f3a"
             ],
             [
              0.8888888888888888,
              "#fdca26"
             ],
             [
              1,
              "#f0f921"
             ]
            ],
            "type": "histogram2d"
           }
          ],
          "histogram2dcontour": [
           {
            "colorbar": {
             "outlinewidth": 0,
             "ticks": ""
            },
            "colorscale": [
             [
              0,
              "#0d0887"
             ],
             [
              0.1111111111111111,
              "#46039f"
             ],
             [
              0.2222222222222222,
              "#7201a8"
             ],
             [
              0.3333333333333333,
              "#9c179e"
             ],
             [
              0.4444444444444444,
              "#bd3786"
             ],
             [
              0.5555555555555556,
              "#d8576b"
             ],
             [
              0.6666666666666666,
              "#ed7953"
             ],
             [
              0.7777777777777778,
              "#fb9f3a"
             ],
             [
              0.8888888888888888,
              "#fdca26"
             ],
             [
              1,
              "#f0f921"
             ]
            ],
            "type": "histogram2dcontour"
           }
          ],
          "mesh3d": [
           {
            "colorbar": {
             "outlinewidth": 0,
             "ticks": ""
            },
            "type": "mesh3d"
           }
          ],
          "parcoords": [
           {
            "line": {
             "colorbar": {
              "outlinewidth": 0,
              "ticks": ""
             }
            },
            "type": "parcoords"
           }
          ],
          "pie": [
           {
            "automargin": true,
            "type": "pie"
           }
          ],
          "scatter": [
           {
            "marker": {
             "colorbar": {
              "outlinewidth": 0,
              "ticks": ""
             }
            },
            "type": "scatter"
           }
          ],
          "scatter3d": [
           {
            "line": {
             "colorbar": {
              "outlinewidth": 0,
              "ticks": ""
             }
            },
            "marker": {
             "colorbar": {
              "outlinewidth": 0,
              "ticks": ""
             }
            },
            "type": "scatter3d"
           }
          ],
          "scattercarpet": [
           {
            "marker": {
             "colorbar": {
              "outlinewidth": 0,
              "ticks": ""
             }
            },
            "type": "scattercarpet"
           }
          ],
          "scattergeo": [
           {
            "marker": {
             "colorbar": {
              "outlinewidth": 0,
              "ticks": ""
             }
            },
            "type": "scattergeo"
           }
          ],
          "scattergl": [
           {
            "marker": {
             "colorbar": {
              "outlinewidth": 0,
              "ticks": ""
             }
            },
            "type": "scattergl"
           }
          ],
          "scattermapbox": [
           {
            "marker": {
             "colorbar": {
              "outlinewidth": 0,
              "ticks": ""
             }
            },
            "type": "scattermapbox"
           }
          ],
          "scatterpolar": [
           {
            "marker": {
             "colorbar": {
              "outlinewidth": 0,
              "ticks": ""
             }
            },
            "type": "scatterpolar"
           }
          ],
          "scatterpolargl": [
           {
            "marker": {
             "colorbar": {
              "outlinewidth": 0,
              "ticks": ""
             }
            },
            "type": "scatterpolargl"
           }
          ],
          "scatterternary": [
           {
            "marker": {
             "colorbar": {
              "outlinewidth": 0,
              "ticks": ""
             }
            },
            "type": "scatterternary"
           }
          ],
          "surface": [
           {
            "colorbar": {
             "outlinewidth": 0,
             "ticks": ""
            },
            "colorscale": [
             [
              0,
              "#0d0887"
             ],
             [
              0.1111111111111111,
              "#46039f"
             ],
             [
              0.2222222222222222,
              "#7201a8"
             ],
             [
              0.3333333333333333,
              "#9c179e"
             ],
             [
              0.4444444444444444,
              "#bd3786"
             ],
             [
              0.5555555555555556,
              "#d8576b"
             ],
             [
              0.6666666666666666,
              "#ed7953"
             ],
             [
              0.7777777777777778,
              "#fb9f3a"
             ],
             [
              0.8888888888888888,
              "#fdca26"
             ],
             [
              1,
              "#f0f921"
             ]
            ],
            "type": "surface"
           }
          ],
          "table": [
           {
            "cells": {
             "fill": {
              "color": "#EBF0F8"
             },
             "line": {
              "color": "white"
             }
            },
            "header": {
             "fill": {
              "color": "#C8D4E3"
             },
             "line": {
              "color": "white"
             }
            },
            "type": "table"
           }
          ]
         },
         "layout": {
          "annotationdefaults": {
           "arrowcolor": "#2a3f5f",
           "arrowhead": 0,
           "arrowwidth": 1
          },
          "coloraxis": {
           "colorbar": {
            "outlinewidth": 0,
            "ticks": ""
           }
          },
          "colorscale": {
           "diverging": [
            [
             0,
             "#8e0152"
            ],
            [
             0.1,
             "#c51b7d"
            ],
            [
             0.2,
             "#de77ae"
            ],
            [
             0.3,
             "#f1b6da"
            ],
            [
             0.4,
             "#fde0ef"
            ],
            [
             0.5,
             "#f7f7f7"
            ],
            [
             0.6,
             "#e6f5d0"
            ],
            [
             0.7,
             "#b8e186"
            ],
            [
             0.8,
             "#7fbc41"
            ],
            [
             0.9,
             "#4d9221"
            ],
            [
             1,
             "#276419"
            ]
           ],
           "sequential": [
            [
             0,
             "#0d0887"
            ],
            [
             0.1111111111111111,
             "#46039f"
            ],
            [
             0.2222222222222222,
             "#7201a8"
            ],
            [
             0.3333333333333333,
             "#9c179e"
            ],
            [
             0.4444444444444444,
             "#bd3786"
            ],
            [
             0.5555555555555556,
             "#d8576b"
            ],
            [
             0.6666666666666666,
             "#ed7953"
            ],
            [
             0.7777777777777778,
             "#fb9f3a"
            ],
            [
             0.8888888888888888,
             "#fdca26"
            ],
            [
             1,
             "#f0f921"
            ]
           ],
           "sequentialminus": [
            [
             0,
             "#0d0887"
            ],
            [
             0.1111111111111111,
             "#46039f"
            ],
            [
             0.2222222222222222,
             "#7201a8"
            ],
            [
             0.3333333333333333,
             "#9c179e"
            ],
            [
             0.4444444444444444,
             "#bd3786"
            ],
            [
             0.5555555555555556,
             "#d8576b"
            ],
            [
             0.6666666666666666,
             "#ed7953"
            ],
            [
             0.7777777777777778,
             "#fb9f3a"
            ],
            [
             0.8888888888888888,
             "#fdca26"
            ],
            [
             1,
             "#f0f921"
            ]
           ]
          },
          "colorway": [
           "#636efa",
           "#EF553B",
           "#00cc96",
           "#ab63fa",
           "#FFA15A",
           "#19d3f3",
           "#FF6692",
           "#B6E880",
           "#FF97FF",
           "#FECB52"
          ],
          "font": {
           "color": "#2a3f5f"
          },
          "geo": {
           "bgcolor": "white",
           "lakecolor": "white",
           "landcolor": "#E5ECF6",
           "showlakes": true,
           "showland": true,
           "subunitcolor": "white"
          },
          "hoverlabel": {
           "align": "left"
          },
          "hovermode": "closest",
          "mapbox": {
           "style": "light"
          },
          "paper_bgcolor": "white",
          "plot_bgcolor": "#E5ECF6",
          "polar": {
           "angularaxis": {
            "gridcolor": "white",
            "linecolor": "white",
            "ticks": ""
           },
           "bgcolor": "#E5ECF6",
           "radialaxis": {
            "gridcolor": "white",
            "linecolor": "white",
            "ticks": ""
           }
          },
          "scene": {
           "xaxis": {
            "backgroundcolor": "#E5ECF6",
            "gridcolor": "white",
            "gridwidth": 2,
            "linecolor": "white",
            "showbackground": true,
            "ticks": "",
            "zerolinecolor": "white"
           },
           "yaxis": {
            "backgroundcolor": "#E5ECF6",
            "gridcolor": "white",
            "gridwidth": 2,
            "linecolor": "white",
            "showbackground": true,
            "ticks": "",
            "zerolinecolor": "white"
           },
           "zaxis": {
            "backgroundcolor": "#E5ECF6",
            "gridcolor": "white",
            "gridwidth": 2,
            "linecolor": "white",
            "showbackground": true,
            "ticks": "",
            "zerolinecolor": "white"
           }
          },
          "shapedefaults": {
           "line": {
            "color": "#2a3f5f"
           }
          },
          "ternary": {
           "aaxis": {
            "gridcolor": "white",
            "linecolor": "white",
            "ticks": ""
           },
           "baxis": {
            "gridcolor": "white",
            "linecolor": "white",
            "ticks": ""
           },
           "bgcolor": "#E5ECF6",
           "caxis": {
            "gridcolor": "white",
            "linecolor": "white",
            "ticks": ""
           }
          },
          "title": {
           "x": 0.05
          },
          "xaxis": {
           "automargin": true,
           "gridcolor": "white",
           "linecolor": "white",
           "ticks": "",
           "title": {
            "standoff": 15
           },
           "zerolinecolor": "white",
           "zerolinewidth": 2
          },
          "yaxis": {
           "automargin": true,
           "gridcolor": "white",
           "linecolor": "white",
           "ticks": "",
           "title": {
            "standoff": 15
           },
           "zerolinecolor": "white",
           "zerolinewidth": 2
          }
         }
        },
        "title": {
         "text": "All Star Selection Per Team, 2000 to 2016",
         "xanchor": "left",
         "yanchor": "top"
        },
        "width": 950,
        "xaxis": {
         "tickangle": 45,
         "tickfont": {
          "size": 12
         },
         "title": {
          "font": {
           "size": 14
          },
          "text": "NBA Teams"
         }
        },
        "yaxis": {
         "tickfont": {
          "size": 12
         },
         "title": {
          "font": {
           "size": 14
          },
          "text": "Number of All Stars Selected"
         }
        }
       }
      },
      "text/html": [
       "<div>\n",
       "        \n",
       "        \n",
       "            <div id=\"f9820fd9-1ebf-4914-9433-6e60c130bce1\" class=\"plotly-graph-div\" style=\"height:525px; width:950px;\"></div>\n",
       "            <script type=\"text/javascript\">\n",
       "                require([\"plotly\"], function(Plotly) {\n",
       "                    window.PLOTLYENV=window.PLOTLYENV || {};\n",
       "                    \n",
       "                if (document.getElementById(\"f9820fd9-1ebf-4914-9433-6e60c130bce1\")) {\n",
       "                    Plotly.newPlot(\n",
       "                        'f9820fd9-1ebf-4914-9433-6e60c130bce1',\n",
       "                        [{\"marker\": {\"color\": [18, 26, 14, 3, 12, 17, 18, 9, 15, 11, 20, 15, 14, 25, 6, 28, 5, 12, 13, 10, 21, 14, 11, 18, 10, 11, 25, 16, 9, 13], \"colorscale\": [[0.0, \"rgb(0, 147, 146)\"], [0.16666666666666666, \"rgb(57, 177, 133)\"], [0.3333333333333333, \"rgb(156, 203, 134)\"], [0.5, \"rgb(233, 226, 156)\"], [0.6666666666666666, \"rgb(238, 180, 121)\"], [0.8333333333333334, \"rgb(232, 132, 113)\"], [1.0, \"rgb(207, 89, 126)\"]]}, \"text\": [18.0, 26.0, 14.0, 3.0, 12.0, 17.0, 18.0, 9.0, 15.0, 11.0, 20.0, 15.0, 14.0, 25.0, 6.0, 28.0, 5.0, 12.0, 13.0, 10.0, 21.0, 14.0, 11.0, 18.0, 10.0, 11.0, 25.0, 16.0, 9.0, 13.0], \"type\": \"bar\", \"x\": [\"Atlanta Hawks\", \"Boston Celtics\", \"Brooklyn Nets\", \"Charlotte Hornets\", \"Chicago Bulls\", \"Cleveland Cavaliers\", \"Dallas Mavericks\", \"Denver Nuggets\", \"Detroit Pistons\", \"Golden State Warriors\", \"Houston Rockets\", \"Indiana Pacers\", \"Los Angeles Clippers\", \"Los Angeles Lakers\", \"Memphis Grizzlies\", \"Miami Heat\", \"Milwaukee Bucks\", \"Minnesota Timberwolves\", \"New Orleans Pelicans\", \"New York Knicks\", \"Oklahoma City Thunder\", \"Orlando Magic\", \"Philadelphia Sixers\", \"Phoenix Suns\", \"Portland Trail Blazers\", \"Sacramento Kings\", \"San Antonio Spurs\", \"Toronto Raptors\", \"Utah Jazz\", \"Washington Wizards\"], \"y\": [18, 26, 14, 3, 12, 17, 18, 9, 15, 11, 20, 15, 14, 25, 6, 28, 5, 12, 13, 10, 21, 14, 11, 18, 10, 11, 25, 16, 9, 13]}],\n",
       "                        {\"template\": {\"data\": {\"bar\": [{\"error_x\": {\"color\": \"#2a3f5f\"}, \"error_y\": {\"color\": \"#2a3f5f\"}, \"marker\": {\"line\": {\"color\": \"#E5ECF6\", \"width\": 0.5}}, \"type\": \"bar\"}], \"barpolar\": [{\"marker\": {\"line\": {\"color\": \"#E5ECF6\", \"width\": 0.5}}, \"type\": \"barpolar\"}], \"carpet\": [{\"aaxis\": {\"endlinecolor\": \"#2a3f5f\", \"gridcolor\": \"white\", \"linecolor\": \"white\", \"minorgridcolor\": \"white\", \"startlinecolor\": \"#2a3f5f\"}, \"baxis\": {\"endlinecolor\": \"#2a3f5f\", \"gridcolor\": \"white\", \"linecolor\": \"white\", \"minorgridcolor\": \"white\", \"startlinecolor\": \"#2a3f5f\"}, \"type\": \"carpet\"}], \"choropleth\": [{\"colorbar\": {\"outlinewidth\": 0, \"ticks\": \"\"}, \"type\": \"choropleth\"}], \"contour\": [{\"colorbar\": {\"outlinewidth\": 0, \"ticks\": \"\"}, \"colorscale\": [[0.0, \"#0d0887\"], [0.1111111111111111, \"#46039f\"], [0.2222222222222222, \"#7201a8\"], [0.3333333333333333, \"#9c179e\"], [0.4444444444444444, \"#bd3786\"], [0.5555555555555556, \"#d8576b\"], [0.6666666666666666, \"#ed7953\"], [0.7777777777777778, \"#fb9f3a\"], [0.8888888888888888, \"#fdca26\"], [1.0, \"#f0f921\"]], \"type\": \"contour\"}], \"contourcarpet\": [{\"colorbar\": {\"outlinewidth\": 0, \"ticks\": \"\"}, \"type\": \"contourcarpet\"}], \"heatmap\": [{\"colorbar\": {\"outlinewidth\": 0, \"ticks\": \"\"}, \"colorscale\": [[0.0, \"#0d0887\"], [0.1111111111111111, \"#46039f\"], [0.2222222222222222, \"#7201a8\"], [0.3333333333333333, \"#9c179e\"], [0.4444444444444444, \"#bd3786\"], [0.5555555555555556, \"#d8576b\"], [0.6666666666666666, \"#ed7953\"], [0.7777777777777778, \"#fb9f3a\"], [0.8888888888888888, \"#fdca26\"], [1.0, \"#f0f921\"]], \"type\": \"heatmap\"}], \"heatmapgl\": [{\"colorbar\": {\"outlinewidth\": 0, \"ticks\": \"\"}, \"colorscale\": [[0.0, \"#0d0887\"], [0.1111111111111111, \"#46039f\"], [0.2222222222222222, \"#7201a8\"], [0.3333333333333333, \"#9c179e\"], [0.4444444444444444, \"#bd3786\"], [0.5555555555555556, \"#d8576b\"], [0.6666666666666666, \"#ed7953\"], [0.7777777777777778, \"#fb9f3a\"], [0.8888888888888888, \"#fdca26\"], [1.0, \"#f0f921\"]], \"type\": \"heatmapgl\"}], \"histogram\": [{\"marker\": {\"colorbar\": {\"outlinewidth\": 0, \"ticks\": \"\"}}, \"type\": \"histogram\"}], \"histogram2d\": [{\"colorbar\": {\"outlinewidth\": 0, \"ticks\": \"\"}, \"colorscale\": [[0.0, \"#0d0887\"], [0.1111111111111111, \"#46039f\"], [0.2222222222222222, \"#7201a8\"], [0.3333333333333333, \"#9c179e\"], [0.4444444444444444, \"#bd3786\"], [0.5555555555555556, \"#d8576b\"], [0.6666666666666666, \"#ed7953\"], [0.7777777777777778, \"#fb9f3a\"], [0.8888888888888888, \"#fdca26\"], [1.0, \"#f0f921\"]], \"type\": \"histogram2d\"}], \"histogram2dcontour\": [{\"colorbar\": {\"outlinewidth\": 0, \"ticks\": \"\"}, \"colorscale\": [[0.0, \"#0d0887\"], [0.1111111111111111, \"#46039f\"], [0.2222222222222222, \"#7201a8\"], [0.3333333333333333, \"#9c179e\"], [0.4444444444444444, \"#bd3786\"], [0.5555555555555556, \"#d8576b\"], [0.6666666666666666, \"#ed7953\"], [0.7777777777777778, \"#fb9f3a\"], [0.8888888888888888, \"#fdca26\"], [1.0, \"#f0f921\"]], \"type\": \"histogram2dcontour\"}], \"mesh3d\": [{\"colorbar\": {\"outlinewidth\": 0, \"ticks\": \"\"}, \"type\": \"mesh3d\"}], \"parcoords\": [{\"line\": {\"colorbar\": {\"outlinewidth\": 0, \"ticks\": \"\"}}, \"type\": \"parcoords\"}], \"pie\": [{\"automargin\": true, \"type\": \"pie\"}], \"scatter\": [{\"marker\": {\"colorbar\": {\"outlinewidth\": 0, \"ticks\": \"\"}}, \"type\": \"scatter\"}], \"scatter3d\": [{\"line\": {\"colorbar\": {\"outlinewidth\": 0, \"ticks\": \"\"}}, \"marker\": {\"colorbar\": {\"outlinewidth\": 0, \"ticks\": \"\"}}, \"type\": \"scatter3d\"}], \"scattercarpet\": [{\"marker\": {\"colorbar\": {\"outlinewidth\": 0, \"ticks\": \"\"}}, \"type\": \"scattercarpet\"}], \"scattergeo\": [{\"marker\": {\"colorbar\": {\"outlinewidth\": 0, \"ticks\": \"\"}}, \"type\": \"scattergeo\"}], \"scattergl\": [{\"marker\": {\"colorbar\": {\"outlinewidth\": 0, \"ticks\": \"\"}}, \"type\": \"scattergl\"}], \"scattermapbox\": [{\"marker\": {\"colorbar\": {\"outlinewidth\": 0, \"ticks\": \"\"}}, \"type\": \"scattermapbox\"}], \"scatterpolar\": [{\"marker\": {\"colorbar\": {\"outlinewidth\": 0, \"ticks\": \"\"}}, \"type\": \"scatterpolar\"}], \"scatterpolargl\": [{\"marker\": {\"colorbar\": {\"outlinewidth\": 0, \"ticks\": \"\"}}, \"type\": \"scatterpolargl\"}], \"scatterternary\": [{\"marker\": {\"colorbar\": {\"outlinewidth\": 0, \"ticks\": \"\"}}, \"type\": \"scatterternary\"}], \"surface\": [{\"colorbar\": {\"outlinewidth\": 0, \"ticks\": \"\"}, \"colorscale\": [[0.0, \"#0d0887\"], [0.1111111111111111, \"#46039f\"], [0.2222222222222222, \"#7201a8\"], [0.3333333333333333, \"#9c179e\"], [0.4444444444444444, \"#bd3786\"], [0.5555555555555556, \"#d8576b\"], [0.6666666666666666, \"#ed7953\"], [0.7777777777777778, \"#fb9f3a\"], [0.8888888888888888, \"#fdca26\"], [1.0, \"#f0f921\"]], \"type\": \"surface\"}], \"table\": [{\"cells\": {\"fill\": {\"color\": \"#EBF0F8\"}, \"line\": {\"color\": \"white\"}}, \"header\": {\"fill\": {\"color\": \"#C8D4E3\"}, \"line\": {\"color\": \"white\"}}, \"type\": \"table\"}]}, \"layout\": {\"annotationdefaults\": {\"arrowcolor\": \"#2a3f5f\", \"arrowhead\": 0, \"arrowwidth\": 1}, \"coloraxis\": {\"colorbar\": {\"outlinewidth\": 0, \"ticks\": \"\"}}, \"colorscale\": {\"diverging\": [[0, \"#8e0152\"], [0.1, \"#c51b7d\"], [0.2, \"#de77ae\"], [0.3, \"#f1b6da\"], [0.4, \"#fde0ef\"], [0.5, \"#f7f7f7\"], [0.6, \"#e6f5d0\"], [0.7, \"#b8e186\"], [0.8, \"#7fbc41\"], [0.9, \"#4d9221\"], [1, \"#276419\"]], \"sequential\": [[0.0, \"#0d0887\"], [0.1111111111111111, \"#46039f\"], [0.2222222222222222, \"#7201a8\"], [0.3333333333333333, \"#9c179e\"], [0.4444444444444444, \"#bd3786\"], [0.5555555555555556, \"#d8576b\"], [0.6666666666666666, \"#ed7953\"], [0.7777777777777778, \"#fb9f3a\"], [0.8888888888888888, \"#fdca26\"], [1.0, \"#f0f921\"]], \"sequentialminus\": [[0.0, \"#0d0887\"], [0.1111111111111111, \"#46039f\"], [0.2222222222222222, \"#7201a8\"], [0.3333333333333333, \"#9c179e\"], [0.4444444444444444, \"#bd3786\"], [0.5555555555555556, \"#d8576b\"], [0.6666666666666666, \"#ed7953\"], [0.7777777777777778, \"#fb9f3a\"], [0.8888888888888888, \"#fdca26\"], [1.0, \"#f0f921\"]]}, \"colorway\": [\"#636efa\", \"#EF553B\", \"#00cc96\", \"#ab63fa\", \"#FFA15A\", \"#19d3f3\", \"#FF6692\", \"#B6E880\", \"#FF97FF\", \"#FECB52\"], \"font\": {\"color\": \"#2a3f5f\"}, \"geo\": {\"bgcolor\": \"white\", \"lakecolor\": \"white\", \"landcolor\": \"#E5ECF6\", \"showlakes\": true, \"showland\": true, \"subunitcolor\": \"white\"}, \"hoverlabel\": {\"align\": \"left\"}, \"hovermode\": \"closest\", \"mapbox\": {\"style\": \"light\"}, \"paper_bgcolor\": \"white\", \"plot_bgcolor\": \"#E5ECF6\", \"polar\": {\"angularaxis\": {\"gridcolor\": \"white\", \"linecolor\": \"white\", \"ticks\": \"\"}, \"bgcolor\": \"#E5ECF6\", \"radialaxis\": {\"gridcolor\": \"white\", \"linecolor\": \"white\", \"ticks\": \"\"}}, \"scene\": {\"xaxis\": {\"backgroundcolor\": \"#E5ECF6\", \"gridcolor\": \"white\", \"gridwidth\": 2, \"linecolor\": \"white\", \"showbackground\": true, \"ticks\": \"\", \"zerolinecolor\": \"white\"}, \"yaxis\": {\"backgroundcolor\": \"#E5ECF6\", \"gridcolor\": \"white\", \"gridwidth\": 2, \"linecolor\": \"white\", \"showbackground\": true, \"ticks\": \"\", \"zerolinecolor\": \"white\"}, \"zaxis\": {\"backgroundcolor\": \"#E5ECF6\", \"gridcolor\": \"white\", \"gridwidth\": 2, \"linecolor\": \"white\", \"showbackground\": true, \"ticks\": \"\", \"zerolinecolor\": \"white\"}}, \"shapedefaults\": {\"line\": {\"color\": \"#2a3f5f\"}}, \"ternary\": {\"aaxis\": {\"gridcolor\": \"white\", \"linecolor\": \"white\", \"ticks\": \"\"}, \"baxis\": {\"gridcolor\": \"white\", \"linecolor\": \"white\", \"ticks\": \"\"}, \"bgcolor\": \"#E5ECF6\", \"caxis\": {\"gridcolor\": \"white\", \"linecolor\": \"white\", \"ticks\": \"\"}}, \"title\": {\"x\": 0.05}, \"xaxis\": {\"automargin\": true, \"gridcolor\": \"white\", \"linecolor\": \"white\", \"ticks\": \"\", \"title\": {\"standoff\": 15}, \"zerolinecolor\": \"white\", \"zerolinewidth\": 2}, \"yaxis\": {\"automargin\": true, \"gridcolor\": \"white\", \"linecolor\": \"white\", \"ticks\": \"\", \"title\": {\"standoff\": 15}, \"zerolinecolor\": \"white\", \"zerolinewidth\": 2}}}, \"title\": {\"text\": \"All Star Selection Per Team, 2000 to 2016\", \"xanchor\": \"left\", \"yanchor\": \"top\"}, \"width\": 950, \"xaxis\": {\"tickangle\": 45, \"tickfont\": {\"size\": 12}, \"title\": {\"font\": {\"size\": 14}, \"text\": \"NBA Teams\"}}, \"yaxis\": {\"tickfont\": {\"size\": 12}, \"title\": {\"font\": {\"size\": 14}, \"text\": \"Number of All Stars Selected\"}}},\n",
       "                        {\"responsive\": true}\n",
       "                    ).then(function(){\n",
       "                            \n",
       "var gd = document.getElementById('f9820fd9-1ebf-4914-9433-6e60c130bce1');\n",
       "var x = new MutationObserver(function (mutations, observer) {{\n",
       "        var display = window.getComputedStyle(gd).display;\n",
       "        if (!display || display === 'none') {{\n",
       "            console.log([gd, 'removed!']);\n",
       "            Plotly.purge(gd);\n",
       "            observer.disconnect();\n",
       "        }}\n",
       "}});\n",
       "\n",
       "// Listen for the removal of the full notebook cells\n",
       "var notebookContainer = gd.closest('#notebook-container');\n",
       "if (notebookContainer) {{\n",
       "    x.observe(notebookContainer, {childList: true});\n",
       "}}\n",
       "\n",
       "// Listen for the clearing of the current output cell\n",
       "var outputEl = gd.closest('.output');\n",
       "if (outputEl) {{\n",
       "    x.observe(outputEl, {childList: true});\n",
       "}}\n",
       "\n",
       "                        })\n",
       "                };\n",
       "                });\n",
       "            </script>\n",
       "        </div>"
      ]
     },
     "metadata": {},
     "output_type": "display_data"
    }
   ],
   "source": [
    "#First lets look at which teams had the most All Star Selections\n",
    "\n",
    "\n",
    "teams = pd.DataFrame(nba_clean.groupby('Team').size()).reset_index()\n",
    "teams.columns =['Team', 'Count']\n",
    "\n",
    "\n",
    "figure = go.Figure()\n",
    "\n",
    "figure.add_trace(go.Bar( x = teams.Team,\n",
    "                       y = teams.Count,\n",
    "                       text = teams.Count,\n",
    "                       marker = dict(color = teams.Count, colorscale='Temps')))\n",
    "\n",
    "figure.update_layout(\n",
    "title ={'text': 'All Star Selection Per Team, 2000 to 2016', 'xanchor': 'left', 'yanchor': 'top'},\n",
    "        xaxis_title = 'NBA Teams',\n",
    "        yaxis_title = 'Number of All Stars Selected',\n",
    "       xaxis_tickfont_size = 12, \n",
    "       xaxis= dict(titlefont_size = 14, tickangle=45),\n",
    "        yaxis=dict(titlefont_size = 14,\n",
    "                  tickfont_size= 12),\n",
    "            width= 950)\n",
    "\n"
   ]
  },
  {
   "cell_type": "markdown",
   "metadata": {},
   "source": [
    "The four teams with the most All Star selections: Boston Celtics, Los Angeles Lakers, Miami Heat, and San Antonio Spurs. Overall, these are considered the big market teams whom received prime time games and spending cap space. \n",
    "\n",
    "The Celtic and Lakers rivalry and winning cultures are well-documented, resulting in two Finals appearances in 2008 and 2010. Both teams have multiple current and future Hall of Famers.\n",
    "\n",
    "The Heat has won 3 NBA titles. In 2006, Wade and Shaq won its first franchise championship. The \"Big Three\" won back to back championships in 2012 and 2013. \n",
    "\n",
    "The Spurs have won 5 NBA titles between 2000-2016 which explains the high amount of all start selections.\n",
    "\n",
    "On the contrary, the smaller market teams such as, Charlotte Hornets, Milwaukee Bucks, and Memphis Grizzlies, have low selections."
   ]
  },
  {
   "cell_type": "code",
   "execution_count": 159,
   "metadata": {
    "scrolled": true
   },
   "outputs": [],
   "source": [
    "#Let's look at number of All Star Selections per YEAR for each TEAM\n",
    "\n",
    "stars_per_year = pd.DataFrame(nba_clean.groupby(['Year', 'Team']).size()).reset_index()\n",
    "\n",
    "stars_per_year.columns = ['Year', 'Team', 'Count']\n",
    "\n",
    "#MAp team Conferences to drop duplicates \n",
    "\n",
    "map_TC = nba_clean[['Team','Conference']].drop_duplicates().set_index('Team').to_dict()['Conference']\n",
    "stars_per_year['Conference'] = stars_per_year['Team'].map(map_TC)\n",
    "\n",
    "\n",
    "east_stars_per_year = stars_per_year.loc[stars_per_year['Conference'] == 'East']\n",
    "\n",
    "west_stars_per_year = stars_per_year.loc[stars_per_year['Conference'] == 'West']\n"
   ]
  },
  {
   "cell_type": "code",
   "execution_count": 27,
   "metadata": {},
   "outputs": [
    {
     "data": {
      "application/vnd.plotly.v1+json": {
       "config": {
        "linkText": "Export to plot.ly",
        "plotlyServerURL": "https://plot.ly",
        "showLink": false
       },
       "data": [
        {
         "marker": {
          "color": [
           1,
           1,
           1,
           2,
           2,
           2,
           2,
           2,
           2,
           1,
           2,
           1,
           1,
           1,
           1,
           1,
           1,
           2,
           1,
           1,
           2,
           1,
           1,
           1,
           2,
           1,
           1,
           1,
           1,
           1,
           1,
           2,
           1,
           2,
           1,
           2,
           1,
           1,
           1,
           1,
           1,
           2,
           1,
           1,
           2,
           1,
           1,
           2,
           1,
           1,
           1,
           4,
           1,
           2,
           1,
           1,
           1,
           1,
           2,
           1,
           2,
           1,
           2,
           1,
           1,
           2,
           1,
           3,
           1,
           1,
           3,
           1,
           2,
           1,
           1,
           2,
           1,
           3,
           1,
           2,
           1,
           1,
           1,
           2,
           3,
           1,
           2,
           3,
           1,
           1,
           1,
           1,
           1,
           1,
           1,
           1,
           1,
           2,
           4,
           1,
           3,
           1,
           1,
           1,
           1,
           2,
           1,
           2,
           1,
           3,
           1,
           1,
           1,
           2,
           1,
           2,
           1,
           1,
           3,
           2,
           1,
           1,
           1,
           1,
           1,
           2,
           3,
           1,
           1,
           1,
           1,
           4,
           2,
           2,
           2,
           1,
           1,
           1,
           1,
           2,
           1,
           2,
           1,
           1,
           1,
           2,
           1,
           1,
           2,
           1,
           1,
           1,
           1,
           1,
           3,
           1,
           1,
           1,
           2,
           1
          ],
          "colorscale": [
           [
            0,
            "rgb(12,51,131)"
           ],
           [
            0.25,
            "rgb(10,136,186)"
           ],
           [
            0.5,
            "rgb(242,211,56)"
           ],
           [
            0.75,
            "rgb(242,143,56)"
           ],
           [
            1,
            "rgb(217,30,30)"
           ]
          ],
          "showscale": true,
          "size": [
           9,
           9,
           9,
           16,
           16,
           16,
           16,
           16,
           16,
           9,
           16,
           9,
           9,
           9,
           9,
           9,
           9,
           16,
           9,
           9,
           16,
           9,
           9,
           9,
           16,
           9,
           9,
           9,
           9,
           9,
           9,
           16,
           9,
           16,
           9,
           16,
           9,
           9,
           9,
           9,
           9,
           16,
           9,
           9,
           16,
           9,
           9,
           16,
           9,
           9,
           9,
           36,
           9,
           16,
           9,
           9,
           9,
           9,
           16,
           9,
           16,
           9,
           16,
           9,
           9,
           16,
           9,
           25,
           9,
           9,
           25,
           9,
           16,
           9,
           9,
           16,
           9,
           25,
           9,
           16,
           9,
           9,
           9,
           16,
           25,
           9,
           16,
           25,
           9,
           9,
           9,
           9,
           9,
           9,
           9,
           9,
           9,
           16,
           36,
           9,
           25,
           9,
           9,
           9,
           9,
           16,
           9,
           16,
           9,
           25,
           9,
           9,
           9,
           16,
           9,
           16,
           9,
           9,
           25,
           16,
           9,
           9,
           9,
           9,
           9,
           16,
           25,
           9,
           9,
           9,
           9,
           36,
           16,
           16,
           16,
           9,
           9,
           9,
           9,
           16,
           9,
           16,
           9,
           9,
           9,
           16,
           9,
           9,
           16,
           9,
           9,
           9,
           9,
           9,
           25,
           9,
           9,
           9,
           16,
           9
          ]
         },
         "mode": "markers",
         "name": "East",
         "text": [
          1,
          1,
          1,
          2,
          2,
          2,
          2,
          2,
          2,
          1,
          2,
          1,
          1,
          1,
          1,
          1,
          1,
          2,
          1,
          1,
          2,
          1,
          1,
          1,
          2,
          1,
          1,
          1,
          1,
          1,
          1,
          2,
          1,
          2,
          1,
          2,
          1,
          1,
          1,
          1,
          1,
          2,
          1,
          1,
          2,
          1,
          1,
          2,
          1,
          1,
          1,
          4,
          1,
          2,
          1,
          1,
          1,
          1,
          2,
          1,
          2,
          1,
          2,
          1,
          1,
          2,
          1,
          3,
          1,
          1,
          3,
          1,
          2,
          1,
          1,
          2,
          1,
          3,
          1,
          2,
          1,
          1,
          1,
          2,
          3,
          1,
          2,
          3,
          1,
          1,
          1,
          1,
          1,
          1,
          1,
          1,
          1,
          2,
          4,
          1,
          3,
          1,
          1,
          1,
          1,
          2,
          1,
          2,
          1,
          3,
          1,
          1,
          1,
          2,
          1,
          2,
          1,
          1,
          3,
          2,
          1,
          1,
          1,
          1,
          1,
          2,
          3,
          1,
          1,
          1,
          1,
          4,
          2,
          2,
          2,
          1,
          1,
          1,
          1,
          2,
          1,
          2,
          1,
          1,
          1,
          2,
          1,
          1,
          2,
          1,
          1,
          1,
          1,
          1,
          3,
          1,
          1,
          1,
          2,
          1
         ],
         "type": "scatter",
         "x": [
          2000,
          2000,
          2000,
          2000,
          2000,
          2000,
          2000,
          2000,
          2000,
          2001,
          2001,
          2001,
          2001,
          2001,
          2001,
          2001,
          2001,
          2001,
          2001,
          2001,
          2002,
          2002,
          2002,
          2002,
          2002,
          2002,
          2002,
          2002,
          2002,
          2002,
          2003,
          2003,
          2003,
          2003,
          2003,
          2003,
          2003,
          2003,
          2003,
          2004,
          2004,
          2004,
          2004,
          2004,
          2004,
          2004,
          2004,
          2004,
          2005,
          2005,
          2005,
          2005,
          2005,
          2005,
          2005,
          2005,
          2005,
          2006,
          2006,
          2006,
          2006,
          2006,
          2006,
          2006,
          2006,
          2006,
          2007,
          2007,
          2007,
          2007,
          2007,
          2007,
          2007,
          2007,
          2007,
          2007,
          2008,
          2008,
          2008,
          2008,
          2008,
          2008,
          2008,
          2008,
          2008,
          2008,
          2009,
          2009,
          2009,
          2009,
          2009,
          2009,
          2009,
          2009,
          2009,
          2009,
          2009,
          2010,
          2010,
          2010,
          2010,
          2010,
          2010,
          2010,
          2011,
          2011,
          2011,
          2011,
          2011,
          2011,
          2011,
          2011,
          2011,
          2012,
          2012,
          2012,
          2012,
          2012,
          2012,
          2012,
          2012,
          2013,
          2013,
          2013,
          2013,
          2013,
          2013,
          2013,
          2013,
          2013,
          2013,
          2014,
          2014,
          2014,
          2014,
          2014,
          2014,
          2014,
          2014,
          2015,
          2015,
          2015,
          2015,
          2015,
          2015,
          2015,
          2015,
          2015,
          2015,
          2015,
          2016,
          2016,
          2016,
          2016,
          2016,
          2016,
          2016,
          2016,
          2016,
          2016
         ],
         "y": [
          "Atlanta Hawks",
          "Brooklyn Nets",
          "Detroit Pistons",
          "Miami Heat",
          "Milwaukee Bucks",
          "New York Knicks",
          "Orlando Magic",
          "Philadelphia Sixers",
          "Toronto Raptors",
          "Atlanta Hawks",
          "Boston Celtics",
          "Brooklyn Nets",
          "Charlotte Hornets",
          "Indiana Pacers",
          "Miami Heat",
          "Milwaukee Bucks",
          "Orlando Magic",
          "Philadelphia Sixers",
          "Toronto Raptors",
          "Washington Wizards",
          "Boston Celtics",
          "Brooklyn Nets",
          "Cleveland Cavaliers",
          "Detroit Pistons",
          "Indiana Pacers",
          "New Orleans Pelicans",
          "Orlando Magic",
          "Philadelphia Sixers",
          "Toronto Raptors",
          "Washington Wizards",
          "Boston Celtics",
          "Brooklyn Nets",
          "Detroit Pistons",
          "Indiana Pacers",
          "Milwaukee Bucks",
          "New Orleans Pelicans",
          "Orlando Magic",
          "Philadelphia Sixers",
          "Toronto Raptors",
          "Boston Celtics",
          "Brooklyn Nets",
          "Cleveland Cavaliers",
          "Detroit Pistons",
          "Indiana Pacers",
          "Miami Heat",
          "Orlando Magic",
          "Philadelphia Sixers",
          "Washington Wizards",
          "Boston Celtics",
          "Brooklyn Nets",
          "Cleveland Cavaliers",
          "Detroit Pistons",
          "Indiana Pacers",
          "Miami Heat",
          "Philadelphia Sixers",
          "Toronto Raptors",
          "Washington Wizards",
          "Atlanta Hawks",
          "Brooklyn Nets",
          "Cleveland Cavaliers",
          "Detroit Pistons",
          "Indiana Pacers",
          "Miami Heat",
          "Orlando Magic",
          "Toronto Raptors",
          "Washington Wizards",
          "Atlanta Hawks",
          "Boston Celtics",
          "Brooklyn Nets",
          "Cleveland Cavaliers",
          "Detroit Pistons",
          "Miami Heat",
          "New Orleans Pelicans",
          "Orlando Magic",
          "Toronto Raptors",
          "Washington Wizards",
          "Atlanta Hawks",
          "Boston Celtics",
          "Brooklyn Nets",
          "Cleveland Cavaliers",
          "Detroit Pistons",
          "Indiana Pacers",
          "Miami Heat",
          "New Orleans Pelicans",
          "Orlando Magic",
          "Toronto Raptors",
          "Atlanta Hawks",
          "Boston Celtics",
          "Charlotte Hornets",
          "Chicago Bulls",
          "Cleveland Cavaliers",
          "Miami Heat",
          "New Orleans Pelicans",
          "New York Knicks",
          "Orlando Magic",
          "Philadelphia Sixers",
          "Toronto Raptors",
          "Atlanta Hawks",
          "Boston Celtics",
          "Chicago Bulls",
          "Miami Heat",
          "New Orleans Pelicans",
          "New York Knicks",
          "Orlando Magic",
          "Atlanta Hawks",
          "Boston Celtics",
          "Brooklyn Nets",
          "Chicago Bulls",
          "Indiana Pacers",
          "Miami Heat",
          "New York Knicks",
          "Orlando Magic",
          "Philadelphia Sixers",
          "Boston Celtics",
          "Brooklyn Nets",
          "Chicago Bulls",
          "Cleveland Cavaliers",
          "Indiana Pacers",
          "Miami Heat",
          "New York Knicks",
          "Philadelphia Sixers",
          "Atlanta Hawks",
          "Brooklyn Nets",
          "Chicago Bulls",
          "Cleveland Cavaliers",
          "Indiana Pacers",
          "Miami Heat",
          "New Orleans Pelicans",
          "New York Knicks",
          "Toronto Raptors",
          "Washington Wizards",
          "Atlanta Hawks",
          "Chicago Bulls",
          "Cleveland Cavaliers",
          "Miami Heat",
          "New Orleans Pelicans",
          "New York Knicks",
          "Toronto Raptors",
          "Washington Wizards",
          "Atlanta Hawks",
          "Boston Celtics",
          "Chicago Bulls",
          "Cleveland Cavaliers",
          "Detroit Pistons",
          "Indiana Pacers",
          "Miami Heat",
          "New Orleans Pelicans",
          "New York Knicks",
          "Toronto Raptors",
          "Washington Wizards",
          "Atlanta Hawks",
          "Boston Celtics",
          "Charlotte Hornets",
          "Chicago Bulls",
          "Cleveland Cavaliers",
          "Indiana Pacers",
          "Milwaukee Bucks",
          "New Orleans Pelicans",
          "Toronto Raptors",
          "Washington Wizards"
         ]
        },
        {
         "marker": {
          "color": [
           1,
           1,
           2,
           1,
           1,
           1,
           1,
           2,
           2,
           1,
           2,
           1,
           1,
           2,
           2,
           1,
           2,
           1,
           1,
           2,
           2,
           2,
           1,
           1,
           2,
           2,
           1,
           1,
           2,
           2,
           2,
           1,
           2,
           1,
           1,
           1,
           2,
           1,
           1,
           2,
           3,
           2,
           1,
           2,
           1,
           1,
           1,
           1,
           1,
           2,
           2,
           2,
           2,
           2,
           1,
           1,
           1,
           3,
           2,
           2,
           1,
           2,
           1,
           1,
           2,
           1,
           1,
           1,
           1,
           1,
           1,
           2,
           2,
           1,
           2,
           2,
           2,
           1,
           2,
           1,
           1,
           2,
           1,
           1,
           1,
           1,
           1,
           1,
           1,
           2,
           1,
           2,
           2,
           1,
           1,
           2,
           2,
           1,
           1,
           2,
           1,
           1,
           1,
           1,
           1,
           2,
           2,
           1,
           2,
           1,
           2,
           1,
           1,
           2,
           2,
           1,
           1,
           1,
           2,
           1,
           1,
           2,
           1,
           2,
           1,
           1,
           2,
           2,
           1,
           1,
           3,
           1,
           1,
           1,
           2,
           1,
           2,
           4,
           1,
           1,
           1,
           1,
           1,
           1,
           1
          ],
          "colorscale": [
           [
            0,
            "rgb(12,51,131)"
           ],
           [
            0.25,
            "rgb(10,136,186)"
           ],
           [
            0.5,
            "rgb(242,211,56)"
           ],
           [
            0.75,
            "rgb(242,143,56)"
           ],
           [
            1,
            "rgb(217,30,30)"
           ]
          ],
          "showscale": true,
          "size": [
           9,
           9,
           16,
           9,
           9,
           9,
           9,
           16,
           16,
           9,
           16,
           9,
           9,
           16,
           16,
           9,
           16,
           9,
           9,
           16,
           16,
           16,
           9,
           9,
           16,
           16,
           9,
           9,
           16,
           16,
           16,
           9,
           16,
           9,
           9,
           9,
           16,
           9,
           9,
           16,
           25,
           16,
           9,
           16,
           9,
           9,
           9,
           9,
           9,
           16,
           16,
           16,
           16,
           16,
           9,
           9,
           9,
           25,
           16,
           16,
           9,
           16,
           9,
           9,
           16,
           9,
           9,
           9,
           9,
           9,
           9,
           16,
           16,
           9,
           16,
           16,
           16,
           9,
           16,
           9,
           9,
           16,
           9,
           9,
           9,
           9,
           9,
           9,
           9,
           16,
           9,
           16,
           16,
           9,
           9,
           16,
           16,
           9,
           9,
           16,
           9,
           9,
           9,
           9,
           9,
           16,
           16,
           9,
           16,
           9,
           16,
           9,
           9,
           16,
           16,
           9,
           9,
           9,
           16,
           9,
           9,
           16,
           9,
           16,
           9,
           9,
           16,
           16,
           9,
           9,
           25,
           9,
           9,
           9,
           16,
           9,
           16,
           36,
           9,
           9,
           9,
           9,
           9,
           9,
           9
          ]
         },
         "mode": "markers",
         "name": "West",
         "text": [
          1,
          1,
          2,
          1,
          1,
          1,
          1,
          2,
          2,
          1,
          2,
          1,
          1,
          2,
          2,
          1,
          2,
          1,
          1,
          2,
          2,
          2,
          1,
          1,
          2,
          2,
          1,
          1,
          2,
          2,
          2,
          1,
          2,
          1,
          1,
          1,
          2,
          1,
          1,
          2,
          3,
          2,
          1,
          2,
          1,
          1,
          1,
          1,
          1,
          2,
          2,
          2,
          2,
          2,
          1,
          1,
          1,
          3,
          2,
          2,
          1,
          2,
          1,
          1,
          2,
          1,
          1,
          1,
          1,
          1,
          1,
          2,
          2,
          1,
          2,
          2,
          2,
          1,
          2,
          1,
          1,
          2,
          1,
          1,
          1,
          1,
          1,
          1,
          1,
          2,
          1,
          2,
          2,
          1,
          1,
          2,
          2,
          1,
          1,
          2,
          1,
          1,
          1,
          1,
          1,
          2,
          2,
          1,
          2,
          1,
          2,
          1,
          1,
          2,
          2,
          1,
          1,
          1,
          2,
          1,
          1,
          2,
          1,
          2,
          1,
          1,
          2,
          2,
          1,
          1,
          3,
          1,
          1,
          1,
          2,
          1,
          2,
          4,
          1,
          1,
          1,
          1,
          1,
          1,
          1
         ],
         "type": "scatter",
         "x": [
          2000,
          2000,
          2000,
          2000,
          2000,
          2000,
          2000,
          2000,
          2000,
          2000,
          2001,
          2001,
          2001,
          2001,
          2001,
          2001,
          2001,
          2001,
          2001,
          2002,
          2002,
          2002,
          2002,
          2002,
          2002,
          2002,
          2002,
          2003,
          2003,
          2003,
          2003,
          2003,
          2003,
          2003,
          2003,
          2004,
          2004,
          2004,
          2004,
          2004,
          2004,
          2004,
          2005,
          2005,
          2005,
          2005,
          2005,
          2005,
          2005,
          2005,
          2005,
          2006,
          2006,
          2006,
          2006,
          2006,
          2006,
          2006,
          2006,
          2006,
          2007,
          2007,
          2007,
          2007,
          2007,
          2007,
          2007,
          2007,
          2008,
          2008,
          2008,
          2008,
          2008,
          2008,
          2008,
          2009,
          2009,
          2009,
          2009,
          2009,
          2009,
          2009,
          2009,
          2009,
          2009,
          2010,
          2010,
          2010,
          2010,
          2010,
          2010,
          2010,
          2010,
          2010,
          2011,
          2011,
          2011,
          2011,
          2011,
          2011,
          2011,
          2011,
          2011,
          2012,
          2012,
          2012,
          2012,
          2012,
          2012,
          2012,
          2012,
          2013,
          2013,
          2013,
          2013,
          2013,
          2013,
          2013,
          2013,
          2013,
          2014,
          2014,
          2014,
          2014,
          2014,
          2014,
          2014,
          2014,
          2014,
          2014,
          2015,
          2015,
          2015,
          2015,
          2015,
          2015,
          2015,
          2016,
          2016,
          2016,
          2016,
          2016,
          2016,
          2016,
          2016
         ],
         "y": [
          "Dallas Mavericks",
          "Denver Nuggets",
          "Los Angeles Lakers",
          "Minnesota Timberwolves",
          "Oklahoma City Thunder",
          "Phoenix Suns",
          "Portland Trail Blazers",
          "Sacramento Kings",
          "San Antonio Spurs",
          "Utah Jazz",
          "Dallas Mavericks",
          "Houston Rockets",
          "Los Angeles Clippers",
          "Los Angeles Lakers",
          "Minnesota Timberwolves",
          "Oklahoma City Thunder",
          "Sacramento Kings",
          "San Antonio Spurs",
          "Utah Jazz",
          "Dallas Mavericks",
          "Houston Rockets",
          "Los Angeles Lakers",
          "Minnesota Timberwolves",
          "Oklahoma City Thunder",
          "Phoenix Suns",
          "Sacramento Kings",
          "San Antonio Spurs",
          "Dallas Mavericks",
          "Houston Rockets",
          "Los Angeles Lakers",
          "Minnesota Timberwolves",
          "Oklahoma City Thunder",
          "Sacramento Kings",
          "San Antonio Spurs",
          "Utah Jazz",
          "Dallas Mavericks",
          "Houston Rockets",
          "Los Angeles Lakers",
          "Minnesota Timberwolves",
          "Oklahoma City Thunder",
          "Phoenix Suns",
          "San Antonio Spurs",
          "Dallas Mavericks",
          "Houston Rockets",
          "Los Angeles Clippers",
          "Los Angeles Lakers",
          "Memphis Grizzlies",
          "Minnesota Timberwolves",
          "Oklahoma City Thunder",
          "Phoenix Suns",
          "San Antonio Spurs",
          "Dallas Mavericks",
          "Denver Nuggets",
          "Houston Rockets",
          "Los Angeles Lakers",
          "Minnesota Timberwolves",
          "Oklahoma City Thunder",
          "Phoenix Suns",
          "San Antonio Spurs",
          "Utah Jazz",
          "Dallas Mavericks",
          "Denver Nuggets",
          "Houston Rockets",
          "Los Angeles Lakers",
          "Phoenix Suns",
          "Portland Trail Blazers",
          "San Antonio Spurs",
          "Utah Jazz",
          "Dallas Mavericks",
          "Denver Nuggets",
          "Houston Rockets",
          "Los Angeles Lakers",
          "Phoenix Suns",
          "Portland Trail Blazers",
          "San Antonio Spurs",
          "Dallas Mavericks",
          "Denver Nuggets",
          "Los Angeles Clippers",
          "Los Angeles Lakers",
          "Memphis Grizzlies",
          "Oklahoma City Thunder",
          "Phoenix Suns",
          "Portland Trail Blazers",
          "San Antonio Spurs",
          "Utah Jazz",
          "Dallas Mavericks",
          "Denver Nuggets",
          "Houston Rockets",
          "Los Angeles Clippers",
          "Los Angeles Lakers",
          "Minnesota Timberwolves",
          "Oklahoma City Thunder",
          "San Antonio Spurs",
          "Utah Jazz",
          "Dallas Mavericks",
          "Los Angeles Clippers",
          "Los Angeles Lakers",
          "Memphis Grizzlies",
          "Minnesota Timberwolves",
          "Oklahoma City Thunder",
          "Phoenix Suns",
          "Portland Trail Blazers",
          "San Antonio Spurs",
          "Golden State Warriors",
          "Houston Rockets",
          "Los Angeles Clippers",
          "Los Angeles Lakers",
          "Memphis Grizzlies",
          "Oklahoma City Thunder",
          "Portland Trail Blazers",
          "San Antonio Spurs",
          "Dallas Mavericks",
          "Golden State Warriors",
          "Houston Rockets",
          "Los Angeles Clippers",
          "Los Angeles Lakers",
          "Minnesota Timberwolves",
          "Oklahoma City Thunder",
          "Portland Trail Blazers",
          "San Antonio Spurs",
          "Dallas Mavericks",
          "Golden State Warriors",
          "Houston Rockets",
          "Los Angeles Clippers",
          "Los Angeles Lakers",
          "Memphis Grizzlies",
          "Oklahoma City Thunder",
          "Portland Trail Blazers",
          "Sacramento Kings",
          "San Antonio Spurs",
          "Golden State Warriors",
          "Houston Rockets",
          "Los Angeles Clippers",
          "Los Angeles Lakers",
          "Oklahoma City Thunder",
          "Sacramento Kings",
          "San Antonio Spurs",
          "Golden State Warriors",
          "Houston Rockets",
          "Los Angeles Clippers",
          "Memphis Grizzlies",
          "Oklahoma City Thunder",
          "Sacramento Kings",
          "San Antonio Spurs",
          "Utah Jazz"
         ]
        }
       ],
       "layout": {
        "annotations": [
         {
          "align": "left",
          "showarrow": false,
          "text": "Conference Selection",
          "x": -0.2,
          "xref": "paper",
          "y": 1.13,
          "yref": "paper"
         }
        ],
        "height": 850,
        "showlegend": false,
        "template": {
         "data": {
          "bar": [
           {
            "error_x": {
             "color": "#2a3f5f"
            },
            "error_y": {
             "color": "#2a3f5f"
            },
            "marker": {
             "line": {
              "color": "#E5ECF6",
              "width": 0.5
             }
            },
            "type": "bar"
           }
          ],
          "barpolar": [
           {
            "marker": {
             "line": {
              "color": "#E5ECF6",
              "width": 0.5
             }
            },
            "type": "barpolar"
           }
          ],
          "carpet": [
           {
            "aaxis": {
             "endlinecolor": "#2a3f5f",
             "gridcolor": "white",
             "linecolor": "white",
             "minorgridcolor": "white",
             "startlinecolor": "#2a3f5f"
            },
            "baxis": {
             "endlinecolor": "#2a3f5f",
             "gridcolor": "white",
             "linecolor": "white",
             "minorgridcolor": "white",
             "startlinecolor": "#2a3f5f"
            },
            "type": "carpet"
           }
          ],
          "choropleth": [
           {
            "colorbar": {
             "outlinewidth": 0,
             "ticks": ""
            },
            "type": "choropleth"
           }
          ],
          "contour": [
           {
            "colorbar": {
             "outlinewidth": 0,
             "ticks": ""
            },
            "colorscale": [
             [
              0,
              "#0d0887"
             ],
             [
              0.1111111111111111,
              "#46039f"
             ],
             [
              0.2222222222222222,
              "#7201a8"
             ],
             [
              0.3333333333333333,
              "#9c179e"
             ],
             [
              0.4444444444444444,
              "#bd3786"
             ],
             [
              0.5555555555555556,
              "#d8576b"
             ],
             [
              0.6666666666666666,
              "#ed7953"
             ],
             [
              0.7777777777777778,
              "#fb9f3a"
             ],
             [
              0.8888888888888888,
              "#fdca26"
             ],
             [
              1,
              "#f0f921"
             ]
            ],
            "type": "contour"
           }
          ],
          "contourcarpet": [
           {
            "colorbar": {
             "outlinewidth": 0,
             "ticks": ""
            },
            "type": "contourcarpet"
           }
          ],
          "heatmap": [
           {
            "colorbar": {
             "outlinewidth": 0,
             "ticks": ""
            },
            "colorscale": [
             [
              0,
              "#0d0887"
             ],
             [
              0.1111111111111111,
              "#46039f"
             ],
             [
              0.2222222222222222,
              "#7201a8"
             ],
             [
              0.3333333333333333,
              "#9c179e"
             ],
             [
              0.4444444444444444,
              "#bd3786"
             ],
             [
              0.5555555555555556,
              "#d8576b"
             ],
             [
              0.6666666666666666,
              "#ed7953"
             ],
             [
              0.7777777777777778,
              "#fb9f3a"
             ],
             [
              0.8888888888888888,
              "#fdca26"
             ],
             [
              1,
              "#f0f921"
             ]
            ],
            "type": "heatmap"
           }
          ],
          "heatmapgl": [
           {
            "colorbar": {
             "outlinewidth": 0,
             "ticks": ""
            },
            "colorscale": [
             [
              0,
              "#0d0887"
             ],
             [
              0.1111111111111111,
              "#46039f"
             ],
             [
              0.2222222222222222,
              "#7201a8"
             ],
             [
              0.3333333333333333,
              "#9c179e"
             ],
             [
              0.4444444444444444,
              "#bd3786"
             ],
             [
              0.5555555555555556,
              "#d8576b"
             ],
             [
              0.6666666666666666,
              "#ed7953"
             ],
             [
              0.7777777777777778,
              "#fb9f3a"
             ],
             [
              0.8888888888888888,
              "#fdca26"
             ],
             [
              1,
              "#f0f921"
             ]
            ],
            "type": "heatmapgl"
           }
          ],
          "histogram": [
           {
            "marker": {
             "colorbar": {
              "outlinewidth": 0,
              "ticks": ""
             }
            },
            "type": "histogram"
           }
          ],
          "histogram2d": [
           {
            "colorbar": {
             "outlinewidth": 0,
             "ticks": ""
            },
            "colorscale": [
             [
              0,
              "#0d0887"
             ],
             [
              0.1111111111111111,
              "#46039f"
             ],
             [
              0.2222222222222222,
              "#7201a8"
             ],
             [
              0.3333333333333333,
              "#9c179e"
             ],
             [
              0.4444444444444444,
              "#bd3786"
             ],
             [
              0.5555555555555556,
              "#d8576b"
             ],
             [
              0.6666666666666666,
              "#ed7953"
             ],
             [
              0.7777777777777778,
              "#fb9f3a"
             ],
             [
              0.8888888888888888,
              "#fdca26"
             ],
             [
              1,
              "#f0f921"
             ]
            ],
            "type": "histogram2d"
           }
          ],
          "histogram2dcontour": [
           {
            "colorbar": {
             "outlinewidth": 0,
             "ticks": ""
            },
            "colorscale": [
             [
              0,
              "#0d0887"
             ],
             [
              0.1111111111111111,
              "#46039f"
             ],
             [
              0.2222222222222222,
              "#7201a8"
             ],
             [
              0.3333333333333333,
              "#9c179e"
             ],
             [
              0.4444444444444444,
              "#bd3786"
             ],
             [
              0.5555555555555556,
              "#d8576b"
             ],
             [
              0.6666666666666666,
              "#ed7953"
             ],
             [
              0.7777777777777778,
              "#fb9f3a"
             ],
             [
              0.8888888888888888,
              "#fdca26"
             ],
             [
              1,
              "#f0f921"
             ]
            ],
            "type": "histogram2dcontour"
           }
          ],
          "mesh3d": [
           {
            "colorbar": {
             "outlinewidth": 0,
             "ticks": ""
            },
            "type": "mesh3d"
           }
          ],
          "parcoords": [
           {
            "line": {
             "colorbar": {
              "outlinewidth": 0,
              "ticks": ""
             }
            },
            "type": "parcoords"
           }
          ],
          "pie": [
           {
            "automargin": true,
            "type": "pie"
           }
          ],
          "scatter": [
           {
            "marker": {
             "colorbar": {
              "outlinewidth": 0,
              "ticks": ""
             }
            },
            "type": "scatter"
           }
          ],
          "scatter3d": [
           {
            "line": {
             "colorbar": {
              "outlinewidth": 0,
              "ticks": ""
             }
            },
            "marker": {
             "colorbar": {
              "outlinewidth": 0,
              "ticks": ""
             }
            },
            "type": "scatter3d"
           }
          ],
          "scattercarpet": [
           {
            "marker": {
             "colorbar": {
              "outlinewidth": 0,
              "ticks": ""
             }
            },
            "type": "scattercarpet"
           }
          ],
          "scattergeo": [
           {
            "marker": {
             "colorbar": {
              "outlinewidth": 0,
              "ticks": ""
             }
            },
            "type": "scattergeo"
           }
          ],
          "scattergl": [
           {
            "marker": {
             "colorbar": {
              "outlinewidth": 0,
              "ticks": ""
             }
            },
            "type": "scattergl"
           }
          ],
          "scattermapbox": [
           {
            "marker": {
             "colorbar": {
              "outlinewidth": 0,
              "ticks": ""
             }
            },
            "type": "scattermapbox"
           }
          ],
          "scatterpolar": [
           {
            "marker": {
             "colorbar": {
              "outlinewidth": 0,
              "ticks": ""
             }
            },
            "type": "scatterpolar"
           }
          ],
          "scatterpolargl": [
           {
            "marker": {
             "colorbar": {
              "outlinewidth": 0,
              "ticks": ""
             }
            },
            "type": "scatterpolargl"
           }
          ],
          "scatterternary": [
           {
            "marker": {
             "colorbar": {
              "outlinewidth": 0,
              "ticks": ""
             }
            },
            "type": "scatterternary"
           }
          ],
          "surface": [
           {
            "colorbar": {
             "outlinewidth": 0,
             "ticks": ""
            },
            "colorscale": [
             [
              0,
              "#0d0887"
             ],
             [
              0.1111111111111111,
              "#46039f"
             ],
             [
              0.2222222222222222,
              "#7201a8"
             ],
             [
              0.3333333333333333,
              "#9c179e"
             ],
             [
              0.4444444444444444,
              "#bd3786"
             ],
             [
              0.5555555555555556,
              "#d8576b"
             ],
             [
              0.6666666666666666,
              "#ed7953"
             ],
             [
              0.7777777777777778,
              "#fb9f3a"
             ],
             [
              0.8888888888888888,
              "#fdca26"
             ],
             [
              1,
              "#f0f921"
             ]
            ],
            "type": "surface"
           }
          ],
          "table": [
           {
            "cells": {
             "fill": {
              "color": "#EBF0F8"
             },
             "line": {
              "color": "white"
             }
            },
            "header": {
             "fill": {
              "color": "#C8D4E3"
             },
             "line": {
              "color": "white"
             }
            },
            "type": "table"
           }
          ]
         },
         "layout": {
          "annotationdefaults": {
           "arrowcolor": "#2a3f5f",
           "arrowhead": 0,
           "arrowwidth": 1
          },
          "coloraxis": {
           "colorbar": {
            "outlinewidth": 0,
            "ticks": ""
           }
          },
          "colorscale": {
           "diverging": [
            [
             0,
             "#8e0152"
            ],
            [
             0.1,
             "#c51b7d"
            ],
            [
             0.2,
             "#de77ae"
            ],
            [
             0.3,
             "#f1b6da"
            ],
            [
             0.4,
             "#fde0ef"
            ],
            [
             0.5,
             "#f7f7f7"
            ],
            [
             0.6,
             "#e6f5d0"
            ],
            [
             0.7,
             "#b8e186"
            ],
            [
             0.8,
             "#7fbc41"
            ],
            [
             0.9,
             "#4d9221"
            ],
            [
             1,
             "#276419"
            ]
           ],
           "sequential": [
            [
             0,
             "#0d0887"
            ],
            [
             0.1111111111111111,
             "#46039f"
            ],
            [
             0.2222222222222222,
             "#7201a8"
            ],
            [
             0.3333333333333333,
             "#9c179e"
            ],
            [
             0.4444444444444444,
             "#bd3786"
            ],
            [
             0.5555555555555556,
             "#d8576b"
            ],
            [
             0.6666666666666666,
             "#ed7953"
            ],
            [
             0.7777777777777778,
             "#fb9f3a"
            ],
            [
             0.8888888888888888,
             "#fdca26"
            ],
            [
             1,
             "#f0f921"
            ]
           ],
           "sequentialminus": [
            [
             0,
             "#0d0887"
            ],
            [
             0.1111111111111111,
             "#46039f"
            ],
            [
             0.2222222222222222,
             "#7201a8"
            ],
            [
             0.3333333333333333,
             "#9c179e"
            ],
            [
             0.4444444444444444,
             "#bd3786"
            ],
            [
             0.5555555555555556,
             "#d8576b"
            ],
            [
             0.6666666666666666,
             "#ed7953"
            ],
            [
             0.7777777777777778,
             "#fb9f3a"
            ],
            [
             0.8888888888888888,
             "#fdca26"
            ],
            [
             1,
             "#f0f921"
            ]
           ]
          },
          "colorway": [
           "#636efa",
           "#EF553B",
           "#00cc96",
           "#ab63fa",
           "#FFA15A",
           "#19d3f3",
           "#FF6692",
           "#B6E880",
           "#FF97FF",
           "#FECB52"
          ],
          "font": {
           "color": "#2a3f5f"
          },
          "geo": {
           "bgcolor": "white",
           "lakecolor": "white",
           "landcolor": "#E5ECF6",
           "showlakes": true,
           "showland": true,
           "subunitcolor": "white"
          },
          "hoverlabel": {
           "align": "left"
          },
          "hovermode": "closest",
          "mapbox": {
           "style": "light"
          },
          "paper_bgcolor": "white",
          "plot_bgcolor": "#E5ECF6",
          "polar": {
           "angularaxis": {
            "gridcolor": "white",
            "linecolor": "white",
            "ticks": ""
           },
           "bgcolor": "#E5ECF6",
           "radialaxis": {
            "gridcolor": "white",
            "linecolor": "white",
            "ticks": ""
           }
          },
          "scene": {
           "xaxis": {
            "backgroundcolor": "#E5ECF6",
            "gridcolor": "white",
            "gridwidth": 2,
            "linecolor": "white",
            "showbackground": true,
            "ticks": "",
            "zerolinecolor": "white"
           },
           "yaxis": {
            "backgroundcolor": "#E5ECF6",
            "gridcolor": "white",
            "gridwidth": 2,
            "linecolor": "white",
            "showbackground": true,
            "ticks": "",
            "zerolinecolor": "white"
           },
           "zaxis": {
            "backgroundcolor": "#E5ECF6",
            "gridcolor": "white",
            "gridwidth": 2,
            "linecolor": "white",
            "showbackground": true,
            "ticks": "",
            "zerolinecolor": "white"
           }
          },
          "shapedefaults": {
           "line": {
            "color": "#2a3f5f"
           }
          },
          "ternary": {
           "aaxis": {
            "gridcolor": "white",
            "linecolor": "white",
            "ticks": ""
           },
           "baxis": {
            "gridcolor": "white",
            "linecolor": "white",
            "ticks": ""
           },
           "bgcolor": "#E5ECF6",
           "caxis": {
            "gridcolor": "white",
            "linecolor": "white",
            "ticks": ""
           }
          },
          "title": {
           "x": 0.05
          },
          "xaxis": {
           "automargin": true,
           "gridcolor": "white",
           "linecolor": "white",
           "ticks": "",
           "title": {
            "standoff": 15
           },
           "zerolinecolor": "white",
           "zerolinewidth": 2
          },
          "yaxis": {
           "automargin": true,
           "gridcolor": "white",
           "linecolor": "white",
           "ticks": "",
           "title": {
            "standoff": 15
           },
           "zerolinecolor": "white",
           "zerolinewidth": 2
          }
         }
        },
        "title": {
         "text": "All Star Selections Per Year and Team",
         "x": 0.5,
         "xanchor": "center",
         "y": 0.95,
         "yanchor": "top"
        },
        "updatemenus": [
         {
          "active": 2,
          "buttons": [
           {
            "args": [
             "visible",
             [
              true,
              "legendonly"
             ]
            ],
            "label": "East",
            "method": "restyle"
           },
           {
            "args": [
             "visible",
             [
              "legendonly",
              true
             ]
            ],
            "label": "West",
            "method": "restyle"
           },
           {
            "args": [
             "visible",
             [
              true,
              true
             ]
            ],
            "label": "All",
            "method": "restyle"
           }
          ],
          "direction": "down",
          "pad": {
           "r": 10,
           "t": 10
          },
          "showactive": true,
          "x": -0.2,
          "xanchor": "left",
          "y": 1.1,
          "yanchor": "top"
         }
        ],
        "xaxis": {
         "categoryorder": "category ascending"
        },
        "yaxis": {
         "tickfont": {
          "size": 12
         },
         "title": {
          "font": {
           "size": 12
          }
         }
        }
       }
      },
      "text/html": [
       "<div>\n",
       "        \n",
       "        \n",
       "            <div id=\"afbb5501-83cd-4422-abd6-64e4a4cf67e5\" class=\"plotly-graph-div\" style=\"height:850px; width:100%;\"></div>\n",
       "            <script type=\"text/javascript\">\n",
       "                require([\"plotly\"], function(Plotly) {\n",
       "                    window.PLOTLYENV=window.PLOTLYENV || {};\n",
       "                    \n",
       "                if (document.getElementById(\"afbb5501-83cd-4422-abd6-64e4a4cf67e5\")) {\n",
       "                    Plotly.newPlot(\n",
       "                        'afbb5501-83cd-4422-abd6-64e4a4cf67e5',\n",
       "                        [{\"marker\": {\"color\": [1, 1, 1, 2, 2, 2, 2, 2, 2, 1, 2, 1, 1, 1, 1, 1, 1, 2, 1, 1, 2, 1, 1, 1, 2, 1, 1, 1, 1, 1, 1, 2, 1, 2, 1, 2, 1, 1, 1, 1, 1, 2, 1, 1, 2, 1, 1, 2, 1, 1, 1, 4, 1, 2, 1, 1, 1, 1, 2, 1, 2, 1, 2, 1, 1, 2, 1, 3, 1, 1, 3, 1, 2, 1, 1, 2, 1, 3, 1, 2, 1, 1, 1, 2, 3, 1, 2, 3, 1, 1, 1, 1, 1, 1, 1, 1, 1, 2, 4, 1, 3, 1, 1, 1, 1, 2, 1, 2, 1, 3, 1, 1, 1, 2, 1, 2, 1, 1, 3, 2, 1, 1, 1, 1, 1, 2, 3, 1, 1, 1, 1, 4, 2, 2, 2, 1, 1, 1, 1, 2, 1, 2, 1, 1, 1, 2, 1, 1, 2, 1, 1, 1, 1, 1, 3, 1, 1, 1, 2, 1], \"colorscale\": [[0.0, \"rgb(12,51,131)\"], [0.25, \"rgb(10,136,186)\"], [0.5, \"rgb(242,211,56)\"], [0.75, \"rgb(242,143,56)\"], [1.0, \"rgb(217,30,30)\"]], \"showscale\": true, \"size\": [9, 9, 9, 16, 16, 16, 16, 16, 16, 9, 16, 9, 9, 9, 9, 9, 9, 16, 9, 9, 16, 9, 9, 9, 16, 9, 9, 9, 9, 9, 9, 16, 9, 16, 9, 16, 9, 9, 9, 9, 9, 16, 9, 9, 16, 9, 9, 16, 9, 9, 9, 36, 9, 16, 9, 9, 9, 9, 16, 9, 16, 9, 16, 9, 9, 16, 9, 25, 9, 9, 25, 9, 16, 9, 9, 16, 9, 25, 9, 16, 9, 9, 9, 16, 25, 9, 16, 25, 9, 9, 9, 9, 9, 9, 9, 9, 9, 16, 36, 9, 25, 9, 9, 9, 9, 16, 9, 16, 9, 25, 9, 9, 9, 16, 9, 16, 9, 9, 25, 16, 9, 9, 9, 9, 9, 16, 25, 9, 9, 9, 9, 36, 16, 16, 16, 9, 9, 9, 9, 16, 9, 16, 9, 9, 9, 16, 9, 9, 16, 9, 9, 9, 9, 9, 25, 9, 9, 9, 16, 9]}, \"mode\": \"markers\", \"name\": \"East\", \"text\": [1.0, 1.0, 1.0, 2.0, 2.0, 2.0, 2.0, 2.0, 2.0, 1.0, 2.0, 1.0, 1.0, 1.0, 1.0, 1.0, 1.0, 2.0, 1.0, 1.0, 2.0, 1.0, 1.0, 1.0, 2.0, 1.0, 1.0, 1.0, 1.0, 1.0, 1.0, 2.0, 1.0, 2.0, 1.0, 2.0, 1.0, 1.0, 1.0, 1.0, 1.0, 2.0, 1.0, 1.0, 2.0, 1.0, 1.0, 2.0, 1.0, 1.0, 1.0, 4.0, 1.0, 2.0, 1.0, 1.0, 1.0, 1.0, 2.0, 1.0, 2.0, 1.0, 2.0, 1.0, 1.0, 2.0, 1.0, 3.0, 1.0, 1.0, 3.0, 1.0, 2.0, 1.0, 1.0, 2.0, 1.0, 3.0, 1.0, 2.0, 1.0, 1.0, 1.0, 2.0, 3.0, 1.0, 2.0, 3.0, 1.0, 1.0, 1.0, 1.0, 1.0, 1.0, 1.0, 1.0, 1.0, 2.0, 4.0, 1.0, 3.0, 1.0, 1.0, 1.0, 1.0, 2.0, 1.0, 2.0, 1.0, 3.0, 1.0, 1.0, 1.0, 2.0, 1.0, 2.0, 1.0, 1.0, 3.0, 2.0, 1.0, 1.0, 1.0, 1.0, 1.0, 2.0, 3.0, 1.0, 1.0, 1.0, 1.0, 4.0, 2.0, 2.0, 2.0, 1.0, 1.0, 1.0, 1.0, 2.0, 1.0, 2.0, 1.0, 1.0, 1.0, 2.0, 1.0, 1.0, 2.0, 1.0, 1.0, 1.0, 1.0, 1.0, 3.0, 1.0, 1.0, 1.0, 2.0, 1.0], \"type\": \"scatter\", \"x\": [2000, 2000, 2000, 2000, 2000, 2000, 2000, 2000, 2000, 2001, 2001, 2001, 2001, 2001, 2001, 2001, 2001, 2001, 2001, 2001, 2002, 2002, 2002, 2002, 2002, 2002, 2002, 2002, 2002, 2002, 2003, 2003, 2003, 2003, 2003, 2003, 2003, 2003, 2003, 2004, 2004, 2004, 2004, 2004, 2004, 2004, 2004, 2004, 2005, 2005, 2005, 2005, 2005, 2005, 2005, 2005, 2005, 2006, 2006, 2006, 2006, 2006, 2006, 2006, 2006, 2006, 2007, 2007, 2007, 2007, 2007, 2007, 2007, 2007, 2007, 2007, 2008, 2008, 2008, 2008, 2008, 2008, 2008, 2008, 2008, 2008, 2009, 2009, 2009, 2009, 2009, 2009, 2009, 2009, 2009, 2009, 2009, 2010, 2010, 2010, 2010, 2010, 2010, 2010, 2011, 2011, 2011, 2011, 2011, 2011, 2011, 2011, 2011, 2012, 2012, 2012, 2012, 2012, 2012, 2012, 2012, 2013, 2013, 2013, 2013, 2013, 2013, 2013, 2013, 2013, 2013, 2014, 2014, 2014, 2014, 2014, 2014, 2014, 2014, 2015, 2015, 2015, 2015, 2015, 2015, 2015, 2015, 2015, 2015, 2015, 2016, 2016, 2016, 2016, 2016, 2016, 2016, 2016, 2016, 2016], \"y\": [\"Atlanta Hawks\", \"Brooklyn Nets\", \"Detroit Pistons\", \"Miami Heat\", \"Milwaukee Bucks\", \"New York Knicks\", \"Orlando Magic\", \"Philadelphia Sixers\", \"Toronto Raptors\", \"Atlanta Hawks\", \"Boston Celtics\", \"Brooklyn Nets\", \"Charlotte Hornets\", \"Indiana Pacers\", \"Miami Heat\", \"Milwaukee Bucks\", \"Orlando Magic\", \"Philadelphia Sixers\", \"Toronto Raptors\", \"Washington Wizards\", \"Boston Celtics\", \"Brooklyn Nets\", \"Cleveland Cavaliers\", \"Detroit Pistons\", \"Indiana Pacers\", \"New Orleans Pelicans\", \"Orlando Magic\", \"Philadelphia Sixers\", \"Toronto Raptors\", \"Washington Wizards\", \"Boston Celtics\", \"Brooklyn Nets\", \"Detroit Pistons\", \"Indiana Pacers\", \"Milwaukee Bucks\", \"New Orleans Pelicans\", \"Orlando Magic\", \"Philadelphia Sixers\", \"Toronto Raptors\", \"Boston Celtics\", \"Brooklyn Nets\", \"Cleveland Cavaliers\", \"Detroit Pistons\", \"Indiana Pacers\", \"Miami Heat\", \"Orlando Magic\", \"Philadelphia Sixers\", \"Washington Wizards\", \"Boston Celtics\", \"Brooklyn Nets\", \"Cleveland Cavaliers\", \"Detroit Pistons\", \"Indiana Pacers\", \"Miami Heat\", \"Philadelphia Sixers\", \"Toronto Raptors\", \"Washington Wizards\", \"Atlanta Hawks\", \"Brooklyn Nets\", \"Cleveland Cavaliers\", \"Detroit Pistons\", \"Indiana Pacers\", \"Miami Heat\", \"Orlando Magic\", \"Toronto Raptors\", \"Washington Wizards\", \"Atlanta Hawks\", \"Boston Celtics\", \"Brooklyn Nets\", \"Cleveland Cavaliers\", \"Detroit Pistons\", \"Miami Heat\", \"New Orleans Pelicans\", \"Orlando Magic\", \"Toronto Raptors\", \"Washington Wizards\", \"Atlanta Hawks\", \"Boston Celtics\", \"Brooklyn Nets\", \"Cleveland Cavaliers\", \"Detroit Pistons\", \"Indiana Pacers\", \"Miami Heat\", \"New Orleans Pelicans\", \"Orlando Magic\", \"Toronto Raptors\", \"Atlanta Hawks\", \"Boston Celtics\", \"Charlotte Hornets\", \"Chicago Bulls\", \"Cleveland Cavaliers\", \"Miami Heat\", \"New Orleans Pelicans\", \"New York Knicks\", \"Orlando Magic\", \"Philadelphia Sixers\", \"Toronto Raptors\", \"Atlanta Hawks\", \"Boston Celtics\", \"Chicago Bulls\", \"Miami Heat\", \"New Orleans Pelicans\", \"New York Knicks\", \"Orlando Magic\", \"Atlanta Hawks\", \"Boston Celtics\", \"Brooklyn Nets\", \"Chicago Bulls\", \"Indiana Pacers\", \"Miami Heat\", \"New York Knicks\", \"Orlando Magic\", \"Philadelphia Sixers\", \"Boston Celtics\", \"Brooklyn Nets\", \"Chicago Bulls\", \"Cleveland Cavaliers\", \"Indiana Pacers\", \"Miami Heat\", \"New York Knicks\", \"Philadelphia Sixers\", \"Atlanta Hawks\", \"Brooklyn Nets\", \"Chicago Bulls\", \"Cleveland Cavaliers\", \"Indiana Pacers\", \"Miami Heat\", \"New Orleans Pelicans\", \"New York Knicks\", \"Toronto Raptors\", \"Washington Wizards\", \"Atlanta Hawks\", \"Chicago Bulls\", \"Cleveland Cavaliers\", \"Miami Heat\", \"New Orleans Pelicans\", \"New York Knicks\", \"Toronto Raptors\", \"Washington Wizards\", \"Atlanta Hawks\", \"Boston Celtics\", \"Chicago Bulls\", \"Cleveland Cavaliers\", \"Detroit Pistons\", \"Indiana Pacers\", \"Miami Heat\", \"New Orleans Pelicans\", \"New York Knicks\", \"Toronto Raptors\", \"Washington Wizards\", \"Atlanta Hawks\", \"Boston Celtics\", \"Charlotte Hornets\", \"Chicago Bulls\", \"Cleveland Cavaliers\", \"Indiana Pacers\", \"Milwaukee Bucks\", \"New Orleans Pelicans\", \"Toronto Raptors\", \"Washington Wizards\"]}, {\"marker\": {\"color\": [1, 1, 2, 1, 1, 1, 1, 2, 2, 1, 2, 1, 1, 2, 2, 1, 2, 1, 1, 2, 2, 2, 1, 1, 2, 2, 1, 1, 2, 2, 2, 1, 2, 1, 1, 1, 2, 1, 1, 2, 3, 2, 1, 2, 1, 1, 1, 1, 1, 2, 2, 2, 2, 2, 1, 1, 1, 3, 2, 2, 1, 2, 1, 1, 2, 1, 1, 1, 1, 1, 1, 2, 2, 1, 2, 2, 2, 1, 2, 1, 1, 2, 1, 1, 1, 1, 1, 1, 1, 2, 1, 2, 2, 1, 1, 2, 2, 1, 1, 2, 1, 1, 1, 1, 1, 2, 2, 1, 2, 1, 2, 1, 1, 2, 2, 1, 1, 1, 2, 1, 1, 2, 1, 2, 1, 1, 2, 2, 1, 1, 3, 1, 1, 1, 2, 1, 2, 4, 1, 1, 1, 1, 1, 1, 1], \"colorscale\": [[0.0, \"rgb(12,51,131)\"], [0.25, \"rgb(10,136,186)\"], [0.5, \"rgb(242,211,56)\"], [0.75, \"rgb(242,143,56)\"], [1.0, \"rgb(217,30,30)\"]], \"showscale\": true, \"size\": [9, 9, 16, 9, 9, 9, 9, 16, 16, 9, 16, 9, 9, 16, 16, 9, 16, 9, 9, 16, 16, 16, 9, 9, 16, 16, 9, 9, 16, 16, 16, 9, 16, 9, 9, 9, 16, 9, 9, 16, 25, 16, 9, 16, 9, 9, 9, 9, 9, 16, 16, 16, 16, 16, 9, 9, 9, 25, 16, 16, 9, 16, 9, 9, 16, 9, 9, 9, 9, 9, 9, 16, 16, 9, 16, 16, 16, 9, 16, 9, 9, 16, 9, 9, 9, 9, 9, 9, 9, 16, 9, 16, 16, 9, 9, 16, 16, 9, 9, 16, 9, 9, 9, 9, 9, 16, 16, 9, 16, 9, 16, 9, 9, 16, 16, 9, 9, 9, 16, 9, 9, 16, 9, 16, 9, 9, 16, 16, 9, 9, 25, 9, 9, 9, 16, 9, 16, 36, 9, 9, 9, 9, 9, 9, 9]}, \"mode\": \"markers\", \"name\": \"West\", \"text\": [1.0, 1.0, 2.0, 1.0, 1.0, 1.0, 1.0, 2.0, 2.0, 1.0, 2.0, 1.0, 1.0, 2.0, 2.0, 1.0, 2.0, 1.0, 1.0, 2.0, 2.0, 2.0, 1.0, 1.0, 2.0, 2.0, 1.0, 1.0, 2.0, 2.0, 2.0, 1.0, 2.0, 1.0, 1.0, 1.0, 2.0, 1.0, 1.0, 2.0, 3.0, 2.0, 1.0, 2.0, 1.0, 1.0, 1.0, 1.0, 1.0, 2.0, 2.0, 2.0, 2.0, 2.0, 1.0, 1.0, 1.0, 3.0, 2.0, 2.0, 1.0, 2.0, 1.0, 1.0, 2.0, 1.0, 1.0, 1.0, 1.0, 1.0, 1.0, 2.0, 2.0, 1.0, 2.0, 2.0, 2.0, 1.0, 2.0, 1.0, 1.0, 2.0, 1.0, 1.0, 1.0, 1.0, 1.0, 1.0, 1.0, 2.0, 1.0, 2.0, 2.0, 1.0, 1.0, 2.0, 2.0, 1.0, 1.0, 2.0, 1.0, 1.0, 1.0, 1.0, 1.0, 2.0, 2.0, 1.0, 2.0, 1.0, 2.0, 1.0, 1.0, 2.0, 2.0, 1.0, 1.0, 1.0, 2.0, 1.0, 1.0, 2.0, 1.0, 2.0, 1.0, 1.0, 2.0, 2.0, 1.0, 1.0, 3.0, 1.0, 1.0, 1.0, 2.0, 1.0, 2.0, 4.0, 1.0, 1.0, 1.0, 1.0, 1.0, 1.0, 1.0], \"type\": \"scatter\", \"x\": [2000, 2000, 2000, 2000, 2000, 2000, 2000, 2000, 2000, 2000, 2001, 2001, 2001, 2001, 2001, 2001, 2001, 2001, 2001, 2002, 2002, 2002, 2002, 2002, 2002, 2002, 2002, 2003, 2003, 2003, 2003, 2003, 2003, 2003, 2003, 2004, 2004, 2004, 2004, 2004, 2004, 2004, 2005, 2005, 2005, 2005, 2005, 2005, 2005, 2005, 2005, 2006, 2006, 2006, 2006, 2006, 2006, 2006, 2006, 2006, 2007, 2007, 2007, 2007, 2007, 2007, 2007, 2007, 2008, 2008, 2008, 2008, 2008, 2008, 2008, 2009, 2009, 2009, 2009, 2009, 2009, 2009, 2009, 2009, 2009, 2010, 2010, 2010, 2010, 2010, 2010, 2010, 2010, 2010, 2011, 2011, 2011, 2011, 2011, 2011, 2011, 2011, 2011, 2012, 2012, 2012, 2012, 2012, 2012, 2012, 2012, 2013, 2013, 2013, 2013, 2013, 2013, 2013, 2013, 2013, 2014, 2014, 2014, 2014, 2014, 2014, 2014, 2014, 2014, 2014, 2015, 2015, 2015, 2015, 2015, 2015, 2015, 2016, 2016, 2016, 2016, 2016, 2016, 2016, 2016], \"y\": [\"Dallas Mavericks\", \"Denver Nuggets\", \"Los Angeles Lakers\", \"Minnesota Timberwolves\", \"Oklahoma City Thunder\", \"Phoenix Suns\", \"Portland Trail Blazers\", \"Sacramento Kings\", \"San Antonio Spurs\", \"Utah Jazz\", \"Dallas Mavericks\", \"Houston Rockets\", \"Los Angeles Clippers\", \"Los Angeles Lakers\", \"Minnesota Timberwolves\", \"Oklahoma City Thunder\", \"Sacramento Kings\", \"San Antonio Spurs\", \"Utah Jazz\", \"Dallas Mavericks\", \"Houston Rockets\", \"Los Angeles Lakers\", \"Minnesota Timberwolves\", \"Oklahoma City Thunder\", \"Phoenix Suns\", \"Sacramento Kings\", \"San Antonio Spurs\", \"Dallas Mavericks\", \"Houston Rockets\", \"Los Angeles Lakers\", \"Minnesota Timberwolves\", \"Oklahoma City Thunder\", \"Sacramento Kings\", \"San Antonio Spurs\", \"Utah Jazz\", \"Dallas Mavericks\", \"Houston Rockets\", \"Los Angeles Lakers\", \"Minnesota Timberwolves\", \"Oklahoma City Thunder\", \"Phoenix Suns\", \"San Antonio Spurs\", \"Dallas Mavericks\", \"Houston Rockets\", \"Los Angeles Clippers\", \"Los Angeles Lakers\", \"Memphis Grizzlies\", \"Minnesota Timberwolves\", \"Oklahoma City Thunder\", \"Phoenix Suns\", \"San Antonio Spurs\", \"Dallas Mavericks\", \"Denver Nuggets\", \"Houston Rockets\", \"Los Angeles Lakers\", \"Minnesota Timberwolves\", \"Oklahoma City Thunder\", \"Phoenix Suns\", \"San Antonio Spurs\", \"Utah Jazz\", \"Dallas Mavericks\", \"Denver Nuggets\", \"Houston Rockets\", \"Los Angeles Lakers\", \"Phoenix Suns\", \"Portland Trail Blazers\", \"San Antonio Spurs\", \"Utah Jazz\", \"Dallas Mavericks\", \"Denver Nuggets\", \"Houston Rockets\", \"Los Angeles Lakers\", \"Phoenix Suns\", \"Portland Trail Blazers\", \"San Antonio Spurs\", \"Dallas Mavericks\", \"Denver Nuggets\", \"Los Angeles Clippers\", \"Los Angeles Lakers\", \"Memphis Grizzlies\", \"Oklahoma City Thunder\", \"Phoenix Suns\", \"Portland Trail Blazers\", \"San Antonio Spurs\", \"Utah Jazz\", \"Dallas Mavericks\", \"Denver Nuggets\", \"Houston Rockets\", \"Los Angeles Clippers\", \"Los Angeles Lakers\", \"Minnesota Timberwolves\", \"Oklahoma City Thunder\", \"San Antonio Spurs\", \"Utah Jazz\", \"Dallas Mavericks\", \"Los Angeles Clippers\", \"Los Angeles Lakers\", \"Memphis Grizzlies\", \"Minnesota Timberwolves\", \"Oklahoma City Thunder\", \"Phoenix Suns\", \"Portland Trail Blazers\", \"San Antonio Spurs\", \"Golden State Warriors\", \"Houston Rockets\", \"Los Angeles Clippers\", \"Los Angeles Lakers\", \"Memphis Grizzlies\", \"Oklahoma City Thunder\", \"Portland Trail Blazers\", \"San Antonio Spurs\", \"Dallas Mavericks\", \"Golden State Warriors\", \"Houston Rockets\", \"Los Angeles Clippers\", \"Los Angeles Lakers\", \"Minnesota Timberwolves\", \"Oklahoma City Thunder\", \"Portland Trail Blazers\", \"San Antonio Spurs\", \"Dallas Mavericks\", \"Golden State Warriors\", \"Houston Rockets\", \"Los Angeles Clippers\", \"Los Angeles Lakers\", \"Memphis Grizzlies\", \"Oklahoma City Thunder\", \"Portland Trail Blazers\", \"Sacramento Kings\", \"San Antonio Spurs\", \"Golden State Warriors\", \"Houston Rockets\", \"Los Angeles Clippers\", \"Los Angeles Lakers\", \"Oklahoma City Thunder\", \"Sacramento Kings\", \"San Antonio Spurs\", \"Golden State Warriors\", \"Houston Rockets\", \"Los Angeles Clippers\", \"Memphis Grizzlies\", \"Oklahoma City Thunder\", \"Sacramento Kings\", \"San Antonio Spurs\", \"Utah Jazz\"]}],\n",
       "                        {\"annotations\": [{\"align\": \"left\", \"showarrow\": false, \"text\": \"Conference Selection\", \"x\": -0.2, \"xref\": \"paper\", \"y\": 1.13, \"yref\": \"paper\"}], \"height\": 850, \"showlegend\": false, \"template\": {\"data\": {\"bar\": [{\"error_x\": {\"color\": \"#2a3f5f\"}, \"error_y\": {\"color\": \"#2a3f5f\"}, \"marker\": {\"line\": {\"color\": \"#E5ECF6\", \"width\": 0.5}}, \"type\": \"bar\"}], \"barpolar\": [{\"marker\": {\"line\": {\"color\": \"#E5ECF6\", \"width\": 0.5}}, \"type\": \"barpolar\"}], \"carpet\": [{\"aaxis\": {\"endlinecolor\": \"#2a3f5f\", \"gridcolor\": \"white\", \"linecolor\": \"white\", \"minorgridcolor\": \"white\", \"startlinecolor\": \"#2a3f5f\"}, \"baxis\": {\"endlinecolor\": \"#2a3f5f\", \"gridcolor\": \"white\", \"linecolor\": \"white\", \"minorgridcolor\": \"white\", \"startlinecolor\": \"#2a3f5f\"}, \"type\": \"carpet\"}], \"choropleth\": [{\"colorbar\": {\"outlinewidth\": 0, \"ticks\": \"\"}, \"type\": \"choropleth\"}], \"contour\": [{\"colorbar\": {\"outlinewidth\": 0, \"ticks\": \"\"}, \"colorscale\": [[0.0, \"#0d0887\"], [0.1111111111111111, \"#46039f\"], [0.2222222222222222, \"#7201a8\"], [0.3333333333333333, \"#9c179e\"], [0.4444444444444444, \"#bd3786\"], [0.5555555555555556, \"#d8576b\"], [0.6666666666666666, \"#ed7953\"], [0.7777777777777778, \"#fb9f3a\"], [0.8888888888888888, \"#fdca26\"], [1.0, \"#f0f921\"]], \"type\": \"contour\"}], \"contourcarpet\": [{\"colorbar\": {\"outlinewidth\": 0, \"ticks\": \"\"}, \"type\": \"contourcarpet\"}], \"heatmap\": [{\"colorbar\": {\"outlinewidth\": 0, \"ticks\": \"\"}, \"colorscale\": [[0.0, \"#0d0887\"], [0.1111111111111111, \"#46039f\"], [0.2222222222222222, \"#7201a8\"], [0.3333333333333333, \"#9c179e\"], [0.4444444444444444, \"#bd3786\"], [0.5555555555555556, \"#d8576b\"], [0.6666666666666666, \"#ed7953\"], [0.7777777777777778, \"#fb9f3a\"], [0.8888888888888888, \"#fdca26\"], [1.0, \"#f0f921\"]], \"type\": \"heatmap\"}], \"heatmapgl\": [{\"colorbar\": {\"outlinewidth\": 0, \"ticks\": \"\"}, \"colorscale\": [[0.0, \"#0d0887\"], [0.1111111111111111, \"#46039f\"], [0.2222222222222222, \"#7201a8\"], [0.3333333333333333, \"#9c179e\"], [0.4444444444444444, \"#bd3786\"], [0.5555555555555556, \"#d8576b\"], [0.6666666666666666, \"#ed7953\"], [0.7777777777777778, \"#fb9f3a\"], [0.8888888888888888, \"#fdca26\"], [1.0, \"#f0f921\"]], \"type\": \"heatmapgl\"}], \"histogram\": [{\"marker\": {\"colorbar\": {\"outlinewidth\": 0, \"ticks\": \"\"}}, \"type\": \"histogram\"}], \"histogram2d\": [{\"colorbar\": {\"outlinewidth\": 0, \"ticks\": \"\"}, \"colorscale\": [[0.0, \"#0d0887\"], [0.1111111111111111, \"#46039f\"], [0.2222222222222222, \"#7201a8\"], [0.3333333333333333, \"#9c179e\"], [0.4444444444444444, \"#bd3786\"], [0.5555555555555556, \"#d8576b\"], [0.6666666666666666, \"#ed7953\"], [0.7777777777777778, \"#fb9f3a\"], [0.8888888888888888, \"#fdca26\"], [1.0, \"#f0f921\"]], \"type\": \"histogram2d\"}], \"histogram2dcontour\": [{\"colorbar\": {\"outlinewidth\": 0, \"ticks\": \"\"}, \"colorscale\": [[0.0, \"#0d0887\"], [0.1111111111111111, \"#46039f\"], [0.2222222222222222, \"#7201a8\"], [0.3333333333333333, \"#9c179e\"], [0.4444444444444444, \"#bd3786\"], [0.5555555555555556, \"#d8576b\"], [0.6666666666666666, \"#ed7953\"], [0.7777777777777778, \"#fb9f3a\"], [0.8888888888888888, \"#fdca26\"], [1.0, \"#f0f921\"]], \"type\": \"histogram2dcontour\"}], \"mesh3d\": [{\"colorbar\": {\"outlinewidth\": 0, \"ticks\": \"\"}, \"type\": \"mesh3d\"}], \"parcoords\": [{\"line\": {\"colorbar\": {\"outlinewidth\": 0, \"ticks\": \"\"}}, \"type\": \"parcoords\"}], \"pie\": [{\"automargin\": true, \"type\": \"pie\"}], \"scatter\": [{\"marker\": {\"colorbar\": {\"outlinewidth\": 0, \"ticks\": \"\"}}, \"type\": \"scatter\"}], \"scatter3d\": [{\"line\": {\"colorbar\": {\"outlinewidth\": 0, \"ticks\": \"\"}}, \"marker\": {\"colorbar\": {\"outlinewidth\": 0, \"ticks\": \"\"}}, \"type\": \"scatter3d\"}], \"scattercarpet\": [{\"marker\": {\"colorbar\": {\"outlinewidth\": 0, \"ticks\": \"\"}}, \"type\": \"scattercarpet\"}], \"scattergeo\": [{\"marker\": {\"colorbar\": {\"outlinewidth\": 0, \"ticks\": \"\"}}, \"type\": \"scattergeo\"}], \"scattergl\": [{\"marker\": {\"colorbar\": {\"outlinewidth\": 0, \"ticks\": \"\"}}, \"type\": \"scattergl\"}], \"scattermapbox\": [{\"marker\": {\"colorbar\": {\"outlinewidth\": 0, \"ticks\": \"\"}}, \"type\": \"scattermapbox\"}], \"scatterpolar\": [{\"marker\": {\"colorbar\": {\"outlinewidth\": 0, \"ticks\": \"\"}}, \"type\": \"scatterpolar\"}], \"scatterpolargl\": [{\"marker\": {\"colorbar\": {\"outlinewidth\": 0, \"ticks\": \"\"}}, \"type\": \"scatterpolargl\"}], \"scatterternary\": [{\"marker\": {\"colorbar\": {\"outlinewidth\": 0, \"ticks\": \"\"}}, \"type\": \"scatterternary\"}], \"surface\": [{\"colorbar\": {\"outlinewidth\": 0, \"ticks\": \"\"}, \"colorscale\": [[0.0, \"#0d0887\"], [0.1111111111111111, \"#46039f\"], [0.2222222222222222, \"#7201a8\"], [0.3333333333333333, \"#9c179e\"], [0.4444444444444444, \"#bd3786\"], [0.5555555555555556, \"#d8576b\"], [0.6666666666666666, \"#ed7953\"], [0.7777777777777778, \"#fb9f3a\"], [0.8888888888888888, \"#fdca26\"], [1.0, \"#f0f921\"]], \"type\": \"surface\"}], \"table\": [{\"cells\": {\"fill\": {\"color\": \"#EBF0F8\"}, \"line\": {\"color\": \"white\"}}, \"header\": {\"fill\": {\"color\": \"#C8D4E3\"}, \"line\": {\"color\": \"white\"}}, \"type\": \"table\"}]}, \"layout\": {\"annotationdefaults\": {\"arrowcolor\": \"#2a3f5f\", \"arrowhead\": 0, \"arrowwidth\": 1}, \"coloraxis\": {\"colorbar\": {\"outlinewidth\": 0, \"ticks\": \"\"}}, \"colorscale\": {\"diverging\": [[0, \"#8e0152\"], [0.1, \"#c51b7d\"], [0.2, \"#de77ae\"], [0.3, \"#f1b6da\"], [0.4, \"#fde0ef\"], [0.5, \"#f7f7f7\"], [0.6, \"#e6f5d0\"], [0.7, \"#b8e186\"], [0.8, \"#7fbc41\"], [0.9, \"#4d9221\"], [1, \"#276419\"]], \"sequential\": [[0.0, \"#0d0887\"], [0.1111111111111111, \"#46039f\"], [0.2222222222222222, \"#7201a8\"], [0.3333333333333333, \"#9c179e\"], [0.4444444444444444, \"#bd3786\"], [0.5555555555555556, \"#d8576b\"], [0.6666666666666666, \"#ed7953\"], [0.7777777777777778, \"#fb9f3a\"], [0.8888888888888888, \"#fdca26\"], [1.0, \"#f0f921\"]], \"sequentialminus\": [[0.0, \"#0d0887\"], [0.1111111111111111, \"#46039f\"], [0.2222222222222222, \"#7201a8\"], [0.3333333333333333, \"#9c179e\"], [0.4444444444444444, \"#bd3786\"], [0.5555555555555556, \"#d8576b\"], [0.6666666666666666, \"#ed7953\"], [0.7777777777777778, \"#fb9f3a\"], [0.8888888888888888, \"#fdca26\"], [1.0, \"#f0f921\"]]}, \"colorway\": [\"#636efa\", \"#EF553B\", \"#00cc96\", \"#ab63fa\", \"#FFA15A\", \"#19d3f3\", \"#FF6692\", \"#B6E880\", \"#FF97FF\", \"#FECB52\"], \"font\": {\"color\": \"#2a3f5f\"}, \"geo\": {\"bgcolor\": \"white\", \"lakecolor\": \"white\", \"landcolor\": \"#E5ECF6\", \"showlakes\": true, \"showland\": true, \"subunitcolor\": \"white\"}, \"hoverlabel\": {\"align\": \"left\"}, \"hovermode\": \"closest\", \"mapbox\": {\"style\": \"light\"}, \"paper_bgcolor\": \"white\", \"plot_bgcolor\": \"#E5ECF6\", \"polar\": {\"angularaxis\": {\"gridcolor\": \"white\", \"linecolor\": \"white\", \"ticks\": \"\"}, \"bgcolor\": \"#E5ECF6\", \"radialaxis\": {\"gridcolor\": \"white\", \"linecolor\": \"white\", \"ticks\": \"\"}}, \"scene\": {\"xaxis\": {\"backgroundcolor\": \"#E5ECF6\", \"gridcolor\": \"white\", \"gridwidth\": 2, \"linecolor\": \"white\", \"showbackground\": true, \"ticks\": \"\", \"zerolinecolor\": \"white\"}, \"yaxis\": {\"backgroundcolor\": \"#E5ECF6\", \"gridcolor\": \"white\", \"gridwidth\": 2, \"linecolor\": \"white\", \"showbackground\": true, \"ticks\": \"\", \"zerolinecolor\": \"white\"}, \"zaxis\": {\"backgroundcolor\": \"#E5ECF6\", \"gridcolor\": \"white\", \"gridwidth\": 2, \"linecolor\": \"white\", \"showbackground\": true, \"ticks\": \"\", \"zerolinecolor\": \"white\"}}, \"shapedefaults\": {\"line\": {\"color\": \"#2a3f5f\"}}, \"ternary\": {\"aaxis\": {\"gridcolor\": \"white\", \"linecolor\": \"white\", \"ticks\": \"\"}, \"baxis\": {\"gridcolor\": \"white\", \"linecolor\": \"white\", \"ticks\": \"\"}, \"bgcolor\": \"#E5ECF6\", \"caxis\": {\"gridcolor\": \"white\", \"linecolor\": \"white\", \"ticks\": \"\"}}, \"title\": {\"x\": 0.05}, \"xaxis\": {\"automargin\": true, \"gridcolor\": \"white\", \"linecolor\": \"white\", \"ticks\": \"\", \"title\": {\"standoff\": 15}, \"zerolinecolor\": \"white\", \"zerolinewidth\": 2}, \"yaxis\": {\"automargin\": true, \"gridcolor\": \"white\", \"linecolor\": \"white\", \"ticks\": \"\", \"title\": {\"standoff\": 15}, \"zerolinecolor\": \"white\", \"zerolinewidth\": 2}}}, \"title\": {\"text\": \"All Star Selections Per Year and Team\", \"x\": 0.5, \"xanchor\": \"center\", \"y\": 0.95, \"yanchor\": \"top\"}, \"updatemenus\": [{\"active\": 2, \"buttons\": [{\"args\": [\"visible\", [true, \"legendonly\"]], \"label\": \"East\", \"method\": \"restyle\"}, {\"args\": [\"visible\", [\"legendonly\", true]], \"label\": \"West\", \"method\": \"restyle\"}, {\"args\": [\"visible\", [true, true]], \"label\": \"All\", \"method\": \"restyle\"}], \"direction\": \"down\", \"pad\": {\"r\": 10, \"t\": 10}, \"showactive\": true, \"x\": -0.2, \"xanchor\": \"left\", \"y\": 1.1, \"yanchor\": \"top\"}], \"xaxis\": {\"categoryorder\": \"category ascending\"}, \"yaxis\": {\"tickfont\": {\"size\": 12}, \"title\": {\"font\": {\"size\": 12}}}},\n",
       "                        {\"responsive\": true}\n",
       "                    ).then(function(){\n",
       "                            \n",
       "var gd = document.getElementById('afbb5501-83cd-4422-abd6-64e4a4cf67e5');\n",
       "var x = new MutationObserver(function (mutations, observer) {{\n",
       "        var display = window.getComputedStyle(gd).display;\n",
       "        if (!display || display === 'none') {{\n",
       "            console.log([gd, 'removed!']);\n",
       "            Plotly.purge(gd);\n",
       "            observer.disconnect();\n",
       "        }}\n",
       "}});\n",
       "\n",
       "// Listen for the removal of the full notebook cells\n",
       "var notebookContainer = gd.closest('#notebook-container');\n",
       "if (notebookContainer) {{\n",
       "    x.observe(notebookContainer, {childList: true});\n",
       "}}\n",
       "\n",
       "// Listen for the clearing of the current output cell\n",
       "var outputEl = gd.closest('.output');\n",
       "if (outputEl) {{\n",
       "    x.observe(outputEl, {childList: true});\n",
       "}}\n",
       "\n",
       "                        })\n",
       "                };\n",
       "                });\n",
       "            </script>\n",
       "        </div>"
      ]
     },
     "metadata": {},
     "output_type": "display_data"
    }
   ],
   "source": [
    "fig = go.Figure()\n",
    "\n",
    "\n",
    "East = go.Scatter(x = east_stars_per_year['Year'],\n",
    "                      y = east_stars_per_year['Team'],\n",
    "                      marker= dict(size = (east_stars_per_year.Count + 2) ** 2 ,color = east_stars_per_year.Count, colorscale = 'Portland', showscale=True),\n",
    "                      name = 'East',\n",
    "                      mode = 'markers',\n",
    "                      text= east_stars_per_year.Count)\n",
    "\n",
    "West = go.Scatter(x = west_stars_per_year['Year'],\n",
    "                      y = west_stars_per_year['Team'],\n",
    "                      marker= dict(size = (west_stars_per_year.Count + 2) ** 2  , color = west_stars_per_year.Count, colorscale = 'Portland', showscale= True),\n",
    "                      name = 'West',\n",
    "                      mode = 'markers',\n",
    "                      text= west_stars_per_year.Count)\n",
    "\n",
    "data = [East, West]\n",
    "\n",
    "updatemenus = list([\n",
    "    dict(active = 2, \n",
    "        buttons= list([\n",
    "            dict(label= 'East',\n",
    "                method = 'restyle',\n",
    "                args = ['visible', [True, 'legendonly']]\n",
    "                ),\n",
    "            dict(label= 'West',\n",
    "                method = 'restyle',\n",
    "                args = ['visible', ['legendonly', True]]\n",
    "                ),\n",
    "            dict(label= 'All',\n",
    "                method = 'restyle',\n",
    "                args = ['visible', [True, True]]\n",
    "                )\n",
    "        ]),\n",
    "         direction = 'down',\n",
    "         pad ={'r' : 10, 't': 10},\n",
    "         showactive= True,\n",
    "         x=-0.2,\n",
    "         xanchor = 'left',\n",
    "         y=1.1,\n",
    "         yanchor = 'top'\n",
    ")])\n",
    "\n",
    "layout = dict(title ={'text': 'All Star Selections Per Year and Team', 'y': 0.95, 'x' : 0.5, 'xanchor' : 'center', 'yanchor': 'top'}, \n",
    "              showlegend = False,\n",
    "              height = 850,\n",
    "              updatemenus = updatemenus,\n",
    "            xaxis= dict(categoryorder = 'category ascending'), \n",
    "              yaxis = dict(titlefont_size =12,\n",
    "                          tickfont_size = 12), \n",
    "             annotations=[\n",
    "                 go.layout.Annotation(text='Conference Selection',  x = -0.2, xref='paper', y =  1.13, yref='paper' , align = 'left', showarrow= False)\n",
    "             ])\n",
    "\n",
    "\n",
    "\n",
    "fig = dict(data=data, layout=layout)\n",
    "iplot(fig) "
   ]
  },
  {
   "cell_type": "markdown",
   "metadata": {},
   "source": [
    "In the Western Conference, the Golden State Warriors and Phoenix Suns stand out the most. Warriors clearly became a strong team starting in 2012; they had no All-Star selections from 2000 to 2011. Phoenix Suns had some success when 3 All-Stars were selected each year in 2004 and 2006. San Antonio Spurs have remained relevant, resulting in at least 1 All-Star every year from 2000 to 2016.\n",
    "\n",
    "\n",
    "In the Eastern Conference, the Boston Celtics, Miami Heat, Detroit Pistons, and Atlanta Hawks stand out. From 2007 to 2010, the Celtics won one championship and advanced to the playoffs. Lebron, Wade, and Bosh won back to back championships (12' & 13') for Miami. Their reign of dominance started in 2010 with the emergence of the 'Big Three': Lebron, Wade, and Bosh. In 2014, Atlanta Hawks had a superb regular season which resulted in 4 All-Stars but no Finals appearance.\n",
    "\n",
    "I included a drop down menu to toggle between conferences and show all. "
   ]
  },
  {
   "cell_type": "code",
   "execution_count": 161,
   "metadata": {},
   "outputs": [
    {
     "data": {
      "application/vnd.plotly.v1+json": {
       "config": {
        "plotlyServerURL": "https://plot.ly"
       },
       "data": [
        {
         "alignmentgroup": "True",
         "hoverlabel": {
          "namelength": 0
         },
         "hovertemplate": "Selection Type=%{x}<br>Frequency=%{y}",
         "legendgroup": "",
         "marker": {
          "color": "#636efa"
         },
         "name": "",
         "offsetgroup": "",
         "orientation": "v",
         "showlegend": false,
         "textposition": "auto",
         "type": "bar",
         "x": [
          "Eastern All-Star Coaches Selection",
          "Eastern All-Star Fan Vote Selection",
          "Eastern All-Star Replacement Selection",
          "Western All-Star Coaches Selection",
          "Western All-Star Fan Vote Selection",
          "Western All-Star Replacement Selection"
         ],
         "xaxis": "x",
         "y": [
          119,
          85,
          16,
          119,
          85,
          15
         ],
         "yaxis": "y"
        }
       ],
       "layout": {
        "barmode": "relative",
        "height": 700,
        "legend": {
         "tracegroupgap": 0
        },
        "margin": {
         "t": 60
        },
        "template": {
         "data": {
          "bar": [
           {
            "error_x": {
             "color": "#2a3f5f"
            },
            "error_y": {
             "color": "#2a3f5f"
            },
            "marker": {
             "line": {
              "color": "#E5ECF6",
              "width": 0.5
             }
            },
            "type": "bar"
           }
          ],
          "barpolar": [
           {
            "marker": {
             "line": {
              "color": "#E5ECF6",
              "width": 0.5
             }
            },
            "type": "barpolar"
           }
          ],
          "carpet": [
           {
            "aaxis": {
             "endlinecolor": "#2a3f5f",
             "gridcolor": "white",
             "linecolor": "white",
             "minorgridcolor": "white",
             "startlinecolor": "#2a3f5f"
            },
            "baxis": {
             "endlinecolor": "#2a3f5f",
             "gridcolor": "white",
             "linecolor": "white",
             "minorgridcolor": "white",
             "startlinecolor": "#2a3f5f"
            },
            "type": "carpet"
           }
          ],
          "choropleth": [
           {
            "colorbar": {
             "outlinewidth": 0,
             "ticks": ""
            },
            "type": "choropleth"
           }
          ],
          "contour": [
           {
            "colorbar": {
             "outlinewidth": 0,
             "ticks": ""
            },
            "colorscale": [
             [
              0,
              "#0d0887"
             ],
             [
              0.1111111111111111,
              "#46039f"
             ],
             [
              0.2222222222222222,
              "#7201a8"
             ],
             [
              0.3333333333333333,
              "#9c179e"
             ],
             [
              0.4444444444444444,
              "#bd3786"
             ],
             [
              0.5555555555555556,
              "#d8576b"
             ],
             [
              0.6666666666666666,
              "#ed7953"
             ],
             [
              0.7777777777777778,
              "#fb9f3a"
             ],
             [
              0.8888888888888888,
              "#fdca26"
             ],
             [
              1,
              "#f0f921"
             ]
            ],
            "type": "contour"
           }
          ],
          "contourcarpet": [
           {
            "colorbar": {
             "outlinewidth": 0,
             "ticks": ""
            },
            "type": "contourcarpet"
           }
          ],
          "heatmap": [
           {
            "colorbar": {
             "outlinewidth": 0,
             "ticks": ""
            },
            "colorscale": [
             [
              0,
              "#0d0887"
             ],
             [
              0.1111111111111111,
              "#46039f"
             ],
             [
              0.2222222222222222,
              "#7201a8"
             ],
             [
              0.3333333333333333,
              "#9c179e"
             ],
             [
              0.4444444444444444,
              "#bd3786"
             ],
             [
              0.5555555555555556,
              "#d8576b"
             ],
             [
              0.6666666666666666,
              "#ed7953"
             ],
             [
              0.7777777777777778,
              "#fb9f3a"
             ],
             [
              0.8888888888888888,
              "#fdca26"
             ],
             [
              1,
              "#f0f921"
             ]
            ],
            "type": "heatmap"
           }
          ],
          "heatmapgl": [
           {
            "colorbar": {
             "outlinewidth": 0,
             "ticks": ""
            },
            "colorscale": [
             [
              0,
              "#0d0887"
             ],
             [
              0.1111111111111111,
              "#46039f"
             ],
             [
              0.2222222222222222,
              "#7201a8"
             ],
             [
              0.3333333333333333,
              "#9c179e"
             ],
             [
              0.4444444444444444,
              "#bd3786"
             ],
             [
              0.5555555555555556,
              "#d8576b"
             ],
             [
              0.6666666666666666,
              "#ed7953"
             ],
             [
              0.7777777777777778,
              "#fb9f3a"
             ],
             [
              0.8888888888888888,
              "#fdca26"
             ],
             [
              1,
              "#f0f921"
             ]
            ],
            "type": "heatmapgl"
           }
          ],
          "histogram": [
           {
            "marker": {
             "colorbar": {
              "outlinewidth": 0,
              "ticks": ""
             }
            },
            "type": "histogram"
           }
          ],
          "histogram2d": [
           {
            "colorbar": {
             "outlinewidth": 0,
             "ticks": ""
            },
            "colorscale": [
             [
              0,
              "#0d0887"
             ],
             [
              0.1111111111111111,
              "#46039f"
             ],
             [
              0.2222222222222222,
              "#7201a8"
             ],
             [
              0.3333333333333333,
              "#9c179e"
             ],
             [
              0.4444444444444444,
              "#bd3786"
             ],
             [
              0.5555555555555556,
              "#d8576b"
             ],
             [
              0.6666666666666666,
              "#ed7953"
             ],
             [
              0.7777777777777778,
              "#fb9f3a"
             ],
             [
              0.8888888888888888,
              "#fdca26"
             ],
             [
              1,
              "#f0f921"
             ]
            ],
            "type": "histogram2d"
           }
          ],
          "histogram2dcontour": [
           {
            "colorbar": {
             "outlinewidth": 0,
             "ticks": ""
            },
            "colorscale": [
             [
              0,
              "#0d0887"
             ],
             [
              0.1111111111111111,
              "#46039f"
             ],
             [
              0.2222222222222222,
              "#7201a8"
             ],
             [
              0.3333333333333333,
              "#9c179e"
             ],
             [
              0.4444444444444444,
              "#bd3786"
             ],
             [
              0.5555555555555556,
              "#d8576b"
             ],
             [
              0.6666666666666666,
              "#ed7953"
             ],
             [
              0.7777777777777778,
              "#fb9f3a"
             ],
             [
              0.8888888888888888,
              "#fdca26"
             ],
             [
              1,
              "#f0f921"
             ]
            ],
            "type": "histogram2dcontour"
           }
          ],
          "mesh3d": [
           {
            "colorbar": {
             "outlinewidth": 0,
             "ticks": ""
            },
            "type": "mesh3d"
           }
          ],
          "parcoords": [
           {
            "line": {
             "colorbar": {
              "outlinewidth": 0,
              "ticks": ""
             }
            },
            "type": "parcoords"
           }
          ],
          "pie": [
           {
            "automargin": true,
            "type": "pie"
           }
          ],
          "scatter": [
           {
            "marker": {
             "colorbar": {
              "outlinewidth": 0,
              "ticks": ""
             }
            },
            "type": "scatter"
           }
          ],
          "scatter3d": [
           {
            "line": {
             "colorbar": {
              "outlinewidth": 0,
              "ticks": ""
             }
            },
            "marker": {
             "colorbar": {
              "outlinewidth": 0,
              "ticks": ""
             }
            },
            "type": "scatter3d"
           }
          ],
          "scattercarpet": [
           {
            "marker": {
             "colorbar": {
              "outlinewidth": 0,
              "ticks": ""
             }
            },
            "type": "scattercarpet"
           }
          ],
          "scattergeo": [
           {
            "marker": {
             "colorbar": {
              "outlinewidth": 0,
              "ticks": ""
             }
            },
            "type": "scattergeo"
           }
          ],
          "scattergl": [
           {
            "marker": {
             "colorbar": {
              "outlinewidth": 0,
              "ticks": ""
             }
            },
            "type": "scattergl"
           }
          ],
          "scattermapbox": [
           {
            "marker": {
             "colorbar": {
              "outlinewidth": 0,
              "ticks": ""
             }
            },
            "type": "scattermapbox"
           }
          ],
          "scatterpolar": [
           {
            "marker": {
             "colorbar": {
              "outlinewidth": 0,
              "ticks": ""
             }
            },
            "type": "scatterpolar"
           }
          ],
          "scatterpolargl": [
           {
            "marker": {
             "colorbar": {
              "outlinewidth": 0,
              "ticks": ""
             }
            },
            "type": "scatterpolargl"
           }
          ],
          "scatterternary": [
           {
            "marker": {
             "colorbar": {
              "outlinewidth": 0,
              "ticks": ""
             }
            },
            "type": "scatterternary"
           }
          ],
          "surface": [
           {
            "colorbar": {
             "outlinewidth": 0,
             "ticks": ""
            },
            "colorscale": [
             [
              0,
              "#0d0887"
             ],
             [
              0.1111111111111111,
              "#46039f"
             ],
             [
              0.2222222222222222,
              "#7201a8"
             ],
             [
              0.3333333333333333,
              "#9c179e"
             ],
             [
              0.4444444444444444,
              "#bd3786"
             ],
             [
              0.5555555555555556,
              "#d8576b"
             ],
             [
              0.6666666666666666,
              "#ed7953"
             ],
             [
              0.7777777777777778,
              "#fb9f3a"
             ],
             [
              0.8888888888888888,
              "#fdca26"
             ],
             [
              1,
              "#f0f921"
             ]
            ],
            "type": "surface"
           }
          ],
          "table": [
           {
            "cells": {
             "fill": {
              "color": "#EBF0F8"
             },
             "line": {
              "color": "white"
             }
            },
            "header": {
             "fill": {
              "color": "#C8D4E3"
             },
             "line": {
              "color": "white"
             }
            },
            "type": "table"
           }
          ]
         },
         "layout": {
          "annotationdefaults": {
           "arrowcolor": "#2a3f5f",
           "arrowhead": 0,
           "arrowwidth": 1
          },
          "coloraxis": {
           "colorbar": {
            "outlinewidth": 0,
            "ticks": ""
           }
          },
          "colorscale": {
           "diverging": [
            [
             0,
             "#8e0152"
            ],
            [
             0.1,
             "#c51b7d"
            ],
            [
             0.2,
             "#de77ae"
            ],
            [
             0.3,
             "#f1b6da"
            ],
            [
             0.4,
             "#fde0ef"
            ],
            [
             0.5,
             "#f7f7f7"
            ],
            [
             0.6,
             "#e6f5d0"
            ],
            [
             0.7,
             "#b8e186"
            ],
            [
             0.8,
             "#7fbc41"
            ],
            [
             0.9,
             "#4d9221"
            ],
            [
             1,
             "#276419"
            ]
           ],
           "sequential": [
            [
             0,
             "#0d0887"
            ],
            [
             0.1111111111111111,
             "#46039f"
            ],
            [
             0.2222222222222222,
             "#7201a8"
            ],
            [
             0.3333333333333333,
             "#9c179e"
            ],
            [
             0.4444444444444444,
             "#bd3786"
            ],
            [
             0.5555555555555556,
             "#d8576b"
            ],
            [
             0.6666666666666666,
             "#ed7953"
            ],
            [
             0.7777777777777778,
             "#fb9f3a"
            ],
            [
             0.8888888888888888,
             "#fdca26"
            ],
            [
             1,
             "#f0f921"
            ]
           ],
           "sequentialminus": [
            [
             0,
             "#0d0887"
            ],
            [
             0.1111111111111111,
             "#46039f"
            ],
            [
             0.2222222222222222,
             "#7201a8"
            ],
            [
             0.3333333333333333,
             "#9c179e"
            ],
            [
             0.4444444444444444,
             "#bd3786"
            ],
            [
             0.5555555555555556,
             "#d8576b"
            ],
            [
             0.6666666666666666,
             "#ed7953"
            ],
            [
             0.7777777777777778,
             "#fb9f3a"
            ],
            [
             0.8888888888888888,
             "#fdca26"
            ],
            [
             1,
             "#f0f921"
            ]
           ]
          },
          "colorway": [
           "#636efa",
           "#EF553B",
           "#00cc96",
           "#ab63fa",
           "#FFA15A",
           "#19d3f3",
           "#FF6692",
           "#B6E880",
           "#FF97FF",
           "#FECB52"
          ],
          "font": {
           "color": "#2a3f5f"
          },
          "geo": {
           "bgcolor": "white",
           "lakecolor": "white",
           "landcolor": "#E5ECF6",
           "showlakes": true,
           "showland": true,
           "subunitcolor": "white"
          },
          "hoverlabel": {
           "align": "left"
          },
          "hovermode": "closest",
          "mapbox": {
           "style": "light"
          },
          "paper_bgcolor": "white",
          "plot_bgcolor": "#E5ECF6",
          "polar": {
           "angularaxis": {
            "gridcolor": "white",
            "linecolor": "white",
            "ticks": ""
           },
           "bgcolor": "#E5ECF6",
           "radialaxis": {
            "gridcolor": "white",
            "linecolor": "white",
            "ticks": ""
           }
          },
          "scene": {
           "xaxis": {
            "backgroundcolor": "#E5ECF6",
            "gridcolor": "white",
            "gridwidth": 2,
            "linecolor": "white",
            "showbackground": true,
            "ticks": "",
            "zerolinecolor": "white"
           },
           "yaxis": {
            "backgroundcolor": "#E5ECF6",
            "gridcolor": "white",
            "gridwidth": 2,
            "linecolor": "white",
            "showbackground": true,
            "ticks": "",
            "zerolinecolor": "white"
           },
           "zaxis": {
            "backgroundcolor": "#E5ECF6",
            "gridcolor": "white",
            "gridwidth": 2,
            "linecolor": "white",
            "showbackground": true,
            "ticks": "",
            "zerolinecolor": "white"
           }
          },
          "shapedefaults": {
           "line": {
            "color": "#2a3f5f"
           }
          },
          "ternary": {
           "aaxis": {
            "gridcolor": "white",
            "linecolor": "white",
            "ticks": ""
           },
           "baxis": {
            "gridcolor": "white",
            "linecolor": "white",
            "ticks": ""
           },
           "bgcolor": "#E5ECF6",
           "caxis": {
            "gridcolor": "white",
            "linecolor": "white",
            "ticks": ""
           }
          },
          "title": {
           "x": 0.05
          },
          "xaxis": {
           "automargin": true,
           "gridcolor": "white",
           "linecolor": "white",
           "ticks": "",
           "title": {
            "standoff": 15
           },
           "zerolinecolor": "white",
           "zerolinewidth": 2
          },
          "yaxis": {
           "automargin": true,
           "gridcolor": "white",
           "linecolor": "white",
           "ticks": "",
           "title": {
            "standoff": 15
           },
           "zerolinecolor": "white",
           "zerolinewidth": 2
          }
         }
        },
        "title": {
         "text": "Selection Type Distribution",
         "x": 0.45,
         "y": 0.95
        },
        "width": 900,
        "xaxis": {
         "anchor": "y",
         "domain": [
          0,
          1
         ],
         "title": {
          "text": "Selection Type"
         }
        },
        "yaxis": {
         "anchor": "x",
         "domain": [
          0,
          1
         ],
         "title": {
          "text": "Frequency"
         }
        }
       }
      },
      "text/html": [
       "<div>\n",
       "        \n",
       "        \n",
       "            <div id=\"c092cb87-a74b-4305-8651-cfc645ff45fd\" class=\"plotly-graph-div\" style=\"height:700px; width:900px;\"></div>\n",
       "            <script type=\"text/javascript\">\n",
       "                require([\"plotly\"], function(Plotly) {\n",
       "                    window.PLOTLYENV=window.PLOTLYENV || {};\n",
       "                    \n",
       "                if (document.getElementById(\"c092cb87-a74b-4305-8651-cfc645ff45fd\")) {\n",
       "                    Plotly.newPlot(\n",
       "                        'c092cb87-a74b-4305-8651-cfc645ff45fd',\n",
       "                        [{\"alignmentgroup\": \"True\", \"hoverlabel\": {\"namelength\": 0}, \"hovertemplate\": \"Selection Type=%{x}<br>Frequency=%{y}\", \"legendgroup\": \"\", \"marker\": {\"color\": \"#636efa\"}, \"name\": \"\", \"offsetgroup\": \"\", \"orientation\": \"v\", \"showlegend\": false, \"textposition\": \"auto\", \"type\": \"bar\", \"x\": [\"Eastern All-Star Coaches Selection\", \"Eastern All-Star Fan Vote Selection\", \"Eastern All-Star Replacement Selection\", \"Western All-Star Coaches Selection\", \"Western All-Star Fan Vote Selection\", \"Western All-Star Replacement Selection\"], \"xaxis\": \"x\", \"y\": [119, 85, 16, 119, 85, 15], \"yaxis\": \"y\"}],\n",
       "                        {\"barmode\": \"relative\", \"height\": 700, \"legend\": {\"tracegroupgap\": 0}, \"margin\": {\"t\": 60}, \"template\": {\"data\": {\"bar\": [{\"error_x\": {\"color\": \"#2a3f5f\"}, \"error_y\": {\"color\": \"#2a3f5f\"}, \"marker\": {\"line\": {\"color\": \"#E5ECF6\", \"width\": 0.5}}, \"type\": \"bar\"}], \"barpolar\": [{\"marker\": {\"line\": {\"color\": \"#E5ECF6\", \"width\": 0.5}}, \"type\": \"barpolar\"}], \"carpet\": [{\"aaxis\": {\"endlinecolor\": \"#2a3f5f\", \"gridcolor\": \"white\", \"linecolor\": \"white\", \"minorgridcolor\": \"white\", \"startlinecolor\": \"#2a3f5f\"}, \"baxis\": {\"endlinecolor\": \"#2a3f5f\", \"gridcolor\": \"white\", \"linecolor\": \"white\", \"minorgridcolor\": \"white\", \"startlinecolor\": \"#2a3f5f\"}, \"type\": \"carpet\"}], \"choropleth\": [{\"colorbar\": {\"outlinewidth\": 0, \"ticks\": \"\"}, \"type\": \"choropleth\"}], \"contour\": [{\"colorbar\": {\"outlinewidth\": 0, \"ticks\": \"\"}, \"colorscale\": [[0.0, \"#0d0887\"], [0.1111111111111111, \"#46039f\"], [0.2222222222222222, \"#7201a8\"], [0.3333333333333333, \"#9c179e\"], [0.4444444444444444, \"#bd3786\"], [0.5555555555555556, \"#d8576b\"], [0.6666666666666666, \"#ed7953\"], [0.7777777777777778, \"#fb9f3a\"], [0.8888888888888888, \"#fdca26\"], [1.0, \"#f0f921\"]], \"type\": \"contour\"}], \"contourcarpet\": [{\"colorbar\": {\"outlinewidth\": 0, \"ticks\": \"\"}, \"type\": \"contourcarpet\"}], \"heatmap\": [{\"colorbar\": {\"outlinewidth\": 0, \"ticks\": \"\"}, \"colorscale\": [[0.0, \"#0d0887\"], [0.1111111111111111, \"#46039f\"], [0.2222222222222222, \"#7201a8\"], [0.3333333333333333, \"#9c179e\"], [0.4444444444444444, \"#bd3786\"], [0.5555555555555556, \"#d8576b\"], [0.6666666666666666, \"#ed7953\"], [0.7777777777777778, \"#fb9f3a\"], [0.8888888888888888, \"#fdca26\"], [1.0, \"#f0f921\"]], \"type\": \"heatmap\"}], \"heatmapgl\": [{\"colorbar\": {\"outlinewidth\": 0, \"ticks\": \"\"}, \"colorscale\": [[0.0, \"#0d0887\"], [0.1111111111111111, \"#46039f\"], [0.2222222222222222, \"#7201a8\"], [0.3333333333333333, \"#9c179e\"], [0.4444444444444444, \"#bd3786\"], [0.5555555555555556, \"#d8576b\"], [0.6666666666666666, \"#ed7953\"], [0.7777777777777778, \"#fb9f3a\"], [0.8888888888888888, \"#fdca26\"], [1.0, \"#f0f921\"]], \"type\": \"heatmapgl\"}], \"histogram\": [{\"marker\": {\"colorbar\": {\"outlinewidth\": 0, \"ticks\": \"\"}}, \"type\": \"histogram\"}], \"histogram2d\": [{\"colorbar\": {\"outlinewidth\": 0, \"ticks\": \"\"}, \"colorscale\": [[0.0, \"#0d0887\"], [0.1111111111111111, \"#46039f\"], [0.2222222222222222, \"#7201a8\"], [0.3333333333333333, \"#9c179e\"], [0.4444444444444444, \"#bd3786\"], [0.5555555555555556, \"#d8576b\"], [0.6666666666666666, \"#ed7953\"], [0.7777777777777778, \"#fb9f3a\"], [0.8888888888888888, \"#fdca26\"], [1.0, \"#f0f921\"]], \"type\": \"histogram2d\"}], \"histogram2dcontour\": [{\"colorbar\": {\"outlinewidth\": 0, \"ticks\": \"\"}, \"colorscale\": [[0.0, \"#0d0887\"], [0.1111111111111111, \"#46039f\"], [0.2222222222222222, \"#7201a8\"], [0.3333333333333333, \"#9c179e\"], [0.4444444444444444, \"#bd3786\"], [0.5555555555555556, \"#d8576b\"], [0.6666666666666666, \"#ed7953\"], [0.7777777777777778, \"#fb9f3a\"], [0.8888888888888888, \"#fdca26\"], [1.0, \"#f0f921\"]], \"type\": \"histogram2dcontour\"}], \"mesh3d\": [{\"colorbar\": {\"outlinewidth\": 0, \"ticks\": \"\"}, \"type\": \"mesh3d\"}], \"parcoords\": [{\"line\": {\"colorbar\": {\"outlinewidth\": 0, \"ticks\": \"\"}}, \"type\": \"parcoords\"}], \"pie\": [{\"automargin\": true, \"type\": \"pie\"}], \"scatter\": [{\"marker\": {\"colorbar\": {\"outlinewidth\": 0, \"ticks\": \"\"}}, \"type\": \"scatter\"}], \"scatter3d\": [{\"line\": {\"colorbar\": {\"outlinewidth\": 0, \"ticks\": \"\"}}, \"marker\": {\"colorbar\": {\"outlinewidth\": 0, \"ticks\": \"\"}}, \"type\": \"scatter3d\"}], \"scattercarpet\": [{\"marker\": {\"colorbar\": {\"outlinewidth\": 0, \"ticks\": \"\"}}, \"type\": \"scattercarpet\"}], \"scattergeo\": [{\"marker\": {\"colorbar\": {\"outlinewidth\": 0, \"ticks\": \"\"}}, \"type\": \"scattergeo\"}], \"scattergl\": [{\"marker\": {\"colorbar\": {\"outlinewidth\": 0, \"ticks\": \"\"}}, \"type\": \"scattergl\"}], \"scattermapbox\": [{\"marker\": {\"colorbar\": {\"outlinewidth\": 0, \"ticks\": \"\"}}, \"type\": \"scattermapbox\"}], \"scatterpolar\": [{\"marker\": {\"colorbar\": {\"outlinewidth\": 0, \"ticks\": \"\"}}, \"type\": \"scatterpolar\"}], \"scatterpolargl\": [{\"marker\": {\"colorbar\": {\"outlinewidth\": 0, \"ticks\": \"\"}}, \"type\": \"scatterpolargl\"}], \"scatterternary\": [{\"marker\": {\"colorbar\": {\"outlinewidth\": 0, \"ticks\": \"\"}}, \"type\": \"scatterternary\"}], \"surface\": [{\"colorbar\": {\"outlinewidth\": 0, \"ticks\": \"\"}, \"colorscale\": [[0.0, \"#0d0887\"], [0.1111111111111111, \"#46039f\"], [0.2222222222222222, \"#7201a8\"], [0.3333333333333333, \"#9c179e\"], [0.4444444444444444, \"#bd3786\"], [0.5555555555555556, \"#d8576b\"], [0.6666666666666666, \"#ed7953\"], [0.7777777777777778, \"#fb9f3a\"], [0.8888888888888888, \"#fdca26\"], [1.0, \"#f0f921\"]], \"type\": \"surface\"}], \"table\": [{\"cells\": {\"fill\": {\"color\": \"#EBF0F8\"}, \"line\": {\"color\": \"white\"}}, \"header\": {\"fill\": {\"color\": \"#C8D4E3\"}, \"line\": {\"color\": \"white\"}}, \"type\": \"table\"}]}, \"layout\": {\"annotationdefaults\": {\"arrowcolor\": \"#2a3f5f\", \"arrowhead\": 0, \"arrowwidth\": 1}, \"coloraxis\": {\"colorbar\": {\"outlinewidth\": 0, \"ticks\": \"\"}}, \"colorscale\": {\"diverging\": [[0, \"#8e0152\"], [0.1, \"#c51b7d\"], [0.2, \"#de77ae\"], [0.3, \"#f1b6da\"], [0.4, \"#fde0ef\"], [0.5, \"#f7f7f7\"], [0.6, \"#e6f5d0\"], [0.7, \"#b8e186\"], [0.8, \"#7fbc41\"], [0.9, \"#4d9221\"], [1, \"#276419\"]], \"sequential\": [[0.0, \"#0d0887\"], [0.1111111111111111, \"#46039f\"], [0.2222222222222222, \"#7201a8\"], [0.3333333333333333, \"#9c179e\"], [0.4444444444444444, \"#bd3786\"], [0.5555555555555556, \"#d8576b\"], [0.6666666666666666, \"#ed7953\"], [0.7777777777777778, \"#fb9f3a\"], [0.8888888888888888, \"#fdca26\"], [1.0, \"#f0f921\"]], \"sequentialminus\": [[0.0, \"#0d0887\"], [0.1111111111111111, \"#46039f\"], [0.2222222222222222, \"#7201a8\"], [0.3333333333333333, \"#9c179e\"], [0.4444444444444444, \"#bd3786\"], [0.5555555555555556, \"#d8576b\"], [0.6666666666666666, \"#ed7953\"], [0.7777777777777778, \"#fb9f3a\"], [0.8888888888888888, \"#fdca26\"], [1.0, \"#f0f921\"]]}, \"colorway\": [\"#636efa\", \"#EF553B\", \"#00cc96\", \"#ab63fa\", \"#FFA15A\", \"#19d3f3\", \"#FF6692\", \"#B6E880\", \"#FF97FF\", \"#FECB52\"], \"font\": {\"color\": \"#2a3f5f\"}, \"geo\": {\"bgcolor\": \"white\", \"lakecolor\": \"white\", \"landcolor\": \"#E5ECF6\", \"showlakes\": true, \"showland\": true, \"subunitcolor\": \"white\"}, \"hoverlabel\": {\"align\": \"left\"}, \"hovermode\": \"closest\", \"mapbox\": {\"style\": \"light\"}, \"paper_bgcolor\": \"white\", \"plot_bgcolor\": \"#E5ECF6\", \"polar\": {\"angularaxis\": {\"gridcolor\": \"white\", \"linecolor\": \"white\", \"ticks\": \"\"}, \"bgcolor\": \"#E5ECF6\", \"radialaxis\": {\"gridcolor\": \"white\", \"linecolor\": \"white\", \"ticks\": \"\"}}, \"scene\": {\"xaxis\": {\"backgroundcolor\": \"#E5ECF6\", \"gridcolor\": \"white\", \"gridwidth\": 2, \"linecolor\": \"white\", \"showbackground\": true, \"ticks\": \"\", \"zerolinecolor\": \"white\"}, \"yaxis\": {\"backgroundcolor\": \"#E5ECF6\", \"gridcolor\": \"white\", \"gridwidth\": 2, \"linecolor\": \"white\", \"showbackground\": true, \"ticks\": \"\", \"zerolinecolor\": \"white\"}, \"zaxis\": {\"backgroundcolor\": \"#E5ECF6\", \"gridcolor\": \"white\", \"gridwidth\": 2, \"linecolor\": \"white\", \"showbackground\": true, \"ticks\": \"\", \"zerolinecolor\": \"white\"}}, \"shapedefaults\": {\"line\": {\"color\": \"#2a3f5f\"}}, \"ternary\": {\"aaxis\": {\"gridcolor\": \"white\", \"linecolor\": \"white\", \"ticks\": \"\"}, \"baxis\": {\"gridcolor\": \"white\", \"linecolor\": \"white\", \"ticks\": \"\"}, \"bgcolor\": \"#E5ECF6\", \"caxis\": {\"gridcolor\": \"white\", \"linecolor\": \"white\", \"ticks\": \"\"}}, \"title\": {\"x\": 0.05}, \"xaxis\": {\"automargin\": true, \"gridcolor\": \"white\", \"linecolor\": \"white\", \"ticks\": \"\", \"title\": {\"standoff\": 15}, \"zerolinecolor\": \"white\", \"zerolinewidth\": 2}, \"yaxis\": {\"automargin\": true, \"gridcolor\": \"white\", \"linecolor\": \"white\", \"ticks\": \"\", \"title\": {\"standoff\": 15}, \"zerolinecolor\": \"white\", \"zerolinewidth\": 2}}}, \"title\": {\"text\": \"Selection Type Distribution\", \"x\": 0.45, \"y\": 0.95}, \"width\": 900, \"xaxis\": {\"anchor\": \"y\", \"domain\": [0.0, 1.0], \"title\": {\"text\": \"Selection Type\"}}, \"yaxis\": {\"anchor\": \"x\", \"domain\": [0.0, 1.0], \"title\": {\"text\": \"Frequency\"}}},\n",
       "                        {\"responsive\": true}\n",
       "                    ).then(function(){\n",
       "                            \n",
       "var gd = document.getElementById('c092cb87-a74b-4305-8651-cfc645ff45fd');\n",
       "var x = new MutationObserver(function (mutations, observer) {{\n",
       "        var display = window.getComputedStyle(gd).display;\n",
       "        if (!display || display === 'none') {{\n",
       "            console.log([gd, 'removed!']);\n",
       "            Plotly.purge(gd);\n",
       "            observer.disconnect();\n",
       "        }}\n",
       "}});\n",
       "\n",
       "// Listen for the removal of the full notebook cells\n",
       "var notebookContainer = gd.closest('#notebook-container');\n",
       "if (notebookContainer) {{\n",
       "    x.observe(notebookContainer, {childList: true});\n",
       "}}\n",
       "\n",
       "// Listen for the clearing of the current output cell\n",
       "var outputEl = gd.closest('.output');\n",
       "if (outputEl) {{\n",
       "    x.observe(outputEl, {childList: true});\n",
       "}}\n",
       "\n",
       "                        })\n",
       "                };\n",
       "                });\n",
       "            </script>\n",
       "        </div>"
      ]
     },
     "metadata": {},
     "output_type": "display_data"
    }
   ],
   "source": [
    "sel_type  = pd.DataFrame(nba_clean.groupby(['Selection Type']).size()).reset_index()\n",
    "sel_type.columns = ['Selection Type','Frequency']\n",
    "\n",
    "# sel_type.plot(kind = 'barh', x = 'Selection Type', y= 'Count', figsize = (12,10))\n",
    "# plt.title('Selection Types by Conference', fontsize = 18)\n",
    "# plt.xlabel('Number of Selections')\n",
    "\n",
    "# plt.savefig('selectiontypes.png')\n",
    "\n",
    "\n",
    "fig = px.bar(sel_type, x ='Selection Type', y = 'Frequency' )\n",
    "fig.update_layout(\n",
    "title= {'text': \"Selection Type Distribution\", 'x': .45, 'y':0.95}, width = 900, height = 700)\n",
    "fig.show()"
   ]
  },
  {
   "cell_type": "markdown",
   "metadata": {},
   "source": [
    "It is clear that the Selection type did not change much and the frequencies of each kind are well-balanced."
   ]
  },
  {
   "cell_type": "markdown",
   "metadata": {},
   "source": [
    "# Individual Player Analysis\n"
   ]
  },
  {
   "cell_type": "code",
   "execution_count": 177,
   "metadata": {},
   "outputs": [
    {
     "data": {
      "text/plain": [
       "1            106\n",
       "2             14\n",
       "Undrafted      2\n",
       "3              1\n",
       "Name: Round, dtype: int64"
      ]
     },
     "execution_count": 177,
     "metadata": {},
     "output_type": "execute_result"
    }
   ],
   "source": [
    "#Let's see the distribution of All-Stars based on their original draft round\n",
    "\n",
    "nba_clean.drop_duplicates('Player')['Round'].value_counts()\n"
   ]
  },
  {
   "cell_type": "markdown",
   "metadata": {},
   "source": [
    "It seems a player in a higher draft round has a higher likely chance of being an All-Star at some point in their career. This speaks volumns on the draft selection process and scouting by teams. However, a few players had defied the odds as undrafted and third round pick."
   ]
  },
  {
   "cell_type": "code",
   "execution_count": 163,
   "metadata": {},
   "outputs": [
    {
     "data": {
      "text/html": [
       "<div>\n",
       "<style scoped>\n",
       "    .dataframe tbody tr th:only-of-type {\n",
       "        vertical-align: middle;\n",
       "    }\n",
       "\n",
       "    .dataframe tbody tr th {\n",
       "        vertical-align: top;\n",
       "    }\n",
       "\n",
       "    .dataframe thead th {\n",
       "        text-align: right;\n",
       "    }\n",
       "</style>\n",
       "<table border=\"1\" class=\"dataframe\">\n",
       "  <thead>\n",
       "    <tr style=\"text-align: right;\">\n",
       "      <th></th>\n",
       "      <th>Year</th>\n",
       "      <th>Player</th>\n",
       "      <th>Pos</th>\n",
       "      <th>HT</th>\n",
       "      <th>WT</th>\n",
       "      <th>Team</th>\n",
       "      <th>Selection Type</th>\n",
       "      <th>Nationality</th>\n",
       "      <th>Draft Year</th>\n",
       "      <th>Round</th>\n",
       "      <th>Pick</th>\n",
       "      <th>Conference</th>\n",
       "    </tr>\n",
       "  </thead>\n",
       "  <tbody>\n",
       "    <tr>\n",
       "      <th>309</th>\n",
       "      <td>2005</td>\n",
       "      <td>Ben Wallace</td>\n",
       "      <td>F</td>\n",
       "      <td>6'9</td>\n",
       "      <td>240</td>\n",
       "      <td>Detroit Pistons</td>\n",
       "      <td>Eastern All-Star Coaches Selection</td>\n",
       "      <td>United States</td>\n",
       "      <td>1996</td>\n",
       "      <td>Undrafted</td>\n",
       "      <td>Undrafted</td>\n",
       "      <td>East</td>\n",
       "    </tr>\n",
       "    <tr>\n",
       "      <th>334</th>\n",
       "      <td>2004</td>\n",
       "      <td>Ben Wallace</td>\n",
       "      <td>F</td>\n",
       "      <td>6'9</td>\n",
       "      <td>240</td>\n",
       "      <td>Detroit Pistons</td>\n",
       "      <td>Eastern All-Star Coaches Selection</td>\n",
       "      <td>United States</td>\n",
       "      <td>1996</td>\n",
       "      <td>Undrafted</td>\n",
       "      <td>Undrafted</td>\n",
       "      <td>East</td>\n",
       "    </tr>\n",
       "    <tr>\n",
       "      <th>346</th>\n",
       "      <td>2003</td>\n",
       "      <td>Brad Miller</td>\n",
       "      <td>C</td>\n",
       "      <td>7'1</td>\n",
       "      <td>261</td>\n",
       "      <td>Sacramento Kings</td>\n",
       "      <td>Western All-Star Coaches Selection</td>\n",
       "      <td>United States</td>\n",
       "      <td>1998</td>\n",
       "      <td>Undrafted</td>\n",
       "      <td>Undrafted</td>\n",
       "      <td>West</td>\n",
       "    </tr>\n",
       "    <tr>\n",
       "      <th>348</th>\n",
       "      <td>2003</td>\n",
       "      <td>Ben Wallace</td>\n",
       "      <td>F</td>\n",
       "      <td>6'9</td>\n",
       "      <td>240</td>\n",
       "      <td>Detroit Pistons</td>\n",
       "      <td>Eastern All-Star Fan Vote Selection</td>\n",
       "      <td>United States</td>\n",
       "      <td>1996</td>\n",
       "      <td>Undrafted</td>\n",
       "      <td>Undrafted</td>\n",
       "      <td>East</td>\n",
       "    </tr>\n",
       "    <tr>\n",
       "      <th>360</th>\n",
       "      <td>2002</td>\n",
       "      <td>Ben Wallace</td>\n",
       "      <td>F</td>\n",
       "      <td>6'9</td>\n",
       "      <td>240</td>\n",
       "      <td>Detroit Pistons</td>\n",
       "      <td>Eastern All-Star Fan Vote Selection</td>\n",
       "      <td>United States</td>\n",
       "      <td>1996</td>\n",
       "      <td>Undrafted</td>\n",
       "      <td>Undrafted</td>\n",
       "      <td>East</td>\n",
       "    </tr>\n",
       "    <tr>\n",
       "      <th>371</th>\n",
       "      <td>2002</td>\n",
       "      <td>Brad Miller</td>\n",
       "      <td>C</td>\n",
       "      <td>7'1</td>\n",
       "      <td>261</td>\n",
       "      <td>Indiana Pacers</td>\n",
       "      <td>Eastern All-Star Coaches Selection</td>\n",
       "      <td>United States</td>\n",
       "      <td>1998</td>\n",
       "      <td>Undrafted</td>\n",
       "      <td>Undrafted</td>\n",
       "      <td>East</td>\n",
       "    </tr>\n",
       "  </tbody>\n",
       "</table>\n",
       "</div>"
      ],
      "text/plain": [
       "     Year       Player Pos   HT   WT              Team  \\\n",
       "309  2005  Ben Wallace   F  6'9  240   Detroit Pistons   \n",
       "334  2004  Ben Wallace   F  6'9  240   Detroit Pistons   \n",
       "346  2003  Brad Miller   C  7'1  261  Sacramento Kings   \n",
       "348  2003  Ben Wallace   F  6'9  240   Detroit Pistons   \n",
       "360  2002  Ben Wallace   F  6'9  240   Detroit Pistons   \n",
       "371  2002  Brad Miller   C  7'1  261    Indiana Pacers   \n",
       "\n",
       "                          Selection Type    Nationality Draft Year      Round  \\\n",
       "309   Eastern All-Star Coaches Selection  United States       1996  Undrafted   \n",
       "334   Eastern All-Star Coaches Selection  United States       1996  Undrafted   \n",
       "346   Western All-Star Coaches Selection  United States       1998  Undrafted   \n",
       "348  Eastern All-Star Fan Vote Selection  United States       1996  Undrafted   \n",
       "360  Eastern All-Star Fan Vote Selection  United States       1996  Undrafted   \n",
       "371   Eastern All-Star Coaches Selection  United States       1998  Undrafted   \n",
       "\n",
       "          Pick Conference  \n",
       "309  Undrafted       East  \n",
       "334  Undrafted       East  \n",
       "346  Undrafted       West  \n",
       "348  Undrafted       East  \n",
       "360  Undrafted       East  \n",
       "371  Undrafted       East  "
      ]
     },
     "execution_count": 163,
     "metadata": {},
     "output_type": "execute_result"
    }
   ],
   "source": [
    "#I am curious to see the undrafted players who made a big impact \n",
    "\n",
    "a = nba_clean.loc[nba_clean['Round'] == 'Undrafted']\n",
    "\n",
    "a.drop_duplicates()"
   ]
  },
  {
   "cell_type": "markdown",
   "metadata": {},
   "source": [
    "Brad Miller and Ben Wallace were the only two undrafted players to make the All-Star selection between 2000 to 2016. They were also selected more than once! "
   ]
  },
  {
   "cell_type": "code",
   "execution_count": 164,
   "metadata": {},
   "outputs": [
    {
     "data": {
      "text/html": [
       "<div>\n",
       "<style scoped>\n",
       "    .dataframe tbody tr th:only-of-type {\n",
       "        vertical-align: middle;\n",
       "    }\n",
       "\n",
       "    .dataframe tbody tr th {\n",
       "        vertical-align: top;\n",
       "    }\n",
       "\n",
       "    .dataframe thead th {\n",
       "        text-align: right;\n",
       "    }\n",
       "</style>\n",
       "<table border=\"1\" class=\"dataframe\">\n",
       "  <thead>\n",
       "    <tr style=\"text-align: right;\">\n",
       "      <th></th>\n",
       "      <th>Year</th>\n",
       "      <th>Player</th>\n",
       "      <th>Pos</th>\n",
       "      <th>HT</th>\n",
       "      <th>WT</th>\n",
       "      <th>Team</th>\n",
       "      <th>Selection Type</th>\n",
       "      <th>Nationality</th>\n",
       "      <th>Draft Year</th>\n",
       "      <th>Round</th>\n",
       "      <th>Pick</th>\n",
       "      <th>Conference</th>\n",
       "    </tr>\n",
       "  </thead>\n",
       "  <tbody>\n",
       "    <tr>\n",
       "      <th>422</th>\n",
       "      <td>2000</td>\n",
       "      <td>Anthony Mason</td>\n",
       "      <td>F</td>\n",
       "      <td>6'7</td>\n",
       "      <td>250</td>\n",
       "      <td>Miami Heat</td>\n",
       "      <td>Eastern All-Star Coaches Selection</td>\n",
       "      <td>United States</td>\n",
       "      <td>1988</td>\n",
       "      <td>3</td>\n",
       "      <td>3</td>\n",
       "      <td>East</td>\n",
       "    </tr>\n",
       "  </tbody>\n",
       "</table>\n",
       "</div>"
      ],
      "text/plain": [
       "     Year         Player Pos   HT   WT        Team  \\\n",
       "422  2000  Anthony Mason   F  6'7  250  Miami Heat   \n",
       "\n",
       "                         Selection Type    Nationality Draft Year Round Pick  \\\n",
       "422  Eastern All-Star Coaches Selection  United States       1988     3    3   \n",
       "\n",
       "    Conference  \n",
       "422       East  "
      ]
     },
     "execution_count": 164,
     "metadata": {},
     "output_type": "execute_result"
    }
   ],
   "source": [
    "b = nba_clean.loc[nba_clean['Round'] == '3']\n",
    "b "
   ]
  },
  {
   "cell_type": "markdown",
   "metadata": {},
   "source": [
    "Anthony Mason was the only third round pick to ever make an All-Star selection. Interestingly, the NBA reduced the draft to two rounds (30 picks in each round) in 1989."
   ]
  },
  {
   "cell_type": "code",
   "execution_count": 165,
   "metadata": {},
   "outputs": [
    {
     "data": {
      "text/plain": [
       "Kobe Bryant         16\n",
       "Dirk Nowitzki       13\n",
       "Tim Duncan          13\n",
       "LeBron James        13\n",
       "Kevin Garnett       12\n",
       "Dwyane Wade         12\n",
       "Chris Bosh          11\n",
       "Allen Iverson       10\n",
       "Paul Pierce         10\n",
       "Chris Paul           9\n",
       "Carmelo Anthony      9\n",
       "Ray Allen            9\n",
       "Kevin Durant         8\n",
       "Dwight Howard        8\n",
       "Steve Nash           8\n",
       "Yao Ming             8\n",
       "Shaquille O'Neal     8\n",
       "Tracy McGrady        7\n",
       "Jason Kidd           7\n",
       "Vince Carter         7\n",
       "Joe Johnson          7\n",
       "Name: Player, dtype: int64"
      ]
     },
     "execution_count": 165,
     "metadata": {},
     "output_type": "execute_result"
    }
   ],
   "source": [
    "top_20 = nba_clean['Player'].value_counts()\n",
    "\n",
    "#Select top 20 players based on number of All-Star Selections h\n",
    "top_20_as = top_20[:21]\n",
    "top_20_as"
   ]
  },
  {
   "cell_type": "code",
   "execution_count": 23,
   "metadata": {},
   "outputs": [
    {
     "name": "stdout",
     "output_type": "stream",
     "text": [
      "<class 'pandas.core.frame.DataFrame'>\n",
      "RangeIndex: 21 entries, 0 to 20\n",
      "Data columns (total 2 columns):\n",
      "Player                 21 non-null object\n",
      "All-Star Selections    21 non-null int64\n",
      "dtypes: int64(1), object(1)\n",
      "memory usage: 416.0+ bytes\n"
     ]
    }
   ],
   "source": [
    "top_20_df = pd.DataFrame(top_20_as)\n",
    "\n",
    "top_20_df = top_20_df.reset_index()\n",
    "\n",
    "top_20_df.columns = 'Player', 'All-Star Selections'\n",
    "\n",
    "top_20_df.info()"
   ]
  },
  {
   "cell_type": "code",
   "execution_count": 166,
   "metadata": {},
   "outputs": [
    {
     "data": {
      "application/vnd.plotly.v1+json": {
       "config": {
        "plotlyServerURL": "https://plot.ly"
       },
       "data": [
        {
         "alignmentgroup": "True",
         "hoverlabel": {
          "namelength": 0
         },
         "hovertemplate": "Player=%{x}<br>All-Star Selections=%{y}",
         "legendgroup": "",
         "marker": {
          "color": "#636efa"
         },
         "name": "",
         "offsetgroup": "",
         "orientation": "v",
         "showlegend": false,
         "textposition": "auto",
         "type": "bar",
         "x": [
          "Kobe Bryant",
          "Dirk Nowitzki",
          "Tim Duncan",
          "LeBron James",
          "Kevin Garnett",
          "Dwyane Wade",
          "Chris Bosh",
          "Allen Iverson",
          "Paul Pierce",
          "Chris Paul",
          "Carmelo Anthony",
          "Ray Allen",
          "Kevin Durant",
          "Dwight Howard",
          "Steve Nash",
          "Yao Ming",
          "Shaquille O'Neal",
          "Tracy McGrady",
          "Jason Kidd",
          "Vince Carter",
          "Joe Johnson"
         ],
         "xaxis": "x",
         "y": [
          16,
          13,
          13,
          13,
          12,
          12,
          11,
          10,
          10,
          9,
          9,
          9,
          8,
          8,
          8,
          8,
          8,
          7,
          7,
          7,
          7
         ],
         "yaxis": "y"
        }
       ],
       "layout": {
        "barmode": "relative",
        "legend": {
         "tracegroupgap": 0
        },
        "margin": {
         "t": 60
        },
        "template": {
         "data": {
          "bar": [
           {
            "error_x": {
             "color": "#2a3f5f"
            },
            "error_y": {
             "color": "#2a3f5f"
            },
            "marker": {
             "line": {
              "color": "#E5ECF6",
              "width": 0.5
             }
            },
            "type": "bar"
           }
          ],
          "barpolar": [
           {
            "marker": {
             "line": {
              "color": "#E5ECF6",
              "width": 0.5
             }
            },
            "type": "barpolar"
           }
          ],
          "carpet": [
           {
            "aaxis": {
             "endlinecolor": "#2a3f5f",
             "gridcolor": "white",
             "linecolor": "white",
             "minorgridcolor": "white",
             "startlinecolor": "#2a3f5f"
            },
            "baxis": {
             "endlinecolor": "#2a3f5f",
             "gridcolor": "white",
             "linecolor": "white",
             "minorgridcolor": "white",
             "startlinecolor": "#2a3f5f"
            },
            "type": "carpet"
           }
          ],
          "choropleth": [
           {
            "colorbar": {
             "outlinewidth": 0,
             "ticks": ""
            },
            "type": "choropleth"
           }
          ],
          "contour": [
           {
            "colorbar": {
             "outlinewidth": 0,
             "ticks": ""
            },
            "colorscale": [
             [
              0,
              "#0d0887"
             ],
             [
              0.1111111111111111,
              "#46039f"
             ],
             [
              0.2222222222222222,
              "#7201a8"
             ],
             [
              0.3333333333333333,
              "#9c179e"
             ],
             [
              0.4444444444444444,
              "#bd3786"
             ],
             [
              0.5555555555555556,
              "#d8576b"
             ],
             [
              0.6666666666666666,
              "#ed7953"
             ],
             [
              0.7777777777777778,
              "#fb9f3a"
             ],
             [
              0.8888888888888888,
              "#fdca26"
             ],
             [
              1,
              "#f0f921"
             ]
            ],
            "type": "contour"
           }
          ],
          "contourcarpet": [
           {
            "colorbar": {
             "outlinewidth": 0,
             "ticks": ""
            },
            "type": "contourcarpet"
           }
          ],
          "heatmap": [
           {
            "colorbar": {
             "outlinewidth": 0,
             "ticks": ""
            },
            "colorscale": [
             [
              0,
              "#0d0887"
             ],
             [
              0.1111111111111111,
              "#46039f"
             ],
             [
              0.2222222222222222,
              "#7201a8"
             ],
             [
              0.3333333333333333,
              "#9c179e"
             ],
             [
              0.4444444444444444,
              "#bd3786"
             ],
             [
              0.5555555555555556,
              "#d8576b"
             ],
             [
              0.6666666666666666,
              "#ed7953"
             ],
             [
              0.7777777777777778,
              "#fb9f3a"
             ],
             [
              0.8888888888888888,
              "#fdca26"
             ],
             [
              1,
              "#f0f921"
             ]
            ],
            "type": "heatmap"
           }
          ],
          "heatmapgl": [
           {
            "colorbar": {
             "outlinewidth": 0,
             "ticks": ""
            },
            "colorscale": [
             [
              0,
              "#0d0887"
             ],
             [
              0.1111111111111111,
              "#46039f"
             ],
             [
              0.2222222222222222,
              "#7201a8"
             ],
             [
              0.3333333333333333,
              "#9c179e"
             ],
             [
              0.4444444444444444,
              "#bd3786"
             ],
             [
              0.5555555555555556,
              "#d8576b"
             ],
             [
              0.6666666666666666,
              "#ed7953"
             ],
             [
              0.7777777777777778,
              "#fb9f3a"
             ],
             [
              0.8888888888888888,
              "#fdca26"
             ],
             [
              1,
              "#f0f921"
             ]
            ],
            "type": "heatmapgl"
           }
          ],
          "histogram": [
           {
            "marker": {
             "colorbar": {
              "outlinewidth": 0,
              "ticks": ""
             }
            },
            "type": "histogram"
           }
          ],
          "histogram2d": [
           {
            "colorbar": {
             "outlinewidth": 0,
             "ticks": ""
            },
            "colorscale": [
             [
              0,
              "#0d0887"
             ],
             [
              0.1111111111111111,
              "#46039f"
             ],
             [
              0.2222222222222222,
              "#7201a8"
             ],
             [
              0.3333333333333333,
              "#9c179e"
             ],
             [
              0.4444444444444444,
              "#bd3786"
             ],
             [
              0.5555555555555556,
              "#d8576b"
             ],
             [
              0.6666666666666666,
              "#ed7953"
             ],
             [
              0.7777777777777778,
              "#fb9f3a"
             ],
             [
              0.8888888888888888,
              "#fdca26"
             ],
             [
              1,
              "#f0f921"
             ]
            ],
            "type": "histogram2d"
           }
          ],
          "histogram2dcontour": [
           {
            "colorbar": {
             "outlinewidth": 0,
             "ticks": ""
            },
            "colorscale": [
             [
              0,
              "#0d0887"
             ],
             [
              0.1111111111111111,
              "#46039f"
             ],
             [
              0.2222222222222222,
              "#7201a8"
             ],
             [
              0.3333333333333333,
              "#9c179e"
             ],
             [
              0.4444444444444444,
              "#bd3786"
             ],
             [
              0.5555555555555556,
              "#d8576b"
             ],
             [
              0.6666666666666666,
              "#ed7953"
             ],
             [
              0.7777777777777778,
              "#fb9f3a"
             ],
             [
              0.8888888888888888,
              "#fdca26"
             ],
             [
              1,
              "#f0f921"
             ]
            ],
            "type": "histogram2dcontour"
           }
          ],
          "mesh3d": [
           {
            "colorbar": {
             "outlinewidth": 0,
             "ticks": ""
            },
            "type": "mesh3d"
           }
          ],
          "parcoords": [
           {
            "line": {
             "colorbar": {
              "outlinewidth": 0,
              "ticks": ""
             }
            },
            "type": "parcoords"
           }
          ],
          "pie": [
           {
            "automargin": true,
            "type": "pie"
           }
          ],
          "scatter": [
           {
            "marker": {
             "colorbar": {
              "outlinewidth": 0,
              "ticks": ""
             }
            },
            "type": "scatter"
           }
          ],
          "scatter3d": [
           {
            "line": {
             "colorbar": {
              "outlinewidth": 0,
              "ticks": ""
             }
            },
            "marker": {
             "colorbar": {
              "outlinewidth": 0,
              "ticks": ""
             }
            },
            "type": "scatter3d"
           }
          ],
          "scattercarpet": [
           {
            "marker": {
             "colorbar": {
              "outlinewidth": 0,
              "ticks": ""
             }
            },
            "type": "scattercarpet"
           }
          ],
          "scattergeo": [
           {
            "marker": {
             "colorbar": {
              "outlinewidth": 0,
              "ticks": ""
             }
            },
            "type": "scattergeo"
           }
          ],
          "scattergl": [
           {
            "marker": {
             "colorbar": {
              "outlinewidth": 0,
              "ticks": ""
             }
            },
            "type": "scattergl"
           }
          ],
          "scattermapbox": [
           {
            "marker": {
             "colorbar": {
              "outlinewidth": 0,
              "ticks": ""
             }
            },
            "type": "scattermapbox"
           }
          ],
          "scatterpolar": [
           {
            "marker": {
             "colorbar": {
              "outlinewidth": 0,
              "ticks": ""
             }
            },
            "type": "scatterpolar"
           }
          ],
          "scatterpolargl": [
           {
            "marker": {
             "colorbar": {
              "outlinewidth": 0,
              "ticks": ""
             }
            },
            "type": "scatterpolargl"
           }
          ],
          "scatterternary": [
           {
            "marker": {
             "colorbar": {
              "outlinewidth": 0,
              "ticks": ""
             }
            },
            "type": "scatterternary"
           }
          ],
          "surface": [
           {
            "colorbar": {
             "outlinewidth": 0,
             "ticks": ""
            },
            "colorscale": [
             [
              0,
              "#0d0887"
             ],
             [
              0.1111111111111111,
              "#46039f"
             ],
             [
              0.2222222222222222,
              "#7201a8"
             ],
             [
              0.3333333333333333,
              "#9c179e"
             ],
             [
              0.4444444444444444,
              "#bd3786"
             ],
             [
              0.5555555555555556,
              "#d8576b"
             ],
             [
              0.6666666666666666,
              "#ed7953"
             ],
             [
              0.7777777777777778,
              "#fb9f3a"
             ],
             [
              0.8888888888888888,
              "#fdca26"
             ],
             [
              1,
              "#f0f921"
             ]
            ],
            "type": "surface"
           }
          ],
          "table": [
           {
            "cells": {
             "fill": {
              "color": "#EBF0F8"
             },
             "line": {
              "color": "white"
             }
            },
            "header": {
             "fill": {
              "color": "#C8D4E3"
             },
             "line": {
              "color": "white"
             }
            },
            "type": "table"
           }
          ]
         },
         "layout": {
          "annotationdefaults": {
           "arrowcolor": "#2a3f5f",
           "arrowhead": 0,
           "arrowwidth": 1
          },
          "coloraxis": {
           "colorbar": {
            "outlinewidth": 0,
            "ticks": ""
           }
          },
          "colorscale": {
           "diverging": [
            [
             0,
             "#8e0152"
            ],
            [
             0.1,
             "#c51b7d"
            ],
            [
             0.2,
             "#de77ae"
            ],
            [
             0.3,
             "#f1b6da"
            ],
            [
             0.4,
             "#fde0ef"
            ],
            [
             0.5,
             "#f7f7f7"
            ],
            [
             0.6,
             "#e6f5d0"
            ],
            [
             0.7,
             "#b8e186"
            ],
            [
             0.8,
             "#7fbc41"
            ],
            [
             0.9,
             "#4d9221"
            ],
            [
             1,
             "#276419"
            ]
           ],
           "sequential": [
            [
             0,
             "#0d0887"
            ],
            [
             0.1111111111111111,
             "#46039f"
            ],
            [
             0.2222222222222222,
             "#7201a8"
            ],
            [
             0.3333333333333333,
             "#9c179e"
            ],
            [
             0.4444444444444444,
             "#bd3786"
            ],
            [
             0.5555555555555556,
             "#d8576b"
            ],
            [
             0.6666666666666666,
             "#ed7953"
            ],
            [
             0.7777777777777778,
             "#fb9f3a"
            ],
            [
             0.8888888888888888,
             "#fdca26"
            ],
            [
             1,
             "#f0f921"
            ]
           ],
           "sequentialminus": [
            [
             0,
             "#0d0887"
            ],
            [
             0.1111111111111111,
             "#46039f"
            ],
            [
             0.2222222222222222,
             "#7201a8"
            ],
            [
             0.3333333333333333,
             "#9c179e"
            ],
            [
             0.4444444444444444,
             "#bd3786"
            ],
            [
             0.5555555555555556,
             "#d8576b"
            ],
            [
             0.6666666666666666,
             "#ed7953"
            ],
            [
             0.7777777777777778,
             "#fb9f3a"
            ],
            [
             0.8888888888888888,
             "#fdca26"
            ],
            [
             1,
             "#f0f921"
            ]
           ]
          },
          "colorway": [
           "#636efa",
           "#EF553B",
           "#00cc96",
           "#ab63fa",
           "#FFA15A",
           "#19d3f3",
           "#FF6692",
           "#B6E880",
           "#FF97FF",
           "#FECB52"
          ],
          "font": {
           "color": "#2a3f5f"
          },
          "geo": {
           "bgcolor": "white",
           "lakecolor": "white",
           "landcolor": "#E5ECF6",
           "showlakes": true,
           "showland": true,
           "subunitcolor": "white"
          },
          "hoverlabel": {
           "align": "left"
          },
          "hovermode": "closest",
          "mapbox": {
           "style": "light"
          },
          "paper_bgcolor": "white",
          "plot_bgcolor": "#E5ECF6",
          "polar": {
           "angularaxis": {
            "gridcolor": "white",
            "linecolor": "white",
            "ticks": ""
           },
           "bgcolor": "#E5ECF6",
           "radialaxis": {
            "gridcolor": "white",
            "linecolor": "white",
            "ticks": ""
           }
          },
          "scene": {
           "xaxis": {
            "backgroundcolor": "#E5ECF6",
            "gridcolor": "white",
            "gridwidth": 2,
            "linecolor": "white",
            "showbackground": true,
            "ticks": "",
            "zerolinecolor": "white"
           },
           "yaxis": {
            "backgroundcolor": "#E5ECF6",
            "gridcolor": "white",
            "gridwidth": 2,
            "linecolor": "white",
            "showbackground": true,
            "ticks": "",
            "zerolinecolor": "white"
           },
           "zaxis": {
            "backgroundcolor": "#E5ECF6",
            "gridcolor": "white",
            "gridwidth": 2,
            "linecolor": "white",
            "showbackground": true,
            "ticks": "",
            "zerolinecolor": "white"
           }
          },
          "shapedefaults": {
           "line": {
            "color": "#2a3f5f"
           }
          },
          "ternary": {
           "aaxis": {
            "gridcolor": "white",
            "linecolor": "white",
            "ticks": ""
           },
           "baxis": {
            "gridcolor": "white",
            "linecolor": "white",
            "ticks": ""
           },
           "bgcolor": "#E5ECF6",
           "caxis": {
            "gridcolor": "white",
            "linecolor": "white",
            "ticks": ""
           }
          },
          "title": {
           "x": 0.05
          },
          "xaxis": {
           "automargin": true,
           "gridcolor": "white",
           "linecolor": "white",
           "ticks": "",
           "title": {
            "standoff": 15
           },
           "zerolinecolor": "white",
           "zerolinewidth": 2
          },
          "yaxis": {
           "automargin": true,
           "gridcolor": "white",
           "linecolor": "white",
           "ticks": "",
           "title": {
            "standoff": 15
           },
           "zerolinecolor": "white",
           "zerolinewidth": 2
          }
         }
        },
        "title": {
         "text": "Top 20 Players by All-Star Appearances from 2000 to 2016",
         "x": 0.5,
         "y": 0.95
        },
        "xaxis": {
         "anchor": "y",
         "domain": [
          0,
          1
         ],
         "title": {
          "text": "Player"
         }
        },
        "yaxis": {
         "anchor": "x",
         "domain": [
          0,
          1
         ],
         "title": {
          "text": "All-Star Selections"
         }
        }
       }
      },
      "text/html": [
       "<div>\n",
       "        \n",
       "        \n",
       "            <div id=\"a56c26a1-8643-4945-a907-138cd152bd06\" class=\"plotly-graph-div\" style=\"height:525px; width:100%;\"></div>\n",
       "            <script type=\"text/javascript\">\n",
       "                require([\"plotly\"], function(Plotly) {\n",
       "                    window.PLOTLYENV=window.PLOTLYENV || {};\n",
       "                    \n",
       "                if (document.getElementById(\"a56c26a1-8643-4945-a907-138cd152bd06\")) {\n",
       "                    Plotly.newPlot(\n",
       "                        'a56c26a1-8643-4945-a907-138cd152bd06',\n",
       "                        [{\"alignmentgroup\": \"True\", \"hoverlabel\": {\"namelength\": 0}, \"hovertemplate\": \"Player=%{x}<br>All-Star Selections=%{y}\", \"legendgroup\": \"\", \"marker\": {\"color\": \"#636efa\"}, \"name\": \"\", \"offsetgroup\": \"\", \"orientation\": \"v\", \"showlegend\": false, \"textposition\": \"auto\", \"type\": \"bar\", \"x\": [\"Kobe Bryant\", \"Dirk Nowitzki\", \"Tim Duncan\", \"LeBron James\", \"Kevin Garnett\", \"Dwyane Wade\", \"Chris Bosh\", \"Allen Iverson\", \"Paul Pierce\", \"Chris Paul\", \"Carmelo Anthony\", \"Ray Allen\", \"Kevin Durant\", \"Dwight Howard\", \"Steve Nash\", \"Yao Ming\", \"Shaquille O'Neal\", \"Tracy McGrady\", \"Jason Kidd\", \"Vince Carter\", \"Joe Johnson\"], \"xaxis\": \"x\", \"y\": [16, 13, 13, 13, 12, 12, 11, 10, 10, 9, 9, 9, 8, 8, 8, 8, 8, 7, 7, 7, 7], \"yaxis\": \"y\"}],\n",
       "                        {\"barmode\": \"relative\", \"legend\": {\"tracegroupgap\": 0}, \"margin\": {\"t\": 60}, \"template\": {\"data\": {\"bar\": [{\"error_x\": {\"color\": \"#2a3f5f\"}, \"error_y\": {\"color\": \"#2a3f5f\"}, \"marker\": {\"line\": {\"color\": \"#E5ECF6\", \"width\": 0.5}}, \"type\": \"bar\"}], \"barpolar\": [{\"marker\": {\"line\": {\"color\": \"#E5ECF6\", \"width\": 0.5}}, \"type\": \"barpolar\"}], \"carpet\": [{\"aaxis\": {\"endlinecolor\": \"#2a3f5f\", \"gridcolor\": \"white\", \"linecolor\": \"white\", \"minorgridcolor\": \"white\", \"startlinecolor\": \"#2a3f5f\"}, \"baxis\": {\"endlinecolor\": \"#2a3f5f\", \"gridcolor\": \"white\", \"linecolor\": \"white\", \"minorgridcolor\": \"white\", \"startlinecolor\": \"#2a3f5f\"}, \"type\": \"carpet\"}], \"choropleth\": [{\"colorbar\": {\"outlinewidth\": 0, \"ticks\": \"\"}, \"type\": \"choropleth\"}], \"contour\": [{\"colorbar\": {\"outlinewidth\": 0, \"ticks\": \"\"}, \"colorscale\": [[0.0, \"#0d0887\"], [0.1111111111111111, \"#46039f\"], [0.2222222222222222, \"#7201a8\"], [0.3333333333333333, \"#9c179e\"], [0.4444444444444444, \"#bd3786\"], [0.5555555555555556, \"#d8576b\"], [0.6666666666666666, \"#ed7953\"], [0.7777777777777778, \"#fb9f3a\"], [0.8888888888888888, \"#fdca26\"], [1.0, \"#f0f921\"]], \"type\": \"contour\"}], \"contourcarpet\": [{\"colorbar\": {\"outlinewidth\": 0, \"ticks\": \"\"}, \"type\": \"contourcarpet\"}], \"heatmap\": [{\"colorbar\": {\"outlinewidth\": 0, \"ticks\": \"\"}, \"colorscale\": [[0.0, \"#0d0887\"], [0.1111111111111111, \"#46039f\"], [0.2222222222222222, \"#7201a8\"], [0.3333333333333333, \"#9c179e\"], [0.4444444444444444, \"#bd3786\"], [0.5555555555555556, \"#d8576b\"], [0.6666666666666666, \"#ed7953\"], [0.7777777777777778, \"#fb9f3a\"], [0.8888888888888888, \"#fdca26\"], [1.0, \"#f0f921\"]], \"type\": \"heatmap\"}], \"heatmapgl\": [{\"colorbar\": {\"outlinewidth\": 0, \"ticks\": \"\"}, \"colorscale\": [[0.0, \"#0d0887\"], [0.1111111111111111, \"#46039f\"], [0.2222222222222222, \"#7201a8\"], [0.3333333333333333, \"#9c179e\"], [0.4444444444444444, \"#bd3786\"], [0.5555555555555556, \"#d8576b\"], [0.6666666666666666, \"#ed7953\"], [0.7777777777777778, \"#fb9f3a\"], [0.8888888888888888, \"#fdca26\"], [1.0, \"#f0f921\"]], \"type\": \"heatmapgl\"}], \"histogram\": [{\"marker\": {\"colorbar\": {\"outlinewidth\": 0, \"ticks\": \"\"}}, \"type\": \"histogram\"}], \"histogram2d\": [{\"colorbar\": {\"outlinewidth\": 0, \"ticks\": \"\"}, \"colorscale\": [[0.0, \"#0d0887\"], [0.1111111111111111, \"#46039f\"], [0.2222222222222222, \"#7201a8\"], [0.3333333333333333, \"#9c179e\"], [0.4444444444444444, \"#bd3786\"], [0.5555555555555556, \"#d8576b\"], [0.6666666666666666, \"#ed7953\"], [0.7777777777777778, \"#fb9f3a\"], [0.8888888888888888, \"#fdca26\"], [1.0, \"#f0f921\"]], \"type\": \"histogram2d\"}], \"histogram2dcontour\": [{\"colorbar\": {\"outlinewidth\": 0, \"ticks\": \"\"}, \"colorscale\": [[0.0, \"#0d0887\"], [0.1111111111111111, \"#46039f\"], [0.2222222222222222, \"#7201a8\"], [0.3333333333333333, \"#9c179e\"], [0.4444444444444444, \"#bd3786\"], [0.5555555555555556, \"#d8576b\"], [0.6666666666666666, \"#ed7953\"], [0.7777777777777778, \"#fb9f3a\"], [0.8888888888888888, \"#fdca26\"], [1.0, \"#f0f921\"]], \"type\": \"histogram2dcontour\"}], \"mesh3d\": [{\"colorbar\": {\"outlinewidth\": 0, \"ticks\": \"\"}, \"type\": \"mesh3d\"}], \"parcoords\": [{\"line\": {\"colorbar\": {\"outlinewidth\": 0, \"ticks\": \"\"}}, \"type\": \"parcoords\"}], \"pie\": [{\"automargin\": true, \"type\": \"pie\"}], \"scatter\": [{\"marker\": {\"colorbar\": {\"outlinewidth\": 0, \"ticks\": \"\"}}, \"type\": \"scatter\"}], \"scatter3d\": [{\"line\": {\"colorbar\": {\"outlinewidth\": 0, \"ticks\": \"\"}}, \"marker\": {\"colorbar\": {\"outlinewidth\": 0, \"ticks\": \"\"}}, \"type\": \"scatter3d\"}], \"scattercarpet\": [{\"marker\": {\"colorbar\": {\"outlinewidth\": 0, \"ticks\": \"\"}}, \"type\": \"scattercarpet\"}], \"scattergeo\": [{\"marker\": {\"colorbar\": {\"outlinewidth\": 0, \"ticks\": \"\"}}, \"type\": \"scattergeo\"}], \"scattergl\": [{\"marker\": {\"colorbar\": {\"outlinewidth\": 0, \"ticks\": \"\"}}, \"type\": \"scattergl\"}], \"scattermapbox\": [{\"marker\": {\"colorbar\": {\"outlinewidth\": 0, \"ticks\": \"\"}}, \"type\": \"scattermapbox\"}], \"scatterpolar\": [{\"marker\": {\"colorbar\": {\"outlinewidth\": 0, \"ticks\": \"\"}}, \"type\": \"scatterpolar\"}], \"scatterpolargl\": [{\"marker\": {\"colorbar\": {\"outlinewidth\": 0, \"ticks\": \"\"}}, \"type\": \"scatterpolargl\"}], \"scatterternary\": [{\"marker\": {\"colorbar\": {\"outlinewidth\": 0, \"ticks\": \"\"}}, \"type\": \"scatterternary\"}], \"surface\": [{\"colorbar\": {\"outlinewidth\": 0, \"ticks\": \"\"}, \"colorscale\": [[0.0, \"#0d0887\"], [0.1111111111111111, \"#46039f\"], [0.2222222222222222, \"#7201a8\"], [0.3333333333333333, \"#9c179e\"], [0.4444444444444444, \"#bd3786\"], [0.5555555555555556, \"#d8576b\"], [0.6666666666666666, \"#ed7953\"], [0.7777777777777778, \"#fb9f3a\"], [0.8888888888888888, \"#fdca26\"], [1.0, \"#f0f921\"]], \"type\": \"surface\"}], \"table\": [{\"cells\": {\"fill\": {\"color\": \"#EBF0F8\"}, \"line\": {\"color\": \"white\"}}, \"header\": {\"fill\": {\"color\": \"#C8D4E3\"}, \"line\": {\"color\": \"white\"}}, \"type\": \"table\"}]}, \"layout\": {\"annotationdefaults\": {\"arrowcolor\": \"#2a3f5f\", \"arrowhead\": 0, \"arrowwidth\": 1}, \"coloraxis\": {\"colorbar\": {\"outlinewidth\": 0, \"ticks\": \"\"}}, \"colorscale\": {\"diverging\": [[0, \"#8e0152\"], [0.1, \"#c51b7d\"], [0.2, \"#de77ae\"], [0.3, \"#f1b6da\"], [0.4, \"#fde0ef\"], [0.5, \"#f7f7f7\"], [0.6, \"#e6f5d0\"], [0.7, \"#b8e186\"], [0.8, \"#7fbc41\"], [0.9, \"#4d9221\"], [1, \"#276419\"]], \"sequential\": [[0.0, \"#0d0887\"], [0.1111111111111111, \"#46039f\"], [0.2222222222222222, \"#7201a8\"], [0.3333333333333333, \"#9c179e\"], [0.4444444444444444, \"#bd3786\"], [0.5555555555555556, \"#d8576b\"], [0.6666666666666666, \"#ed7953\"], [0.7777777777777778, \"#fb9f3a\"], [0.8888888888888888, \"#fdca26\"], [1.0, \"#f0f921\"]], \"sequentialminus\": [[0.0, \"#0d0887\"], [0.1111111111111111, \"#46039f\"], [0.2222222222222222, \"#7201a8\"], [0.3333333333333333, \"#9c179e\"], [0.4444444444444444, \"#bd3786\"], [0.5555555555555556, \"#d8576b\"], [0.6666666666666666, \"#ed7953\"], [0.7777777777777778, \"#fb9f3a\"], [0.8888888888888888, \"#fdca26\"], [1.0, \"#f0f921\"]]}, \"colorway\": [\"#636efa\", \"#EF553B\", \"#00cc96\", \"#ab63fa\", \"#FFA15A\", \"#19d3f3\", \"#FF6692\", \"#B6E880\", \"#FF97FF\", \"#FECB52\"], \"font\": {\"color\": \"#2a3f5f\"}, \"geo\": {\"bgcolor\": \"white\", \"lakecolor\": \"white\", \"landcolor\": \"#E5ECF6\", \"showlakes\": true, \"showland\": true, \"subunitcolor\": \"white\"}, \"hoverlabel\": {\"align\": \"left\"}, \"hovermode\": \"closest\", \"mapbox\": {\"style\": \"light\"}, \"paper_bgcolor\": \"white\", \"plot_bgcolor\": \"#E5ECF6\", \"polar\": {\"angularaxis\": {\"gridcolor\": \"white\", \"linecolor\": \"white\", \"ticks\": \"\"}, \"bgcolor\": \"#E5ECF6\", \"radialaxis\": {\"gridcolor\": \"white\", \"linecolor\": \"white\", \"ticks\": \"\"}}, \"scene\": {\"xaxis\": {\"backgroundcolor\": \"#E5ECF6\", \"gridcolor\": \"white\", \"gridwidth\": 2, \"linecolor\": \"white\", \"showbackground\": true, \"ticks\": \"\", \"zerolinecolor\": \"white\"}, \"yaxis\": {\"backgroundcolor\": \"#E5ECF6\", \"gridcolor\": \"white\", \"gridwidth\": 2, \"linecolor\": \"white\", \"showbackground\": true, \"ticks\": \"\", \"zerolinecolor\": \"white\"}, \"zaxis\": {\"backgroundcolor\": \"#E5ECF6\", \"gridcolor\": \"white\", \"gridwidth\": 2, \"linecolor\": \"white\", \"showbackground\": true, \"ticks\": \"\", \"zerolinecolor\": \"white\"}}, \"shapedefaults\": {\"line\": {\"color\": \"#2a3f5f\"}}, \"ternary\": {\"aaxis\": {\"gridcolor\": \"white\", \"linecolor\": \"white\", \"ticks\": \"\"}, \"baxis\": {\"gridcolor\": \"white\", \"linecolor\": \"white\", \"ticks\": \"\"}, \"bgcolor\": \"#E5ECF6\", \"caxis\": {\"gridcolor\": \"white\", \"linecolor\": \"white\", \"ticks\": \"\"}}, \"title\": {\"x\": 0.05}, \"xaxis\": {\"automargin\": true, \"gridcolor\": \"white\", \"linecolor\": \"white\", \"ticks\": \"\", \"title\": {\"standoff\": 15}, \"zerolinecolor\": \"white\", \"zerolinewidth\": 2}, \"yaxis\": {\"automargin\": true, \"gridcolor\": \"white\", \"linecolor\": \"white\", \"ticks\": \"\", \"title\": {\"standoff\": 15}, \"zerolinecolor\": \"white\", \"zerolinewidth\": 2}}}, \"title\": {\"text\": \"Top 20 Players by All-Star Appearances from 2000 to 2016\", \"x\": 0.5, \"y\": 0.95}, \"xaxis\": {\"anchor\": \"y\", \"domain\": [0.0, 1.0], \"title\": {\"text\": \"Player\"}}, \"yaxis\": {\"anchor\": \"x\", \"domain\": [0.0, 1.0], \"title\": {\"text\": \"All-Star Selections\"}}},\n",
       "                        {\"responsive\": true}\n",
       "                    ).then(function(){\n",
       "                            \n",
       "var gd = document.getElementById('a56c26a1-8643-4945-a907-138cd152bd06');\n",
       "var x = new MutationObserver(function (mutations, observer) {{\n",
       "        var display = window.getComputedStyle(gd).display;\n",
       "        if (!display || display === 'none') {{\n",
       "            console.log([gd, 'removed!']);\n",
       "            Plotly.purge(gd);\n",
       "            observer.disconnect();\n",
       "        }}\n",
       "}});\n",
       "\n",
       "// Listen for the removal of the full notebook cells\n",
       "var notebookContainer = gd.closest('#notebook-container');\n",
       "if (notebookContainer) {{\n",
       "    x.observe(notebookContainer, {childList: true});\n",
       "}}\n",
       "\n",
       "// Listen for the clearing of the current output cell\n",
       "var outputEl = gd.closest('.output');\n",
       "if (outputEl) {{\n",
       "    x.observe(outputEl, {childList: true});\n",
       "}}\n",
       "\n",
       "                        })\n",
       "                };\n",
       "                });\n",
       "            </script>\n",
       "        </div>"
      ]
     },
     "metadata": {},
     "output_type": "display_data"
    }
   ],
   "source": [
    "fig = px.bar(top_20_df, x ='Player', y = 'All-Star Selections' )\n",
    "fig.update_layout(\n",
    "title= {'text': \"Top 20 Players by All-Star Appearances from 2000 to 2016\", 'x': .5, 'y':0.95})\n",
    "fig.show()"
   ]
  },
  {
   "cell_type": "code",
   "execution_count": 167,
   "metadata": {},
   "outputs": [],
   "source": [
    "#Changed Draft Year to have same int type for operations\n",
    "df = nba_clean.astype({'Draft Year': int})\n",
    "\n"
   ]
  },
  {
   "cell_type": "code",
   "execution_count": 168,
   "metadata": {},
   "outputs": [
    {
     "data": {
      "text/html": [
       "<div>\n",
       "<style scoped>\n",
       "    .dataframe tbody tr th:only-of-type {\n",
       "        vertical-align: middle;\n",
       "    }\n",
       "\n",
       "    .dataframe tbody tr th {\n",
       "        vertical-align: top;\n",
       "    }\n",
       "\n",
       "    .dataframe thead th {\n",
       "        text-align: right;\n",
       "    }\n",
       "</style>\n",
       "<table border=\"1\" class=\"dataframe\">\n",
       "  <thead>\n",
       "    <tr style=\"text-align: right;\">\n",
       "      <th></th>\n",
       "      <th>Year</th>\n",
       "      <th>Player</th>\n",
       "      <th>Pos</th>\n",
       "      <th>HT</th>\n",
       "      <th>WT</th>\n",
       "      <th>Team</th>\n",
       "      <th>Selection Type</th>\n",
       "      <th>Nationality</th>\n",
       "      <th>Draft Year</th>\n",
       "      <th>Round</th>\n",
       "      <th>Pick</th>\n",
       "      <th>Conference</th>\n",
       "      <th>Years in League until All-Star Selection</th>\n",
       "    </tr>\n",
       "  </thead>\n",
       "  <tbody>\n",
       "    <tr>\n",
       "      <th>373</th>\n",
       "      <td>2002</td>\n",
       "      <td>Yao Ming</td>\n",
       "      <td>C</td>\n",
       "      <td>7'6</td>\n",
       "      <td>310</td>\n",
       "      <td>Houston Rockets</td>\n",
       "      <td>Western All-Star Fan Vote Selection</td>\n",
       "      <td>World</td>\n",
       "      <td>2002</td>\n",
       "      <td>1</td>\n",
       "      <td>1</td>\n",
       "      <td>West</td>\n",
       "      <td>0</td>\n",
       "    </tr>\n",
       "  </tbody>\n",
       "</table>\n",
       "</div>"
      ],
      "text/plain": [
       "     Year    Player Pos   HT   WT             Team  \\\n",
       "373  2002  Yao Ming   C  7'6  310  Houston Rockets   \n",
       "\n",
       "                          Selection Type Nationality  Draft Year Round Pick  \\\n",
       "373  Western All-Star Fan Vote Selection       World        2002     1    1   \n",
       "\n",
       "    Conference  Years in League until All-Star Selection  \n",
       "373       West                                         0  "
      ]
     },
     "execution_count": 168,
     "metadata": {},
     "output_type": "execute_result"
    }
   ],
   "source": [
    "#Find the player with the least years in the league and selected as an All-Star\n",
    "\n",
    "# df['Years in League until All-Star Selection'].min()\n",
    "\n",
    "\n",
    "df['Years in League until All-Star Selection'] = df['Year'] - df['Draft Year']\n",
    "df.loc[df['Years in League until All-Star Selection'] == 0]"
   ]
  },
  {
   "cell_type": "markdown",
   "metadata": {},
   "source": [
    "I used 0 since All-Star is during a season so a player would be under 1 year. Yao was voted to start for the West over O'Neal, who was coming off three consecutive NBA Finals MVP Awards. Yao  became the first rookie to start in the All-Star Game since Grant Hill in 1995."
   ]
  },
  {
   "cell_type": "code",
   "execution_count": 179,
   "metadata": {},
   "outputs": [
    {
     "data": {
      "text/html": [
       "<div>\n",
       "<style scoped>\n",
       "    .dataframe tbody tr th:only-of-type {\n",
       "        vertical-align: middle;\n",
       "    }\n",
       "\n",
       "    .dataframe tbody tr th {\n",
       "        vertical-align: top;\n",
       "    }\n",
       "\n",
       "    .dataframe thead th {\n",
       "        text-align: right;\n",
       "    }\n",
       "</style>\n",
       "<table border=\"1\" class=\"dataframe\">\n",
       "  <thead>\n",
       "    <tr style=\"text-align: right;\">\n",
       "      <th></th>\n",
       "      <th>Year</th>\n",
       "      <th>Player</th>\n",
       "      <th>Pos</th>\n",
       "      <th>HT</th>\n",
       "      <th>WT</th>\n",
       "      <th>Team</th>\n",
       "      <th>Selection Type</th>\n",
       "      <th>Nationality</th>\n",
       "      <th>Draft Year</th>\n",
       "      <th>Round</th>\n",
       "      <th>Pick</th>\n",
       "      <th>Conference</th>\n",
       "      <th>Years in League until All-Star Selection</th>\n",
       "    </tr>\n",
       "  </thead>\n",
       "  <tbody>\n",
       "    <tr>\n",
       "      <th>38</th>\n",
       "      <td>2015</td>\n",
       "      <td>Kobe Bryant</td>\n",
       "      <td>G</td>\n",
       "      <td>6'6</td>\n",
       "      <td>212</td>\n",
       "      <td>Los Angeles Lakers</td>\n",
       "      <td>Western All-Star Fan Vote Selection</td>\n",
       "      <td>United States</td>\n",
       "      <td>1996</td>\n",
       "      <td>1</td>\n",
       "      <td>13</td>\n",
       "      <td>West</td>\n",
       "      <td>19</td>\n",
       "    </tr>\n",
       "  </tbody>\n",
       "</table>\n",
       "</div>"
      ],
      "text/plain": [
       "    Year       Player Pos   HT   WT                Team  \\\n",
       "38  2015  Kobe Bryant   G  6'6  212  Los Angeles Lakers   \n",
       "\n",
       "                         Selection Type    Nationality  Draft Year Round Pick  \\\n",
       "38  Western All-Star Fan Vote Selection  United States        1996     1   13   \n",
       "\n",
       "   Conference  Years in League until All-Star Selection  \n",
       "38       West                                        19  "
      ]
     },
     "execution_count": 179,
     "metadata": {},
     "output_type": "execute_result"
    }
   ],
   "source": [
    "#Find the player with the most years in the league and selected as an All-Star\n",
    "\n",
    "# df['Years in League until All-Star Selection'].max()\n",
    "\n",
    "df.loc[df['Years in League until All-Star Selection'] == 19]"
   ]
  },
  {
   "cell_type": "markdown",
   "metadata": {},
   "source": [
    "In 2015, Kobe Bryant was the 'oldest' All-Star in terms of years playing in the NBA."
   ]
  },
  {
   "cell_type": "code",
   "execution_count": 3,
   "metadata": {},
   "outputs": [
    {
     "data": {
      "image/png": "[encoded data removed]",
      "text/plain": [
       "<Figure size 1080x576 with 1 Axes>"
      ]
     },
     "metadata": {
      "needs_background": "light"
     },
     "output_type": "display_data"
    },
    {
     "data": {
      "text/plain": [
       "<Figure size 432x288 with 0 Axes>"
      ]
     },
     "metadata": {},
     "output_type": "display_data"
    }
   ],
   "source": [
    "barWidth = 0.25 \n",
    "\n",
    "#Set Height of the bar \n",
    "center = [6, 3 , 4, 4, 3, 2, 3 , 2, 3, 2, 2,4, 3, 2, 2, 2, 3]\n",
    "\n",
    "forward = [13, 14, 13, 12, 14, 14, 15, 13 ,11 ,14, 13 , 11, 13, 13, 14, 14, 12]\n",
    "\n",
    "guard = [ 9, 9, 8, 8 , 7, 9 ,11, 11, 12, 12, 10, 10, 9, 10, 12, 10, 9]\n",
    "\n",
    "#Set position of the bar on the X Axis \n",
    "r1 = np.arange(len(center))\n",
    "r2 = [x + barWidth for x in r1]\n",
    "r3 = [x + barWidth for x in r2]\n",
    "\n",
    "# Adjust figure size \n",
    "plt.figure(figsize=(15,8))\n",
    "\n",
    "#Make Plot\n",
    "plt.bar(r1, center, color='violet', width= barWidth, label='Center')\n",
    "plt.bar(r2, forward, color='cornflowerblue', width= barWidth, label='Forward')\n",
    "plt.bar(r3, guard, color='purple', width= barWidth, label='Guard')\n",
    "\n",
    "\n",
    "\n",
    "\n",
    "#Add XTicks \n",
    "plt.xlabel('Year', fontweight ='bold', fontsize = 14)\n",
    "plt.ylabel('Frequency', fontweight= 'bold',  fontsize = 14)\n",
    "plt.title('Position Distribution from 2000 to 2016', fontsize = 18)\n",
    "plt.xticks([r + barWidth for r in range(len(center))], ['2000', '2001', '2002', '2003','2004', \n",
    "                                                '2005', '2006' ,'2007', '2008','2009', '2010', '2011','2012', '2013', '2014', '2015', '2016'], rotation= 90)\n",
    "plt.legend(fancybox=True, shadow= True, loc='upper right')\n",
    "plt.show()\n",
    "\n",
    "plt.savefig('positiondistribution.png')\n"
   ]
  },
  {
   "cell_type": "code",
   "execution_count": null,
   "metadata": {},
   "outputs": [],
   "source": []
  },
  {
   "cell_type": "code",
   "execution_count": null,
   "metadata": {},
   "outputs": [],
   "source": []
  }
 ],
 "metadata": {
  "kernelspec": {
   "display_name": "Python 3",
   "language": "python",
   "name": "python3"
  },
  "language_info": {
   "codemirror_mode": {
    "name": "ipython",
    "version": 3
   },
   "file_extension": ".py",
   "mimetype": "text/x-python",
   "name": "python",
   "nbconvert_exporter": "python",
   "pygments_lexer": "ipython3",
   "version": "3.7.3"
  }
 },
 "nbformat": 4,
 "nbformat_minor": 2
}
